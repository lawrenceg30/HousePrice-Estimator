{
 "cells": [
  {
   "cell_type": "code",
   "execution_count": 6,
   "metadata": {
    "id": "VyBec4XPV7ru"
   },
   "outputs": [],
   "source": [
    "import numpy as np\n",
    "import pandas as pd\n",
    "import glob\n",
    "import os\n",
    "import xgboost\n",
    "import csv as csv\n",
    "from xgboost import plot_importance\n",
    "from matplotlib import pyplot\n",
    "from sklearn.model_selection import cross_val_score,KFold\n",
    "from sklearn.model_selection import train_test_split\n",
    "from sklearn.metrics import mean_absolute_error\n",
    "import matplotlib.pyplot as plt\n",
    "# from sklearn.grid_search import GridSearchCV   #Perforing grid search\n",
    "from scipy.stats import skew\n",
    "from collections import OrderedDict"
   ]
  },
  {
   "cell_type": "code",
   "execution_count": 7,
   "metadata": {
    "colab": {
     "base_uri": "https://localhost:8080/"
    },
    "id": "nq9Qm8gyWIDh",
    "outputId": "9aab1c66-f26d-42db-e9fb-bfcd80484989",
    "scrolled": false
   },
   "outputs": [
    {
     "name": "stdout",
     "output_type": "stream",
     "text": [
      "   ID         SOLD DATE PROPERTY TYPE                  ADDRESS        CITY  \\\n",
      "0   0      July-28-2022   Condo/Co-op      3881 Carl Parmer Dr  Harrisburg   \n",
      "1   1    August-17-2022   Condo/Co-op        6419 Town Hall Pl  Harrisburg   \n",
      "2   2  February-10-2022   Condo/Co-op  1 Buffalo Ave NW Unit 7     Concord   \n",
      "3   3      March-4-2022   Condo/Co-op          476 Camrose Cir     Concord   \n",
      "4   4    October-8-2021   Condo/Co-op      4068 Town Center Rd  Harrisburg   \n",
      "\n",
      "  STATE OR PROVINCE ZIP OR POSTAL CODE   PRICE  BEDS  BATHS  \\\n",
      "0                NC              28075  258000   3.0    2.0   \n",
      "1                NC              28075  242000   3.0    2.0   \n",
      "2                NC              28025  102000   2.0    1.0   \n",
      "3                NC              28025  203000   2.0    1.5   \n",
      "4                NC              28075  170000   2.0    1.0   \n",
      "\n",
      "                 LOCATION  SQUARE FEET  LOT SIZE  YEAR BUILT  $/SQUARE FEET  \\\n",
      "0              Harrisburg       1181.0       NaN      2005.0          218.0   \n",
      "1  Harrisburg Town Center       1186.0       NaN      2002.0          204.0   \n",
      "2        Locke Mill Plaza        819.0       NaN      1890.0          125.0   \n",
      "3                 Oakleaf       1188.0     696.0      1981.0          171.0   \n",
      "4  Harrisburg Town Center        877.0       NaN      2002.0          194.0   \n",
      "\n",
      "   HOA/MONTH  \\\n",
      "0      223.0   \n",
      "1      223.0   \n",
      "2      150.0   \n",
      "3      145.0   \n",
      "4      230.0   \n",
      "\n",
      "  URL (SEE https://www.redfin.com/buy-a-home/comparative-market-analysis FOR INFO ON PRICING)  \\\n",
      "0  https://www.redfin.com/NC/Harrisburg/3881-Carl...                                            \n",
      "1  https://www.redfin.com/NC/Harrisburg/6419-Town...                                            \n",
      "2  https://www.redfin.com/NC/Concord/1-Buffalo-Av...                                            \n",
      "3  https://www.redfin.com/NC/Concord/476-Camrose-...                                            \n",
      "4  https://www.redfin.com/NC/Harrisburg/4068-Town...                                            \n",
      "\n",
      "    LATITUDE  LONGITUDE  \n",
      "0  35.326224 -80.642868  \n",
      "1  35.326115 -80.644037  \n",
      "2  35.418215 -80.589929  \n",
      "3  35.428529 -80.586957  \n",
      "4  35.327007 -80.644616  \n"
     ]
    }
   ],
   "source": [
    "dataFrame = pd.read_csv(\"./CombinedData.csv\", header = 0)\n",
    "dataFrame.insert(0, 'ID', range(0,len(dataFrame)))\n",
    "print(dataFrame.head())"
   ]
  },
  {
   "cell_type": "code",
   "execution_count": 8,
   "metadata": {},
   "outputs": [],
   "source": [
    "dataFrame = dataFrame[dataFrame['SQUARE FEET'].notna()]\n",
    "dataFrame = dataFrame[dataFrame['SOLD DATE'].notna()]\n",
    "dataFrame = dataFrame[dataFrame['ZIP OR POSTAL CODE'].notna()]"
   ]
  },
  {
   "cell_type": "code",
   "execution_count": 9,
   "metadata": {},
   "outputs": [],
   "source": [
    "dataFrame['SOLD DATE'] = pd.to_datetime(dataFrame['SOLD DATE']).apply(lambda x: x.value)"
   ]
  },
  {
   "cell_type": "code",
   "execution_count": 17,
   "metadata": {},
   "outputs": [],
   "source": [
    "dataFrame['ZIP OR POSTAL CODE'] = pd.Series([x.split('-')[0] if '-' in x else x for x in dataFrame['ZIP OR POSTAL CODE']])"
   ]
  },
  {
   "cell_type": "code",
   "execution_count": 17,
   "metadata": {},
   "outputs": [
    {
     "data": {
      "text/plain": [
       "0        1181.0\n",
       "1        1186.0\n",
       "2         819.0\n",
       "3        1188.0\n",
       "4         877.0\n",
       "          ...  \n",
       "78961    1055.0\n",
       "78965    1800.0\n",
       "78996    1552.0\n",
       "79020    2086.0\n",
       "79023    1555.0\n",
       "Name: SQUARE FEET, Length: 43872, dtype: float64"
      ]
     },
     "execution_count": 17,
     "metadata": {},
     "output_type": "execute_result"
    }
   ],
   "source": [
    "dataFrame['SQUARE FEET']"
   ]
  },
  {
   "cell_type": "code",
   "execution_count": 13,
   "metadata": {},
   "outputs": [
    {
     "data": {
      "text/plain": [
       "0        1658966400000000000\n",
       "1        1660694400000000000\n",
       "2        1644451200000000000\n",
       "3        1646352000000000000\n",
       "4        1633651200000000000\n",
       "                ...         \n",
       "78961    1641340800000000000\n",
       "78965    1646784000000000000\n",
       "78996    1637712000000000000\n",
       "79020    1637020800000000000\n",
       "79023    1637625600000000000\n",
       "Name: SOLD DATE, Length: 43872, dtype: int64"
      ]
     },
     "execution_count": 13,
     "metadata": {},
     "output_type": "execute_result"
    }
   ],
   "source": [
    "dataFrame['SOLD DATE']"
   ]
  },
  {
   "cell_type": "code",
   "execution_count": null,
   "metadata": {},
   "outputs": [],
   "source": []
  },
  {
   "cell_type": "code",
   "execution_count": 15,
   "metadata": {},
   "outputs": [],
   "source": [
    "dataFrame = dataFrame.drop(columns=[\"URL (SEE https://www.redfin.com/buy-a-home/comparative-market-analysis FOR INFO ON PRICING)\", \n",
    "                                    \"LOCATION\"])"
   ]
  },
  {
   "cell_type": "code",
   "execution_count": 16,
   "metadata": {
    "colab": {
     "base_uri": "https://localhost:8080/"
    },
    "id": "Q1KMCjLtm8pp",
    "outputId": "1b2871bf-5d44-49dd-e9e6-89c90c2d5abd"
   },
   "outputs": [
    {
     "name": "stdout",
     "output_type": "stream",
     "text": [
      "          ID            SOLD DATE              PROPERTY TYPE  \\\n",
      "76339  76339  1632268800000000000                  Townhouse   \n",
      "63064  63064  1634860800000000000  Single Family Residential   \n",
      "63990  63990  1641859200000000000  Single Family Residential   \n",
      "50587  50587  1632096000000000000  Single Family Residential   \n",
      "39283  39283  1630540800000000000  Single Family Residential   \n",
      "\n",
      "                               ADDRESS          CITY STATE OR PROVINCE  \\\n",
      "76339  10422 Glenmere Creek Cir Lot 17     Charlotte                NC   \n",
      "63064                6007 Graystone Dr   Chapel Hill                NC   \n",
      "63990                   2409 Summit Dr  Hillsborough                NC   \n",
      "50587                204 Lake Shore Dr        Benson                NC   \n",
      "39283                   203 Cottage Ln        Durham                NC   \n",
      "\n",
      "      ZIP OR POSTAL CODE    PRICE  BEDS  BATHS  SQUARE FEET  LOT SIZE  \\\n",
      "76339              28262   382500   3.0    2.5       2262.0    1742.0   \n",
      "63064              27514  1197500   4.0    4.5       5854.0   92347.0   \n",
      "63990              27278   410000   4.0    2.5       2235.0   12196.0   \n",
      "50587              27504   405000   4.0    3.0       3000.0   21780.0   \n",
      "39283              27713   310000   3.0    2.0       1600.0    5227.0   \n",
      "\n",
      "       YEAR BUILT  $/SQUARE FEET  HOA/MONTH   LATITUDE  LONGITUDE  \n",
      "76339      2021.0          169.0      190.0  35.336248 -80.752838  \n",
      "63064      2005.0          205.0        NaN  35.996286 -79.068876  \n",
      "63990      2003.0          183.0       25.0  36.048748 -79.084519  \n",
      "50587      2016.0          135.0       25.0  35.393177 -78.548399  \n",
      "39283      1986.0          194.0      170.0  35.911809 -78.946789  \n"
     ]
    }
   ],
   "source": [
    "train_dataset, test_dataset = train_test_split(dataFrame, test_size=.3)\n",
    "print(train_dataset.head())"
   ]
  },
  {
   "cell_type": "code",
   "execution_count": 17,
   "metadata": {
    "colab": {
     "base_uri": "https://localhost:8080/",
     "height": 300
    },
    "id": "FEnBM_Y4lKbp",
    "outputId": "f3b2a858-39da-4f71-b8a0-273c5f0a68ce"
   },
   "outputs": [
    {
     "data": {
      "text/html": [
       "<div>\n",
       "<style scoped>\n",
       "    .dataframe tbody tr th:only-of-type {\n",
       "        vertical-align: middle;\n",
       "    }\n",
       "\n",
       "    .dataframe tbody tr th {\n",
       "        vertical-align: top;\n",
       "    }\n",
       "\n",
       "    .dataframe thead th {\n",
       "        text-align: right;\n",
       "    }\n",
       "</style>\n",
       "<table border=\"1\" class=\"dataframe\">\n",
       "  <thead>\n",
       "    <tr style=\"text-align: right;\">\n",
       "      <th></th>\n",
       "      <th>ID</th>\n",
       "      <th>SOLD DATE</th>\n",
       "      <th>PRICE</th>\n",
       "      <th>BEDS</th>\n",
       "      <th>BATHS</th>\n",
       "      <th>SQUARE FEET</th>\n",
       "      <th>LOT SIZE</th>\n",
       "      <th>YEAR BUILT</th>\n",
       "      <th>$/SQUARE FEET</th>\n",
       "      <th>HOA/MONTH</th>\n",
       "      <th>LATITUDE</th>\n",
       "      <th>LONGITUDE</th>\n",
       "    </tr>\n",
       "  </thead>\n",
       "  <tbody>\n",
       "    <tr>\n",
       "      <th>count</th>\n",
       "      <td>30710.000000</td>\n",
       "      <td>3.071000e+04</td>\n",
       "      <td>3.071000e+04</td>\n",
       "      <td>30691.000000</td>\n",
       "      <td>30695.000000</td>\n",
       "      <td>30710.000000</td>\n",
       "      <td>2.893900e+04</td>\n",
       "      <td>30692.000000</td>\n",
       "      <td>30710.000000</td>\n",
       "      <td>15882.000000</td>\n",
       "      <td>30710.000000</td>\n",
       "      <td>30710.000000</td>\n",
       "    </tr>\n",
       "    <tr>\n",
       "      <th>mean</th>\n",
       "      <td>39149.569000</td>\n",
       "      <td>1.646048e+18</td>\n",
       "      <td>4.257931e+05</td>\n",
       "      <td>3.265192</td>\n",
       "      <td>2.448982</td>\n",
       "      <td>2074.794855</td>\n",
       "      <td>5.120268e+04</td>\n",
       "      <td>1994.250586</td>\n",
       "      <td>210.687952</td>\n",
       "      <td>104.495655</td>\n",
       "      <td>35.600316</td>\n",
       "      <td>-80.205816</td>\n",
       "    </tr>\n",
       "    <tr>\n",
       "      <th>std</th>\n",
       "      <td>21944.382113</td>\n",
       "      <td>9.139573e+15</td>\n",
       "      <td>2.942860e+05</td>\n",
       "      <td>0.930855</td>\n",
       "      <td>0.878706</td>\n",
       "      <td>970.366583</td>\n",
       "      <td>2.244734e+06</td>\n",
       "      <td>28.259590</td>\n",
       "      <td>473.735267</td>\n",
       "      <td>105.963528</td>\n",
       "      <td>0.301232</td>\n",
       "      <td>1.251453</td>\n",
       "    </tr>\n",
       "    <tr>\n",
       "      <th>min</th>\n",
       "      <td>0.000000</td>\n",
       "      <td>1.630454e+18</td>\n",
       "      <td>2.450000e+02</td>\n",
       "      <td>0.000000</td>\n",
       "      <td>0.500000</td>\n",
       "      <td>2.000000</td>\n",
       "      <td>1.000000e+01</td>\n",
       "      <td>1647.000000</td>\n",
       "      <td>0.000000</td>\n",
       "      <td>1.000000</td>\n",
       "      <td>35.016758</td>\n",
       "      <td>-82.867112</td>\n",
       "    </tr>\n",
       "    <tr>\n",
       "      <th>25%</th>\n",
       "      <td>20979.750000</td>\n",
       "      <td>1.638144e+18</td>\n",
       "      <td>2.789900e+05</td>\n",
       "      <td>3.000000</td>\n",
       "      <td>2.000000</td>\n",
       "      <td>1408.000000</td>\n",
       "      <td>7.405000e+03</td>\n",
       "      <td>1979.000000</td>\n",
       "      <td>161.000000</td>\n",
       "      <td>30.000000</td>\n",
       "      <td>35.352807</td>\n",
       "      <td>-80.895258</td>\n",
       "    </tr>\n",
       "    <tr>\n",
       "      <th>50%</th>\n",
       "      <td>40829.500000</td>\n",
       "      <td>1.646266e+18</td>\n",
       "      <td>3.670000e+05</td>\n",
       "      <td>3.000000</td>\n",
       "      <td>2.500000</td>\n",
       "      <td>1856.000000</td>\n",
       "      <td>1.306800e+04</td>\n",
       "      <td>2003.000000</td>\n",
       "      <td>193.000000</td>\n",
       "      <td>65.000000</td>\n",
       "      <td>35.579651</td>\n",
       "      <td>-80.625299</td>\n",
       "    </tr>\n",
       "    <tr>\n",
       "      <th>75%</th>\n",
       "      <td>56308.500000</td>\n",
       "      <td>1.653955e+18</td>\n",
       "      <td>4.840990e+05</td>\n",
       "      <td>4.000000</td>\n",
       "      <td>3.000000</td>\n",
       "      <td>2527.000000</td>\n",
       "      <td>2.744200e+04</td>\n",
       "      <td>2018.000000</td>\n",
       "      <td>233.000000</td>\n",
       "      <td>155.000000</td>\n",
       "      <td>35.869880</td>\n",
       "      <td>-78.940903</td>\n",
       "    </tr>\n",
       "    <tr>\n",
       "      <th>max</th>\n",
       "      <td>78996.000000</td>\n",
       "      <td>1.661990e+18</td>\n",
       "      <td>6.800000e+06</td>\n",
       "      <td>32.000000</td>\n",
       "      <td>32.000000</td>\n",
       "      <td>17988.000000</td>\n",
       "      <td>3.775781e+08</td>\n",
       "      <td>2023.000000</td>\n",
       "      <td>62500.000000</td>\n",
       "      <td>3500.000000</td>\n",
       "      <td>36.538558</td>\n",
       "      <td>-78.086563</td>\n",
       "    </tr>\n",
       "  </tbody>\n",
       "</table>\n",
       "</div>"
      ],
      "text/plain": [
       "                 ID     SOLD DATE         PRICE          BEDS         BATHS  \\\n",
       "count  30710.000000  3.071000e+04  3.071000e+04  30691.000000  30695.000000   \n",
       "mean   39149.569000  1.646048e+18  4.257931e+05      3.265192      2.448982   \n",
       "std    21944.382113  9.139573e+15  2.942860e+05      0.930855      0.878706   \n",
       "min        0.000000  1.630454e+18  2.450000e+02      0.000000      0.500000   \n",
       "25%    20979.750000  1.638144e+18  2.789900e+05      3.000000      2.000000   \n",
       "50%    40829.500000  1.646266e+18  3.670000e+05      3.000000      2.500000   \n",
       "75%    56308.500000  1.653955e+18  4.840990e+05      4.000000      3.000000   \n",
       "max    78996.000000  1.661990e+18  6.800000e+06     32.000000     32.000000   \n",
       "\n",
       "        SQUARE FEET      LOT SIZE    YEAR BUILT  $/SQUARE FEET     HOA/MONTH  \\\n",
       "count  30710.000000  2.893900e+04  30692.000000   30710.000000  15882.000000   \n",
       "mean    2074.794855  5.120268e+04   1994.250586     210.687952    104.495655   \n",
       "std      970.366583  2.244734e+06     28.259590     473.735267    105.963528   \n",
       "min        2.000000  1.000000e+01   1647.000000       0.000000      1.000000   \n",
       "25%     1408.000000  7.405000e+03   1979.000000     161.000000     30.000000   \n",
       "50%     1856.000000  1.306800e+04   2003.000000     193.000000     65.000000   \n",
       "75%     2527.000000  2.744200e+04   2018.000000     233.000000    155.000000   \n",
       "max    17988.000000  3.775781e+08   2023.000000   62500.000000   3500.000000   \n",
       "\n",
       "           LATITUDE     LONGITUDE  \n",
       "count  30710.000000  30710.000000  \n",
       "mean      35.600316    -80.205816  \n",
       "std        0.301232      1.251453  \n",
       "min       35.016758    -82.867112  \n",
       "25%       35.352807    -80.895258  \n",
       "50%       35.579651    -80.625299  \n",
       "75%       35.869880    -78.940903  \n",
       "max       36.538558    -78.086563  "
      ]
     },
     "execution_count": 17,
     "metadata": {},
     "output_type": "execute_result"
    }
   ],
   "source": [
    "category_features = ['PROPERTY TYPE', 'CITY', 'ADDRESS', 'STATE OR PROVINCE', 'ZIP OR POSTAL CODE']\n",
    "every_column_except_y = [col for col in train_dataset.columns if col not in [ 'PRICE', 'ID']]\n",
    "train_dataset.describe()"
   ]
  },
  {
   "cell_type": "code",
   "execution_count": 18,
   "metadata": {
    "id": "53bNVTA5qYHU"
   },
   "outputs": [
    {
     "name": "stderr",
     "output_type": "stream",
     "text": [
      "c:\\python39\\lib\\site-packages\\pandas\\core\\frame.py:3641: SettingWithCopyWarning: \n",
      "A value is trying to be set on a copy of a slice from a DataFrame.\n",
      "Try using .loc[row_indexer,col_indexer] = value instead\n",
      "\n",
      "See the caveats in the documentation: https://pandas.pydata.org/pandas-docs/stable/user_guide/indexing.html#returning-a-view-versus-a-copy\n",
      "  self[k1] = value[k2]\n"
     ]
    }
   ],
   "source": [
    "non_categorical_columns = [col for col in train_dataset.columns if col not in category_features and col not in ['ID']]\n",
    "numeric_features = train_dataset[non_categorical_columns].dtypes[train_dataset.dtypes != \"object\"].index\n",
    "train_dataset[numeric_features] = np.log1p(train_dataset[numeric_features])\n",
    "\n",
    "non_categorical_columns = [col for col in test_dataset.columns if col not in category_features and col not in ['ID']]\n",
    "numeric_features = test_dataset[non_categorical_columns].dtypes[test_dataset.dtypes != \"object\"].index\n",
    "test_dataset[numeric_features] = np.log1p(test_dataset[numeric_features])"
   ]
  },
  {
   "cell_type": "code",
   "execution_count": 19,
   "metadata": {
    "id": "xmM_PE-qsWcY"
   },
   "outputs": [],
   "source": [
    "# nan_features = ['LOCATION']\n",
    "# def ConvertToNAString(data, columnsList):\n",
    "#     for x in columnsList:\n",
    "#         data[x] = str(data[x])\n",
    "# ConvertToNAString(train_dataset, nan_features)\n",
    "# ConvertToNAString(test_dataset, nan_features)"
   ]
  },
  {
   "cell_type": "code",
   "execution_count": 20,
   "metadata": {
    "id": "fYFU5X6xXkQ2"
   },
   "outputs": [],
   "source": [
    "def createColumnPerValue(data, columnsList):\n",
    "  for x in columnsList:\n",
    "    values = pd.unique(data[x])\n",
    "\n",
    "    for y in values: \n",
    "      column_name = x + \"_\" + str(y)\n",
    "      data[column_name]=(data[x]==y).astype(float)\n",
    "    \n",
    "    data.drop(x, axis=1, inplace=True)\n",
    "    \n",
    "train_dataset = pd.get_dummies(train_dataset,columns =category_features)\n",
    "test_dataset = pd.get_dummies(test_dataset,columns =category_features)"
   ]
  },
  {
   "cell_type": "code",
   "execution_count": 21,
   "metadata": {},
   "outputs": [],
   "source": [
    "model = xgboost.XGBRegressor(colsample_bytree=0.4,\n",
    "                 gamma=0,                 \n",
    "                 learning_rate=0.07,\n",
    "                 max_depth=3,\n",
    "                 min_child_weight=1.5,\n",
    "                 n_estimators=10000,                                                                    \n",
    "                 reg_alpha=0.75,\n",
    "                 reg_lambda=0.45,\n",
    "                 subsample=0.6,\n",
    "                 seed=42) "
   ]
  },
  {
   "cell_type": "code",
   "execution_count": 22,
   "metadata": {},
   "outputs": [
    {
     "data": {
      "text/plain": [
       "76339    41.936503\n",
       "63064    41.938089\n",
       "63990    41.942361\n",
       "50587    41.936397\n",
       "39283    41.935443\n",
       "           ...    \n",
       "75545    41.937349\n",
       "23169    41.948656\n",
       "40619    41.946143\n",
       "54801    41.935390\n",
       "11329    41.938459\n",
       "Name: SOLD DATE, Length: 30710, dtype: float64"
      ]
     },
     "execution_count": 22,
     "metadata": {},
     "output_type": "execute_result"
    }
   ],
   "source": [
    "train_dataset['SOLD DATE']"
   ]
  },
  {
   "cell_type": "code",
   "execution_count": 23,
   "metadata": {
    "scrolled": true
   },
   "outputs": [],
   "source": [
    "#df['time'] = df['time'].apply(lambda x: x.value)"
   ]
  },
  {
   "cell_type": "code",
   "execution_count": 24,
   "metadata": {},
   "outputs": [
    {
     "data": {
      "text/plain": [
       "Index(['ID', 'SOLD DATE', 'PRICE', 'BEDS', 'BATHS', 'SQUARE FEET', 'LOT SIZE',\n",
       "       'YEAR BUILT', '$/SQUARE FEET', 'HOA/MONTH',\n",
       "       ...\n",
       "       'ZIP OR POSTAL CODE_28803', 'ZIP OR POSTAL CODE_28804',\n",
       "       'ZIP OR POSTAL CODE_28805', 'ZIP OR POSTAL CODE_28806',\n",
       "       'ZIP OR POSTAL CODE_28816', 'ZIP OR POSTAL CODE_29269',\n",
       "       'ZIP OR POSTAL CODE_29482', 'ZIP OR POSTAL CODE_29710',\n",
       "       'ZIP OR POSTAL CODE_57510', 'ZIP OR POSTAL CODE_98078'],\n",
       "      dtype='object', length=32188)"
      ]
     },
     "execution_count": 24,
     "metadata": {},
     "output_type": "execute_result"
    }
   ],
   "source": [
    "train_dataset.columns"
   ]
  },
  {
   "cell_type": "code",
   "execution_count": 25,
   "metadata": {},
   "outputs": [
    {
     "data": {
      "text/plain": [
       "76339    12.854487\n",
       "63064    13.995747\n",
       "63990    12.923915\n",
       "50587    12.911645\n",
       "39283    12.644331\n",
       "           ...    \n",
       "75545    12.259618\n",
       "23169    13.270785\n",
       "40619    12.742569\n",
       "54801    12.409018\n",
       "11329    12.128117\n",
       "Name: PRICE, Length: 30710, dtype: float64"
      ]
     },
     "execution_count": 25,
     "metadata": {},
     "output_type": "execute_result"
    }
   ],
   "source": [
    "train_dataset['PRICE']"
   ]
  },
  {
   "cell_type": "code",
   "execution_count": null,
   "metadata": {
    "scrolled": true
   },
   "outputs": [],
   "source": [
    "every_column_except_y= [col for col in train_dataset.columns if col not in ['PRICE','ID']]\n",
    "model.fit(train_dataset[every_column_except_y].head(5),train_dataset['PRICE'].head(5))\n",
    "OrderedDict(sorted(model.booster().get_fscore().items(), key=lambda t: t[1], reverse=True))"
   ]
  },
  {
   "cell_type": "code",
   "execution_count": null,
   "metadata": {},
   "outputs": [],
   "source": []
  }
 ],
 "metadata": {
  "colab": {
   "collapsed_sections": [],
   "provenance": []
  },
  "kernelspec": {
   "display_name": "Python 3 (ipykernel)",
   "language": "python",
   "name": "python3"
  },
  "language_info": {
   "codemirror_mode": {
    "name": "ipython",
    "version": 3
   },
   "file_extension": ".py",
   "mimetype": "text/x-python",
   "name": "python",
   "nbconvert_exporter": "python",
   "pygments_lexer": "ipython3",
   "version": "3.9.2"
  }
 },
 "nbformat": 4,
 "nbformat_minor": 1
}
