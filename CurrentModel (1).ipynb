{
 "cells": [
  {
   "cell_type": "markdown",
   "metadata": {
    "id": "VyBec4XPV7ru"
   },
   "source": [
    "# Relevant Imports"
   ]
  },
  {
   "cell_type": "code",
   "execution_count": 1,
   "metadata": {},
   "outputs": [],
   "source": [
    "import numpy as np\n",
    "import pandas as pd\n",
    "import glob\n",
    "import os\n",
    "import xgboost\n",
    "import csv as csv\n",
    "#import ipychart as ipc\n",
    "from xgboost import plot_importance\n",
    "from matplotlib import pyplot\n",
    "from sklearn.model_selection import cross_val_score,KFold\n",
    "from sklearn.model_selection import train_test_split\n",
    "from sklearn.metrics import mean_absolute_error\n",
    "from sklearn.metrics import accuracy_score\n",
    "import matplotlib.pyplot as plt\n",
    "# from sklearn.grid_search import GridSearchCV   #Perforing grid search\n",
    "from scipy.stats import skew\n",
    "from collections import OrderedDict"
   ]
  },
  {
   "cell_type": "code",
   "execution_count": 2,
   "metadata": {
    "colab": {
     "base_uri": "https://localhost:8080/"
    },
    "id": "nq9Qm8gyWIDh",
    "outputId": "9aab1c66-f26d-42db-e9fb-bfcd80484989",
    "scrolled": true
   },
   "outputs": [
    {
     "name": "stdout",
     "output_type": "stream",
     "text": [
      "      ID         SOLD DATE              PROPERTY TYPE  \\\n",
      "0  59483   January-31-2022  Single Family Residential   \n",
      "1  57536               NaN  Single Family Residential   \n",
      "2   1965  February-11-2022                Condo/Co-op   \n",
      "3  65389    August-31-2022  Single Family Residential   \n",
      "4  24940        May-4-2022  Single Family Residential   \n",
      "\n",
      "                   ADDRESS         CITY STATE OR PROVINCE ZIP OR POSTAL CODE  \\\n",
      "0          179 Shumaker Dr  Statesville                NC              28625   \n",
      "1     902 S Williamson Ave         Elon                NC              27244   \n",
      "2  300 Orchard Trace Ln #2    Charlotte                NC              28213   \n",
      "3           4240 Oakton Dr   High Point                NC              27265   \n",
      "4          25 Muirfield Dr        Arden                NC              28704   \n",
      "\n",
      "    PRICE  BEDS  BATHS         LOCATION  SQUARE FEET  LOT SIZE  YEAR BUILT  \\\n",
      "0  205000   2.0    1.0  Iredell Heights       1200.0   41382.0      1959.0   \n",
      "1  220000   3.0    1.5              NaN       1489.0   21475.0      1981.0   \n",
      "2  112500   3.0    2.0    Orchard Trace        989.0       NaN      1974.0   \n",
      "3  501999   4.0    3.0        Erynndale          NaN    6969.0      2021.0   \n",
      "4  455000   3.0    3.0        Brookwood       2093.0   20037.0      1977.0   \n",
      "\n",
      "   $/SQUARE FEET  HOA/MONTH  \\\n",
      "0          171.0        NaN   \n",
      "1          148.0        NaN   \n",
      "2          114.0      290.0   \n",
      "3          161.0       50.0   \n",
      "4          217.0        2.0   \n",
      "\n",
      "  URL (SEE https://www.redfin.com/buy-a-home/comparative-market-analysis FOR INFO ON PRICING)  \\\n",
      "0  https://www.redfin.com/NC/Statesville/179-Shum...                                            \n",
      "1  https://www.redfin.com/NC/Elon/902-S-Williamso...                                            \n",
      "2  https://www.redfin.com/NC/Charlotte/300-Orchar...                                            \n",
      "3  https://www.redfin.com/NC/High-Point/4240-Oakt...                                            \n",
      "4  https://www.redfin.com/NC/Arden/25-Muirfield-D...                                            \n",
      "\n",
      "    LATITUDE  LONGITUDE  \n",
      "0  35.838386 -80.875418  \n",
      "1  36.083642 -79.513159  \n",
      "2  35.282802 -80.767883  \n",
      "3  36.048490 -80.001639  \n",
      "4  35.480168 -82.498550  \n"
     ]
    }
   ],
   "source": [
    "dataFrame = pd.read_csv(\"./CombinedData.csv\", header = 0, low_memory=False)\n",
    "dataFrame.insert(0, 'ID', range(0,len(dataFrame)))\n",
    "dataFrame = dataFrame.sample(frac=1).reset_index(drop=True)\n",
    "print(dataFrame.head())"
   ]
  },
  {
   "cell_type": "code",
   "execution_count": 3,
   "metadata": {},
   "outputs": [],
   "source": [
    "dataFrame = dataFrame[dataFrame['SQUARE FEET'].notna()]\n",
    "dataFrame = dataFrame[dataFrame['SOLD DATE'].notna()]\n",
    "dataFrame = dataFrame[dataFrame['ZIP OR POSTAL CODE'].notna()]\n",
    "dataFrame = dataFrame[dataFrame['YEAR BUILT'].notna()]\n",
    "#dataFrame = dataFrame[dataFrame['LOCATION'].notna()]\n",
    "dataFrame['SOLD DATE'] = pd.to_datetime(dataFrame['SOLD DATE']).apply(lambda x: x.value)"
   ]
  },
  {
   "cell_type": "markdown",
   "metadata": {},
   "source": [
    "# Normalizing DataFrame Data"
   ]
  },
  {
   "cell_type": "code",
   "execution_count": 4,
   "metadata": {},
   "outputs": [],
   "source": [
    "dataFrame['ZIP OR POSTAL CODE'] = pd.Series([int(x.split('-')[0].split(' ')[0]) if '-' in x or ' ' in x else int(x) for x in dataFrame['ZIP OR POSTAL CODE']])\n",
    "\n",
    "dataFrame = dataFrame.drop(columns=[\"URL (SEE https://www.redfin.com/buy-a-home/comparative-market-analysis FOR INFO ON PRICING)\", \n",
    "                                   'CITY', 'STATE OR PROVINCE', 'ADDRESS', '$/SQUARE FEET'])\n",
    "# dataFrame['ZIP OR POSTAL CODE'] = dataFrame['ZIP OR POSTAL CODE'].astype(int)\n",
    "df = dataFrame.copy(deep=True)"
   ]
  },
  {
   "cell_type": "code",
   "execution_count": 5,
   "metadata": {},
   "outputs": [],
   "source": [
    "h = dataFrame['PRICE'].quantile(0.99)\n",
    "l = dataFrame['PRICE'].quantile(0.01)\n",
    "dataFrame = dataFrame[(dataFrame[\"PRICE\"] < h) & (dataFrame[\"PRICE\"] > l)]"
   ]
  },
  {
   "cell_type": "code",
   "execution_count": 6,
   "metadata": {},
   "outputs": [],
   "source": [
    "category_features = ['PROPERTY TYPE', 'LOCATION']\n",
    "labels = dataFrame['PRICE']\n",
    "training = dataFrame.drop(['ID'], axis = 1)"
   ]
  },
  {
   "cell_type": "markdown",
   "metadata": {},
   "source": [
    "# Manipulating non-normalized dataframe"
   ]
  },
  {
   "cell_type": "code",
   "execution_count": 7,
   "metadata": {},
   "outputs": [],
   "source": [
    "df['SOLD DATE'] = pd.to_datetime(df['SOLD DATE'])"
   ]
  },
  {
   "cell_type": "code",
   "execution_count": 8,
   "metadata": {},
   "outputs": [],
   "source": [
    "nan_features = ['LOCATION']\n",
    "def ConvertToNAString(data, columnsList):\n",
    "    for x in columnsList:\n",
    "        data[x].apply(lambda x: x if x else 'NA')\n",
    "ConvertToNAString(training, nan_features)"
   ]
  },
  {
   "cell_type": "code",
   "execution_count": 9,
   "metadata": {},
   "outputs": [
    {
     "data": {
      "text/plain": [
       "Index(['SOLD DATE', 'PROPERTY TYPE', 'ZIP OR POSTAL CODE', 'PRICE', 'BEDS',\n",
       "       'BATHS', 'LOCATION', 'SQUARE FEET', 'LOT SIZE', 'YEAR BUILT',\n",
       "       'HOA/MONTH', 'LATITUDE', 'LONGITUDE'],\n",
       "      dtype='object')"
      ]
     },
     "execution_count": 9,
     "metadata": {},
     "output_type": "execute_result"
    }
   ],
   "source": [
    "training.columns"
   ]
  },
  {
   "cell_type": "code",
   "execution_count": 10,
   "metadata": {},
   "outputs": [
    {
     "data": {
      "text/plain": [
       "0           Iredell Heights\n",
       "2             Orchard Trace\n",
       "4                 Brookwood\n",
       "5        Ridgehaven Estates\n",
       "7             Eagle Heights\n",
       "                ...        \n",
       "79030       Western Heights\n",
       "79031             Swannanoa\n",
       "79032     Chancellors Ridge\n",
       "79034           Alder Ridge\n",
       "79035            The Valley\n",
       "Name: LOCATION, Length: 42945, dtype: object"
      ]
     },
     "execution_count": 10,
     "metadata": {},
     "output_type": "execute_result"
    }
   ],
   "source": [
    "training['LOCATION']"
   ]
  },
  {
   "cell_type": "code",
   "execution_count": 11,
   "metadata": {},
   "outputs": [],
   "source": [
    "non_categorical_columns = [col for col in training.columns if col not in category_features and col not in ['ID']]\n",
    "numeric_features = training[non_categorical_columns].dtypes[training.dtypes != \"object\"].index\n",
    "training[numeric_features] = np.log1p(training[numeric_features])"
   ]
  },
  {
   "cell_type": "code",
   "execution_count": 12,
   "metadata": {},
   "outputs": [],
   "source": [
    "training = pd.get_dummies(training, columns=category_features)"
   ]
  },
  {
   "cell_type": "code",
   "execution_count": 13,
   "metadata": {},
   "outputs": [
    {
     "data": {
      "text/plain": [
       "Index(['SOLD DATE', 'ZIP OR POSTAL CODE', 'PRICE', 'BEDS', 'BATHS',\n",
       "       'SQUARE FEET', 'LOT SIZE', 'YEAR BUILT', 'HOA/MONTH', 'LATITUDE',\n",
       "       ...\n",
       "       'LOCATION_vermillion', 'LOCATION_villages at Rosedale',\n",
       "       'LOCATION_waters Edge', 'LOCATION_west asheville', 'LOCATION_wexford',\n",
       "       'LOCATION_white oaks estates', 'LOCATION_windsor grove',\n",
       "       'LOCATION_windstone Crossing', 'LOCATION_windy hill farms',\n",
       "       'LOCATION_woodland hills'],\n",
       "      dtype='object', length=6730)"
      ]
     },
     "execution_count": 13,
     "metadata": {},
     "output_type": "execute_result"
    }
   ],
   "source": [
    "training.columns"
   ]
  },
  {
   "cell_type": "code",
   "execution_count": 14,
   "metadata": {
    "colab": {
     "base_uri": "https://localhost:8080/"
    },
    "id": "Q1KMCjLtm8pp",
    "outputId": "1b2871bf-5d44-49dd-e9e6-89c90c2d5abd",
    "scrolled": true
   },
   "outputs": [],
   "source": [
    "X_train, X_test, y_train, y_test = train_test_split(training, labels, test_size=.3)\n",
    "train_dataset = X_train\n",
    "test_dataset = X_test\n",
    "# train_dataset = pd.get_dummies(X_train,columns=category_features)\n",
    "# test_dataset = pd.get_dummies(X_test,columns=category_features)\n",
    "\n",
    "every_column_except_y= [col for col in train_dataset.columns if col not in ['PRICE','ID']]\n",
    "train_X = train_dataset[every_column_except_y]\n",
    "every_column_except_y= [col for col in test_dataset.columns if col not in ['PRICE','ID']]\n",
    "test_X = test_dataset[every_column_except_y]\n",
    "train_Y = train_dataset['PRICE']\n",
    "test_Y = test_dataset['PRICE']"
   ]
  },
  {
   "cell_type": "code",
   "execution_count": null,
   "metadata": {},
   "outputs": [],
   "source": []
  },
  {
   "cell_type": "code",
   "execution_count": 15,
   "metadata": {
    "id": "53bNVTA5qYHU"
   },
   "outputs": [],
   "source": [
    "\n",
    "\n",
    "# non_categorical_columns = [col for col in test_X.columns if col not in category_features and col not in ['ID']]\n",
    "# numeric_features = test_X[non_categorical_columns].dtypes[test_X.dtypes != \"object\"].index\n",
    "# test_X[numeric_features] = np.log1p(test_X[numeric_features])"
   ]
  },
  {
   "cell_type": "code",
   "execution_count": 16,
   "metadata": {},
   "outputs": [
    {
     "data": {
      "text/plain": [
       "28973    13.165812\n",
       "18323    13.790194\n",
       "38055    13.151924\n",
       "32980    12.160034\n",
       "61262    13.910822\n",
       "           ...    \n",
       "51659    12.736410\n",
       "22295    13.028055\n",
       "7778     12.524530\n",
       "32972    12.350177\n",
       "54069    12.345839\n",
       "Name: PRICE, Length: 30061, dtype: float64"
      ]
     },
     "execution_count": 16,
     "metadata": {},
     "output_type": "execute_result"
    }
   ],
   "source": [
    "train_Y"
   ]
  },
  {
   "cell_type": "code",
   "execution_count": 17,
   "metadata": {
    "id": "xmM_PE-qsWcY"
   },
   "outputs": [
    {
     "data": {
      "text/plain": [
       "Index(['SOLD DATE', 'ZIP OR POSTAL CODE', 'BEDS', 'BATHS', 'SQUARE FEET',\n",
       "       'LOT SIZE', 'YEAR BUILT', 'HOA/MONTH', 'LATITUDE', 'LONGITUDE',\n",
       "       ...\n",
       "       'LOCATION_vermillion', 'LOCATION_villages at Rosedale',\n",
       "       'LOCATION_waters Edge', 'LOCATION_west asheville', 'LOCATION_wexford',\n",
       "       'LOCATION_white oaks estates', 'LOCATION_windsor grove',\n",
       "       'LOCATION_windstone Crossing', 'LOCATION_windy hill farms',\n",
       "       'LOCATION_woodland hills'],\n",
       "      dtype='object', length=6729)"
      ]
     },
     "execution_count": 17,
     "metadata": {},
     "output_type": "execute_result"
    }
   ],
   "source": [
    "train_X.columns"
   ]
  },
  {
   "cell_type": "code",
   "execution_count": 18,
   "metadata": {
    "id": "fYFU5X6xXkQ2"
   },
   "outputs": [],
   "source": [
    "def createColumnPerValue(data, columnsList):\n",
    "  for x in columnsList:\n",
    "    values = pd.unique(data[x])\n",
    "\n",
    "    for y in values: \n",
    "      column_name = x + \"_\" + str(y)\n",
    "      data[column_name]=(data[x]==y).astype(float)\n",
    "    \n",
    "    data.drop(x, axis=1, inplace=True)\n",
    "\n"
   ]
  },
  {
   "cell_type": "markdown",
   "metadata": {},
   "source": [
    "# Establish ML model"
   ]
  },
  {
   "cell_type": "code",
   "execution_count": 19,
   "metadata": {},
   "outputs": [],
   "source": [
    " model = xgboost.XGBRegressor(colsample_bytree=0.4,\n",
    "                 gamma=0,                 \n",
    "                 learning_rate=0.07,\n",
    "                 max_depth=3,\n",
    "                 tree_method='gpu_hist', \n",
    "                 gpu_id=0,\n",
    "                 min_child_weight=1.5,\n",
    "                 n_estimators=10000,                                                                    \n",
    "                 reg_alpha=0.75,\n",
    "                 reg_lambda=0.45,\n",
    "                 subsample=0.6,\n",
    "                 seed=42) \n",
    "# model = xgboost.XGBRegressor()\n",
    "# model.load_model(\"CurrentModel.json\")"
   ]
  },
  {
   "cell_type": "code",
   "execution_count": 20,
   "metadata": {
    "scrolled": true
   },
   "outputs": [
    {
     "name": "stdout",
     "output_type": "stream",
     "text": [
      "Index(['SOLD DATE', 'ZIP OR POSTAL CODE', 'PRICE', 'BEDS', 'BATHS',\n",
      "       'SQUARE FEET', 'LOT SIZE', 'YEAR BUILT', 'HOA/MONTH', 'LATITUDE',\n",
      "       ...\n",
      "       'LOCATION_vermillion', 'LOCATION_villages at Rosedale',\n",
      "       'LOCATION_waters Edge', 'LOCATION_west asheville', 'LOCATION_wexford',\n",
      "       'LOCATION_white oaks estates', 'LOCATION_windsor grove',\n",
      "       'LOCATION_windstone Crossing', 'LOCATION_windy hill farms',\n",
      "       'LOCATION_woodland hills'],\n",
      "      dtype='object', length=6730)\n"
     ]
    }
   ],
   "source": [
    "#df['time'] = df['time'].apply(lambda x: x.value)\n",
    "print(train_dataset.columns)"
   ]
  },
  {
   "cell_type": "code",
   "execution_count": 21,
   "metadata": {},
   "outputs": [
    {
     "name": "stdout",
     "output_type": "stream",
     "text": [
      "28973     522202\n",
      "18323     975000\n",
      "38055     515000\n",
      "32980     191000\n",
      "61262    1100000\n",
      "          ...   \n",
      "51659     339900\n",
      "22295     455000\n",
      "7778      275000\n",
      "32972     231000\n",
      "54069     230000\n",
      "Name: PRICE, Length: 30061, dtype: int64\n"
     ]
    }
   ],
   "source": [
    "print(y_train)"
   ]
  },
  {
   "cell_type": "code",
   "execution_count": 22,
   "metadata": {
    "scrolled": true
   },
   "outputs": [
    {
     "data": {
      "text/plain": [
       "OrderedDict([('LATITUDE', 8297.0),\n",
       "             ('LOT SIZE', 7686.0),\n",
       "             ('YEAR BUILT', 7644.0),\n",
       "             ('SQUARE FEET', 6900.0),\n",
       "             ('SOLD DATE', 6178.0),\n",
       "             ('ZIP OR POSTAL CODE', 5595.0),\n",
       "             ('HOA/MONTH', 4110.0),\n",
       "             ('BATHS', 2754.0),\n",
       "             ('BEDS', 1820.0),\n",
       "             ('LOCATION_Mooresville', 471.0),\n",
       "             ('LOCATION_Asheville', 400.0),\n",
       "             ('PROPERTY TYPE_Single Family Residential', 367.0),\n",
       "             ('LOCATION_Durham', 339.0),\n",
       "             ('LOCATION_Johnston', 329.0),\n",
       "             ('PROPERTY TYPE_Multi-Family (2-4 Unit)', 258.0),\n",
       "             ('LOCATION_Chatham', 243.0),\n",
       "             ('PROPERTY TYPE_Condo/Co-op', 242.0),\n",
       "             ('LOCATION_Gastonia', 202.0),\n",
       "             ('LOCATION_Weaverville', 201.0),\n",
       "             ('LOCATION_Statesville', 190.0),\n",
       "             ('LOCATION_Alamance', 181.0),\n",
       "             ('PROPERTY TYPE_Townhouse', 173.0),\n",
       "             ('LOCATION_Salisbury', 172.0),\n",
       "             ('LOCATION_Concord', 157.0),\n",
       "             ('LOCATION_Candler', 155.0),\n",
       "             ('LOCATION_Kannapolis', 152.0),\n",
       "             ('LOCATION_Orange', 141.0),\n",
       "             ('LOCATION_Charlotte', 136.0),\n",
       "             ('LOCATION_Lexington', 116.0),\n",
       "             ('PROPERTY TYPE_Mobile/Manufactured Home', 112.0),\n",
       "             ('LOCATION_Black Mountain', 104.0),\n",
       "             ('LOCATION_Davidson', 104.0),\n",
       "             ('LOCATION_Swannanoa', 97.0),\n",
       "             ('LOCATION_Fairview', 91.0),\n",
       "             ('LOCATION_Historic District', 86.0),\n",
       "             ('LOCATION_China Grove', 79.0),\n",
       "             ('LOCATION_Dallas', 76.0),\n",
       "             ('LOCATION_Westwood', 68.0),\n",
       "             ('LOCATION_Myers Park', 65.0),\n",
       "             ('LOCATION_Cleveland', 64.0),\n",
       "             ('LOCATION_Mount Holly', 56.0),\n",
       "             ('LOCATION_Cherryville', 55.0),\n",
       "             ('LOCATION_Southbrook', 53.0),\n",
       "             ('LOCATION_Burlington', 52.0),\n",
       "             ('LOCATION_Gold Hill', 52.0),\n",
       "             ('PROPERTY TYPE_Multi-Family (5+ Unit)', 51.0),\n",
       "             ('LOCATION_Belmont', 48.0),\n",
       "             ('LOCATION_Alexander', 46.0),\n",
       "             ('LOCATION_Leicester', 46.0),\n",
       "             ('LOCATION_Guilford', 44.0),\n",
       "             ('LOCATION_Granville', 42.0),\n",
       "             ('LOCATION_Parkwood', 42.0),\n",
       "             ('LOCATION_Rockwell', 42.0),\n",
       "             ('LOCATION_Crystal Lake', 41.0),\n",
       "             ('LOCATION_Midland', 40.0),\n",
       "             ('LOCATION_Montreat', 40.0),\n",
       "             ('LOCATION_Cornelius', 38.0),\n",
       "             ('LOCATION_Biltmore Forest', 36.0),\n",
       "             ('LOCATION_Denton', 36.0),\n",
       "             ('LOCATION_Midwood', 36.0),\n",
       "             ('LOCATION_Beaucatcher House', 35.0),\n",
       "             ('LOCATION_Greystone Village', 35.0),\n",
       "             ('LOCATION_Kenilworth', 35.0),\n",
       "             ('LOCATION_Lake Wylie', 35.0),\n",
       "             ('LOCATION_Ridgecrest', 35.0),\n",
       "             ('LOCATION_To Be Added', 35.0),\n",
       "             ('LOCATION_Mountain Retreat', 33.0),\n",
       "             ('LOCATION_Bessemer City', 32.0),\n",
       "             ('LOCATION_Commodore Peninsula', 32.0),\n",
       "             ('LOCATION_Kellswater Bridge', 32.0),\n",
       "             ('LOCATION_Ashecroft', 31.0),\n",
       "             ('LOCATION_Davidson Landing', 31.0),\n",
       "             ('LOCATION_Dilworth', 31.0),\n",
       "             ('LOCATION_Haw Village', 31.0),\n",
       "             ('LOCATION_Madison Park', 31.0),\n",
       "             ('LOCATION_Sherwood Heights', 31.0),\n",
       "             ('LOCATION_Watts Hospital Hillandale', 31.0),\n",
       "             ('LOCATION_West Asheville', 31.0),\n",
       "             ('LOCATION_Rock Gate Estates', 30.0),\n",
       "             ('LOCATION_Weatherstone', 30.0),\n",
       "             ('LOCATION_Fearrington', 29.0),\n",
       "             ('LOCATION_Fletcher', 29.0),\n",
       "             ('LOCATION_Landis', 29.0),\n",
       "             ('LOCATION_Thomasville', 29.0),\n",
       "             ('LOCATION_Grove Park', 28.0),\n",
       "             ('LOCATION_Rockwood', 28.0),\n",
       "             ('LOCATION_The Arts District', 28.0),\n",
       "             ('LOCATION_Tuscaloosa Lakewood', 28.0),\n",
       "             ('LOCATION_Villa Heights', 28.0),\n",
       "             ('LOCATION_Country Club Heights', 27.0),\n",
       "             ('LOCATION_Duke Forest', 27.0),\n",
       "             ('LOCATION_Elizabeth', 27.0),\n",
       "             ('LOCATION_Reynolds Mountain', 27.0),\n",
       "             ('LOCATION_Sedgefield', 27.0),\n",
       "             ('LOCATION_Town Mountain', 27.0),\n",
       "             ('LOCATION_Troutman', 27.0),\n",
       "             ('LOCATION_Asheville West', 26.0),\n",
       "             ('LOCATION_Ashton Manor', 26.0),\n",
       "             ('LOCATION_Faith Farms', 26.0),\n",
       "             ('LOCATION_Mill Creek', 26.0),\n",
       "             ('LOCATION_Beaucatcher Heights', 25.0),\n",
       "             ('LOCATION_Cabarrus Woods', 25.0),\n",
       "             ('LOCATION_Chapel Ridge', 25.0),\n",
       "             ('LOCATION_Harmony', 25.0),\n",
       "             ('LOCATION_Haw Creek', 25.0),\n",
       "             ('LOCATION_Shamrock Green', 25.0),\n",
       "             ('LOCATION_Wesley Heights', 25.0),\n",
       "             ('LOCATION_Arden', 24.0),\n",
       "             ('LOCATION_Biltmore Lake', 24.0),\n",
       "             ('LOCATION_Biltmore Park', 24.0),\n",
       "             ('LOCATION_Cramerton', 24.0),\n",
       "             ('LOCATION_Granite Quarry', 24.0),\n",
       "             ('LOCATION_Meadowmont', 24.0),\n",
       "             ('LOCATION_Northgate Park', 24.0),\n",
       "             ('LOCATION_Olin', 24.0),\n",
       "             ('LOCATION_Briar Chapel', 23.0),\n",
       "             ('LOCATION_Croasdaile Farm', 23.0),\n",
       "             ('LOCATION_Forest Hills', 23.0),\n",
       "             ('LOCATION_Mariner Villas', 23.0),\n",
       "             ('LOCATION_Randolph', 23.0),\n",
       "             ('LOCATION_Spencer', 23.0),\n",
       "             ('LOCATION_The Preserve at Jordan Lake', 23.0),\n",
       "             ('LOCATION_Thoms Estate', 23.0),\n",
       "             ('LOCATION_Winston Salem', 23.0),\n",
       "             ('LOCATION_Asheboro', 22.0),\n",
       "             ('LOCATION_Harrisburg', 22.0),\n",
       "             ('LOCATION_Ivanhoe', 22.0),\n",
       "             ('LOCATION_Laurel Grove', 22.0),\n",
       "             ('LOCATION_Morgan Creek', 22.0),\n",
       "             ('LOCATION_Not In Subdivision', 22.0),\n",
       "             ('LOCATION_Old North Durham', 22.0),\n",
       "             ('LOCATION_Oxford Manor', 22.0),\n",
       "             ('LOCATION_Royal Oaks', 22.0),\n",
       "             ('LOCATION_Stanley', 22.0),\n",
       "             ('LOCATION_Trinity Park', 22.0),\n",
       "             ('LOCATION_Wilmore', 22.0),\n",
       "             ('LOCATION_Biddleville', 21.0),\n",
       "             ('LOCATION_Brightwalk', 21.0),\n",
       "             ('LOCATION_Carolina Preserve', 21.0),\n",
       "             ('LOCATION_Colonial Village', 21.0),\n",
       "             ('LOCATION_Harbor Cove', 21.0),\n",
       "             ('LOCATION_Lake Norman Bonanza', 21.0),\n",
       "             ('LOCATION_Merry Oaks', 21.0),\n",
       "             ('LOCATION_Montvale', 21.0),\n",
       "             ('LOCATION_Treyburn', 21.0),\n",
       "             ('LOCATION_Wiltshire Manor', 21.0),\n",
       "             ('LOCATION_Beaverdam', 20.0),\n",
       "             ('LOCATION_Buffalo Creek', 20.0),\n",
       "             ('LOCATION_Commonwealth Park', 20.0),\n",
       "             ('LOCATION_Lakeview Estates', 20.0),\n",
       "             ('LOCATION_Linwood', 20.0),\n",
       "             ('LOCATION_MackIntosh on the Lake', 20.0),\n",
       "             ('LOCATION_Malvern Walk', 20.0),\n",
       "             ('LOCATION_Southern Village', 20.0),\n",
       "             ('LOCATION_The Cliffs at Walnut Cove', 20.0),\n",
       "             ('LOCATION_Vineyards', 20.0),\n",
       "             ('LOCATION_Beaver Creek', 19.0),\n",
       "             ('LOCATION_Chantilly', 19.0),\n",
       "             ('LOCATION_Chapel Cove', 19.0),\n",
       "             ('LOCATION_Chestnut Ridge', 19.0),\n",
       "             ('LOCATION_Cleveland Holloway', 19.0),\n",
       "             ('LOCATION_Cotswold', 19.0),\n",
       "             ('LOCATION_Duke Park', 19.0),\n",
       "             ('LOCATION_Graham', 19.0),\n",
       "             ('LOCATION_Greenwood Fields', 19.0),\n",
       "             ('LOCATION_Kings Mountain', 19.0),\n",
       "             ('LOCATION_Kingstree', 19.0),\n",
       "             ('LOCATION_South End', 19.0),\n",
       "             ('LOCATION_Sovereign Oaks', 19.0),\n",
       "             ('LOCATION_*', 18.0),\n",
       "             ('LOCATION_Asheville Arras Residence', 18.0),\n",
       "             ('LOCATION_Beverly Hills', 18.0),\n",
       "             ('LOCATION_Christenbury Hall', 18.0),\n",
       "             ('LOCATION_Dogwood Acres', 18.0),\n",
       "             ('LOCATION_Huntersville', 18.0),\n",
       "             ('LOCATION_Long Meadows', 18.0),\n",
       "             ('LOCATION_Malvern Hills', 18.0),\n",
       "             ('LOCATION_Providence Park', 18.0),\n",
       "             ('LOCATION_Reems Creek Golf Community', 18.0),\n",
       "             ('LOCATION_Sunset Mountain', 18.0),\n",
       "             ('LOCATION_The Oaks', 18.0),\n",
       "             ('LOCATION_The Palisades', 18.0),\n",
       "             ('LOCATION_Wildlife Bay', 18.0),\n",
       "             ('LOCATION_Briarcliff Crossing', 17.0),\n",
       "             ('LOCATION_Collins Ridge', 17.0),\n",
       "             ('LOCATION_Forest Oaks', 17.0),\n",
       "             ('LOCATION_Highland Park', 17.0),\n",
       "             ('LOCATION_Holt Lake West', 17.0),\n",
       "             ('LOCATION_Hope Valley Country Club', 17.0),\n",
       "             ('LOCATION_Huntson Reserve', 17.0),\n",
       "             ('LOCATION_Jenkins Heights', 17.0),\n",
       "             ('LOCATION_Kinmere Commons', 17.0),\n",
       "             ('LOCATION_Montford', 17.0),\n",
       "             ('LOCATION_North Forest Hills', 17.0),\n",
       "             ('LOCATION_Portofino', 17.0),\n",
       "             ('LOCATION_The Broadway Asheville', 17.0),\n",
       "             ('LOCATION_Trellis Pointe', 17.0),\n",
       "             ('LOCATION_Trinity Heights', 17.0),\n",
       "             ('LOCATION_Windsor Park', 17.0),\n",
       "             ('LOCATION_Barclay Downs', 16.0),\n",
       "             ('LOCATION_Downtown', 16.0),\n",
       "             ('LOCATION_Eastmoor', 16.0),\n",
       "             ('LOCATION_Eastover', 16.0),\n",
       "             ('LOCATION_Fourth Ward', 16.0),\n",
       "             ('LOCATION_Green Acres', 16.0),\n",
       "             ('LOCATION_Homestead Heights', 16.0),\n",
       "             ('LOCATION_Jackson Park', 16.0),\n",
       "             ('LOCATION_Nolen Farm', 16.0),\n",
       "             ('LOCATION_Park Place', 16.0),\n",
       "             ('LOCATION_The Point', 16.0),\n",
       "             ('LOCATION_The Views Of Asheville', 16.0),\n",
       "             ('LOCATION_Ashley Woods', 15.0),\n",
       "             ('LOCATION_Foxcroft', 15.0),\n",
       "             ('LOCATION_High Point', 15.0),\n",
       "             ('LOCATION_Holcomb Woods', 15.0),\n",
       "             ('LOCATION_Royal Pines', 15.0),\n",
       "             ('LOCATION_Stones Throw', 15.0),\n",
       "             ('LOCATION_Stoneybrook', 15.0),\n",
       "             ('LOCATION_The Villages At Crest Mountain', 15.0),\n",
       "             ('LOCATION_The Vineyards on Lake Wylie', 15.0),\n",
       "             ('LOCATION_100 Norman Place', 14.0),\n",
       "             ('LOCATION_Fulton Heights', 14.0),\n",
       "             ('LOCATION_Horney Heights', 14.0),\n",
       "             ('LOCATION_Lakeview Park', 14.0),\n",
       "             ('LOCATION_Lakewood', 14.0),\n",
       "             ('LOCATION_Lost Forest', 14.0),\n",
       "             ('LOCATION_Oak Forest', 14.0),\n",
       "             ('LOCATION_Pirates Cove', 14.0),\n",
       "             ('LOCATION_River Run', 14.0),\n",
       "             ('LOCATION_Southcliff', 14.0),\n",
       "             ('LOCATION_The Cliffs At Walnut Cove', 14.0),\n",
       "             ('LOCATION_Afton Village', 13.0),\n",
       "             ('LOCATION_Biltmore Terrace', 13.0),\n",
       "             ('LOCATION_Birkdale Village', 13.0),\n",
       "             ('LOCATION_Bolinwood Condominiums', 13.0),\n",
       "             ('LOCATION_Colony Woods', 13.0),\n",
       "             ('LOCATION_Grovemont', 13.0),\n",
       "             ('LOCATION_Harrisburg Park', 13.0),\n",
       "             ('LOCATION_Norwood Park', 13.0),\n",
       "             ('LOCATION_Oakhurst', 13.0),\n",
       "             ('LOCATION_Olde Homestead', 13.0),\n",
       "             ('LOCATION_Panther Creek', 13.0),\n",
       "             ('LOCATION_Quarry Hills', 13.0),\n",
       "             ('LOCATION_Ridgewater', 13.0),\n",
       "             ('LOCATION_Summer Ridge', 13.0),\n",
       "             ('LOCATION_Woodland Hills', 13.0),\n",
       "             ('LOCATION_Barnardsville', 12.0),\n",
       "             ('LOCATION_Beverly Woods', 12.0),\n",
       "             ('LOCATION_Coker Hills', 12.0),\n",
       "             ('LOCATION_Creekside Village', 12.0),\n",
       "             ('LOCATION_Farmwood', 12.0),\n",
       "             ('LOCATION_John S. Henderson', 12.0),\n",
       "             ('LOCATION_Madison Green', 12.0),\n",
       "             ('LOCATION_Mount Pleasant', 12.0),\n",
       "             ('LOCATION_Northstone', 12.0),\n",
       "             ('LOCATION_Riceville Forest', 12.0),\n",
       "             ('LOCATION_Summerfield', 12.0),\n",
       "             ('LOCATION_York Chester', 12.0),\n",
       "             ('LOCATION_southwood', 12.0),\n",
       "             ('LOCATION_Bostwood Estates', 11.0),\n",
       "             ('LOCATION_Botany Woods', 11.0),\n",
       "             ('LOCATION_Cheshire', 11.0),\n",
       "             ('LOCATION_Downtown District', 11.0),\n",
       "             ('LOCATION_Eastwood Village', 11.0),\n",
       "             ('LOCATION_Enderly Park', 11.0),\n",
       "             ('LOCATION_Greenway Park', 11.0),\n",
       "             ('LOCATION_Mercer', 11.0),\n",
       "             ('LOCATION_Oak Park', 11.0),\n",
       "             ('LOCATION_Rocky Ridge', 11.0),\n",
       "             ('LOCATION_Sherwood Forest', 11.0),\n",
       "             ('LOCATION_Stallings Glen', 11.0),\n",
       "             ('LOCATION_Sweet Birch Commons', 11.0),\n",
       "             ('LOCATION_The Enclave at Providence Park', 11.0),\n",
       "             ('LOCATION_Tralee', 11.0),\n",
       "             ('LOCATION_West Asheville Estates', 11.0),\n",
       "             ('LOCATION_Windward Pointe', 11.0),\n",
       "             ('LOCATION_Apple Creek', 10.0),\n",
       "             ('LOCATION_Brandon Ridge Spring Hill', 10.0),\n",
       "             ('LOCATION_Carolinian Mills Inc', 10.0),\n",
       "             ('LOCATION_Cherry', 10.0),\n",
       "             ('LOCATION_Devonshire', 10.0),\n",
       "             ('LOCATION_East Spencer', 10.0),\n",
       "             ('LOCATION_Five Points', 10.0),\n",
       "             ('LOCATION_Forest Ridge', 10.0),\n",
       "             ('LOCATION_Hillcrest', 10.0),\n",
       "             ('LOCATION_Hope Creek', 10.0),\n",
       "             ('LOCATION_Hope Valley', 10.0),\n",
       "             ('LOCATION_Oak Valley', 10.0),\n",
       "             ('LOCATION_Oxford Park', 10.0),\n",
       "             ('LOCATION_Pine Valley', 10.0),\n",
       "             ('LOCATION_Scotland Manor', 10.0),\n",
       "             ('LOCATION_Seversville', 10.0),\n",
       "             ('LOCATION_Stones Edge', 10.0),\n",
       "             ('LOCATION_The Peninsula', 10.0),\n",
       "             ('LOCATION_Wingate Estates', 10.0),\n",
       "             ('LOCATION_Alexander Glen', 9.0),\n",
       "             ('LOCATION_Berewick', 9.0),\n",
       "             ('LOCATION_Devonshire Court', 9.0),\n",
       "             ('LOCATION_Greensboro', 9.0),\n",
       "             ('LOCATION_Hamrick Farms', 9.0),\n",
       "             ('LOCATION_Little Rock Crossing', 9.0),\n",
       "             ('LOCATION_Mason Oaks', 9.0),\n",
       "             ('LOCATION_McLean - South Shore', 9.0),\n",
       "             ('LOCATION_Moss Creek', 9.0),\n",
       "             ('LOCATION_Ramble Biltmore Forest', 9.0),\n",
       "             ('LOCATION_Rolling Green', 9.0),\n",
       "             ('LOCATION_Smallwood', 9.0),\n",
       "             ('LOCATION_Spring Acres', 9.0),\n",
       "             ('LOCATION_Winston Pointe', 9.0),\n",
       "             ('LOCATION_Alexander Towne', 8.0),\n",
       "             ('LOCATION_Autumn Trace', 8.0),\n",
       "             ('LOCATION_Bethesda Oaks', 8.0),\n",
       "             ('LOCATION_Falcon Chase', 8.0),\n",
       "             ('LOCATION_Fallscrest', 8.0),\n",
       "             ('LOCATION_Forestwood Park', 8.0),\n",
       "             ('LOCATION_Foxgate', 8.0),\n",
       "             ('LOCATION_Historic Montford', 8.0),\n",
       "             ('LOCATION_Kimberly Heights', 8.0),\n",
       "             ('LOCATION_Knolls at the Neuse', 8.0),\n",
       "             ('LOCATION_Lakewood Falls', 8.0),\n",
       "             ('LOCATION_Lincolnton', 8.0),\n",
       "             ('LOCATION_Mooresville Mill Village', 8.0),\n",
       "             ('LOCATION_Mountain Brook', 8.0),\n",
       "             ('LOCATION_Oakdale Park', 8.0),\n",
       "             ('LOCATION_Shannon Park', 8.0),\n",
       "             ('LOCATION_Southpark', 8.0),\n",
       "             ('LOCATION_The Oaks of Landis', 8.0),\n",
       "             ('LOCATION_Village at Bradley Branch', 8.0),\n",
       "             ('LOCATION_Vineyard Point', 8.0),\n",
       "             ('LOCATION_Willow Creek', 8.0),\n",
       "             ('LOCATION_Barkley Terrace', 7.0),\n",
       "             ('LOCATION_Briarwood', 7.0),\n",
       "             ('LOCATION_Brookwood', 7.0),\n",
       "             ('LOCATION_Cleveland Springs', 7.0),\n",
       "             ('LOCATION_Corbin Hills', 7.0),\n",
       "             ('LOCATION_Falconbridge', 7.0),\n",
       "             ('LOCATION_Harrisburg Village', 7.0),\n",
       "             ('LOCATION_Lantern Green', 7.0),\n",
       "             ('LOCATION_Leisure Woods', 7.0),\n",
       "             ('LOCATION_Mallard Head', 7.0),\n",
       "             ('LOCATION_Montclaire', 7.0),\n",
       "             ('LOCATION_Mountainbrook', 7.0),\n",
       "             ('LOCATION_Pine Acres', 7.0),\n",
       "             ('LOCATION_Riverwood Athletic Club', 7.0),\n",
       "             ('LOCATION_Sequoia Forest', 7.0),\n",
       "             ('LOCATION_Summerwind Plantation', 7.0),\n",
       "             ('LOCATION_University Terrace', 7.0),\n",
       "             ('LOCATION_Walltown', 7.0),\n",
       "             ('LOCATION_Wilder Farms', 7.0),\n",
       "             ('LOCATION_Willowbrook', 7.0),\n",
       "             ('LOCATION_Woodleaf', 7.0),\n",
       "             ('LOCATION_12 S. Lexington Condominiums', 6.0),\n",
       "             ('LOCATION_Annandale', 6.0),\n",
       "             ('LOCATION_Autumn Hills', 6.0),\n",
       "             ('LOCATION_Bells Crossing', 6.0),\n",
       "             ('LOCATION_Beverly Woods East', 6.0),\n",
       "             ('LOCATION_Brandon Forest', 6.0),\n",
       "             ('LOCATION_Brandon Ridge', 6.0),\n",
       "             ('LOCATION_Catawba Hills', 6.0),\n",
       "             ('LOCATION_Chateau', 6.0),\n",
       "             ('LOCATION_Country Club Hills', 6.0),\n",
       "             ('LOCATION_Crowell Farms', 6.0),\n",
       "             ('LOCATION_Davis Park', 6.0),\n",
       "             ('LOCATION_Eagle Heights', 6.0),\n",
       "             ('LOCATION_Echo Hills', 6.0),\n",
       "             ('LOCATION_Greystone Crossing', 6.0),\n",
       "             ('LOCATION_Harbor View', 6.0),\n",
       "             ('LOCATION_Heavner Holding', 6.0),\n",
       "             ('LOCATION_Providence Country Club', 6.0),\n",
       "             ('LOCATION_Providence Plantation', 6.0),\n",
       "             ('LOCATION_Raintree', 6.0),\n",
       "             ('LOCATION_Redwood Forest', 6.0),\n",
       "             ('LOCATION_Southgate', 6.0),\n",
       "             ('LOCATION_Stradley Mountain Park', 6.0),\n",
       "             ('LOCATION_Tanglewood', 6.0),\n",
       "             ('LOCATION_Wilshire Park', 6.0),\n",
       "             ('LOCATION_Wtrstone', 6.0),\n",
       "             ('LOCATION_140 West Franklin Condominium', 5.0),\n",
       "             ('LOCATION_Becketts Ridge', 5.0),\n",
       "             ('LOCATION_Blanchard at Carmel', 5.0),\n",
       "             ('LOCATION_Cain Road Estates', 5.0),\n",
       "             ('LOCATION_Country Meadows', 5.0),\n",
       "             ('LOCATION_Davidson Downes', 5.0),\n",
       "             ('LOCATION_East 54', 5.0),\n",
       "             ('LOCATION_Fishermans Cove', 5.0),\n",
       "             ('LOCATION_Flowers Plantation', 5.0),\n",
       "             ('LOCATION_Holly Ridge', 5.0),\n",
       "             ('LOCATION_Horton Hills', 5.0),\n",
       "             ('LOCATION_Iredell Heights', 5.0),\n",
       "             ('LOCATION_Locke Mill Plaza', 5.0),\n",
       "             ('LOCATION_Oakland Heights', 5.0),\n",
       "             ('LOCATION_Old West Durham', 5.0),\n",
       "             ('LOCATION_Pinnacle Shores', 5.0),\n",
       "             ('LOCATION_Pinnacle at Arabella Heights', 5.0),\n",
       "             ('LOCATION_Ridge Creek', 5.0),\n",
       "             ('LOCATION_Ridgefield', 5.0),\n",
       "             ('LOCATION_Rosecroft', 5.0),\n",
       "             ('LOCATION_Shannon Acres', 5.0),\n",
       "             ('LOCATION_Silver Creek', 5.0),\n",
       "             ('LOCATION_South Plantation', 5.0),\n",
       "             ('LOCATION_Stony Point', 5.0),\n",
       "             ('LOCATION_The Pinnacle At Park Avenue', 5.0),\n",
       "             ('LOCATION_The Vineyards', 5.0),\n",
       "             ('LOCATION_Trinity Crossing', 5.0),\n",
       "             ('LOCATION_Whitehead Acres', 5.0),\n",
       "             ('LOCATION_Wilson Farm', 5.0),\n",
       "             ('LOCATION_Woodland Acres', 5.0),\n",
       "             ('LOCATION_Admirals Quarters', 4.0),\n",
       "             ('LOCATION_Beechwood Heights', 4.0),\n",
       "             ('LOCATION_Black Mountain Estates', 4.0),\n",
       "             ('LOCATION_Bridgeport', 4.0),\n",
       "             ('LOCATION_Bullington Warehouse Condo', 4.0),\n",
       "             ('LOCATION_Elkin Hills', 4.0),\n",
       "             ('LOCATION_Falls Cove at Lake Norman', 4.0),\n",
       "             ('LOCATION_Firestone Textiles Inc', 4.0),\n",
       "             ('LOCATION_Glen Arden Estates', 4.0),\n",
       "             ('LOCATION_Glendale', 4.0),\n",
       "             ('LOCATION_Governors Club', 4.0),\n",
       "             ('LOCATION_Greenwood', 4.0),\n",
       "             ('LOCATION_Johnston Farms', 4.0),\n",
       "             ('LOCATION_Kimberly', 4.0),\n",
       "             ('LOCATION_Mebane', 4.0),\n",
       "             ('LOCATION_Plaza Hills', 4.0),\n",
       "             ('LOCATION_Ravenstone', 4.0),\n",
       "             ('LOCATION_Rosemary Village', 4.0),\n",
       "             ('LOCATION_Saddlebrook', 4.0),\n",
       "             ('LOCATION_Sunset Park', 4.0),\n",
       "             ('LOCATION_The Mills at Rocky River', 4.0),\n",
       "             ('LOCATION_Trademark', 4.0),\n",
       "             ('LOCATION_Wake', 4.0),\n",
       "             ('LOCATION_Wellesley', 4.0),\n",
       "             ('LOCATION_Windermere', 4.0),\n",
       "             ('LOCATION_45 Asheland Avenue', 3.0),\n",
       "             ('LOCATION_Bent Creek', 3.0),\n",
       "             ('LOCATION_Bradford Park', 3.0),\n",
       "             ('LOCATION_Brookhaven', 3.0),\n",
       "             ('LOCATION_Chestnut Hill', 3.0),\n",
       "             ('LOCATION_Cochran Farms', 3.0),\n",
       "             ('LOCATION_Cottonfield', 3.0),\n",
       "             ('LOCATION_Creekside', 3.0),\n",
       "             ('LOCATION_Davidson Bay', 3.0),\n",
       "             ('LOCATION_Duke Tower Condominiums', 3.0),\n",
       "             ('LOCATION_First Ward', 3.0),\n",
       "             ('LOCATION_Fletcher Hills', 3.0),\n",
       "             ('LOCATION_Geerwood Park', 3.0),\n",
       "             ('LOCATION_Grand Highlands Waterford Lake', 3.0),\n",
       "             ('LOCATION_Greenbay Forest', 3.0),\n",
       "             ('LOCATION_Kernodle Landing', 3.0),\n",
       "             ('LOCATION_Oakley', 3.0),\n",
       "             ('LOCATION_Olmsted', 3.0),\n",
       "             ('LOCATION_Preston Woods', 3.0),\n",
       "             ('LOCATION_Sierra Heights', 3.0),\n",
       "             ('LOCATION_Spicewood', 3.0),\n",
       "             ('LOCATION_Summerwood', 3.0),\n",
       "             ('LOCATION_The Kress Condominium', 3.0),\n",
       "             ('LOCATION_The Timbers', 3.0),\n",
       "             ('LOCATION_The Village at Grants Creek', 3.0),\n",
       "             ('LOCATION_145 Biltmore Avenue Condominiums', 2.0),\n",
       "             ('LOCATION_21 Battery Park', 2.0),\n",
       "             ('LOCATION_Adams Point', 2.0),\n",
       "             ('LOCATION_Beatty Woods', 2.0),\n",
       "             ('LOCATION_Briarcliff', 2.0),\n",
       "             ('LOCATION_Carmel Woods', 2.0),\n",
       "             ('LOCATION_Crowfields Condos', 2.0),\n",
       "             ('LOCATION_Danby', 2.0),\n",
       "             ('LOCATION_Fairfield', 2.0),\n",
       "             ('LOCATION_Forest Lake', 2.0),\n",
       "             ('LOCATION_Fox Meadow', 2.0),\n",
       "             ('LOCATION_Graham Heights', 2.0),\n",
       "             ('LOCATION_Greenbridge Condominium', 2.0),\n",
       "             ('LOCATION_Hallmark Estates', 2.0),\n",
       "             ('LOCATION_Hamburg Crossing', 2.0),\n",
       "             ('LOCATION_Heritage Glen', 2.0),\n",
       "             ('LOCATION_Heydon Hall', 2.0),\n",
       "             ('LOCATION_Highland Creek', 2.0),\n",
       "             ('LOCATION_Lake Forest', 2.0),\n",
       "             ('LOCATION_Larkin', 2.0),\n",
       "             ('LOCATION_Lincoln Park Extension', 2.0),\n",
       "             ('LOCATION_McCauley Historic District', 2.0),\n",
       "             ('LOCATION_Mccullough', 2.0),\n",
       "             ('LOCATION_Meadow Oaks', 2.0),\n",
       "             ('LOCATION_Meadowbrook', 2.0),\n",
       "             ('LOCATION_Montibello', 2.0),\n",
       "             ('LOCATION_Mt Ulla', 2.0),\n",
       "             ('LOCATION_North Shore', 2.0),\n",
       "             ('LOCATION_Northlake', 2.0),\n",
       "             ('LOCATION_Oak Grove', 2.0),\n",
       "             ('LOCATION_Prospect Park', 2.0),\n",
       "             ('LOCATION_Random Meadow', 2.0),\n",
       "             ('LOCATION_Rose Manor', 2.0),\n",
       "             ('LOCATION_Rowan Terrace', 2.0),\n",
       "             ('LOCATION_Shady Haven', 2.0),\n",
       "             ('LOCATION_Shelton Hills', 2.0),\n",
       "             ('LOCATION_Skybrook', 2.0),\n",
       "             ('LOCATION_Sondley Estates', 2.0),\n",
       "             ('LOCATION_Springcrest', 2.0),\n",
       "             ('LOCATION_Starmount Forest', 2.0),\n",
       "             ('LOCATION_Starview Heights', 2.0),\n",
       "             ('LOCATION_Stonebridge', 2.0),\n",
       "             ('LOCATION_Sutton Hall', 2.0),\n",
       "             ('LOCATION_The Farms', 2.0),\n",
       "             ('LOCATION_The Fourth Ward Square', 2.0),\n",
       "             ('LOCATION_The Heathers', 2.0),\n",
       "             ('LOCATION_Village Green', 2.0),\n",
       "             ('LOCATION_Watermark', 2.0),\n",
       "             ('LOCATION_Wiltshire Village', 2.0),\n",
       "             ('LOCATION_Woodlawn', 2.0),\n",
       "             ('LOCATION_60 North Market', 1.0),\n",
       "             ('LOCATION_Aberdeen Downs', 1.0),\n",
       "             ('LOCATION_Alexis', 1.0),\n",
       "             ('LOCATION_Amberley', 1.0),\n",
       "             ('LOCATION_Antiquity', 1.0),\n",
       "             ('LOCATION_Ashbrook', 1.0),\n",
       "             ('LOCATION_Ashley Forest', 1.0),\n",
       "             ('LOCATION_Bahia Bay', 1.0),\n",
       "             ('LOCATION_Ballantyne Country Club', 1.0),\n",
       "             ('LOCATION_Beacon Pointe', 1.0),\n",
       "             ('LOCATION_Bellechene East', 1.0),\n",
       "             ('LOCATION_Bellevue', 1.0),\n",
       "             ('LOCATION_Biltmore Park Town Square', 1.0),\n",
       "             ('LOCATION_Brassfield Meadows', 1.0),\n",
       "             ('LOCATION_Brightwood Farm', 1.0),\n",
       "             ('LOCATION_Cambridge Park', 1.0),\n",
       "             ('LOCATION_Carlyle Condominiums', 1.0),\n",
       "             ('LOCATION_Castleford', 1.0),\n",
       "             ('LOCATION_Cedar Walk', 1.0),\n",
       "             ('LOCATION_Cedarwood Acres', 1.0),\n",
       "             ('LOCATION_Central Point', 1.0),\n",
       "             ('LOCATION_Cleveland Heights', 1.0),\n",
       "             ('LOCATION_Courtyards At Ashley Woods', 1.0),\n",
       "             ('LOCATION_Craggy Park', 1.0),\n",
       "             ('LOCATION_Crouse', 1.0),\n",
       "             ('LOCATION_Crowders View', 1.0),\n",
       "             ('LOCATION_Crystal Pines', 1.0),\n",
       "             ('LOCATION_Davidson Pointe', 1.0),\n",
       "             ('LOCATION_Deer Haven', 1.0),\n",
       "             ('LOCATION_Eagle Park', 1.0),\n",
       "             ('LOCATION_Eastway Park', 1.0),\n",
       "             ('LOCATION_Elm Grove', 1.0),\n",
       "             ('LOCATION_Five Oaks', 1.0),\n",
       "             ('LOCATION_Forest Creek', 1.0),\n",
       "             ('LOCATION_Forest Park', 1.0),\n",
       "             ('LOCATION_Fox Lair Crossings', 1.0),\n",
       "             ('LOCATION_Foxmoor', 1.0),\n",
       "             ('LOCATION_Ganyard Farm', 1.0),\n",
       "             ('LOCATION_Glenmere', 1.0),\n",
       "             ('LOCATION_Granary Oaks', 1.0),\n",
       "             ('LOCATION_Granville Forest', 1.0),\n",
       "             ('LOCATION_Gresham Crossing', 1.0),\n",
       "             ('LOCATION_Greyson', 1.0),\n",
       "             ('LOCATION_Harbor Point Village', 1.0),\n",
       "             ('LOCATION_Harmony Hills', 1.0),\n",
       "             ('LOCATION_Harmony at Matthews', 1.0),\n",
       "             ('LOCATION_Hope Valley Farms', 1.0),\n",
       "             ('LOCATION_Horneyhurst', 1.0),\n",
       "             ('LOCATION_Huntington Ridge', 1.0),\n",
       "             ('LOCATION_Hyde Park', 1.0),\n",
       "             ('LOCATION_Imagery On Mtn Island', 1.0),\n",
       "             ('LOCATION_Irish Creek', 1.0),\n",
       "             ('LOCATION_Iron Station', 1.0),\n",
       "             ('LOCATION_Kingsley', 1.0),\n",
       "             ('LOCATION_Lake Julian Trails', 1.0),\n",
       "             ('LOCATION_Lake Norman Air Park', 1.0),\n",
       "             ('LOCATION_LakeWalk', 1.0),\n",
       "             ('LOCATION_Lansdowne', 1.0),\n",
       "             ('LOCATION_Mackintosh On The Lake', 1.0),\n",
       "             ('LOCATION_Maple Trace', 1.0),\n",
       "             ('LOCATION_Mason Farm', 1.0),\n",
       "             ('LOCATION_McLean Overlake', 1.0),\n",
       "             ('LOCATION_Meadow Creek', 1.0),\n",
       "             ('LOCATION_Millers Grove', 1.0),\n",
       "             ('LOCATION_Moss Creek Village', 1.0),\n",
       "             ('LOCATION_Northside', 1.0),\n",
       "             ('LOCATION_Pebble Creek', 1.0),\n",
       "             ('LOCATION_Piedmont Row', 1.0),\n",
       "             ('LOCATION_Pineville', 1.0),\n",
       "             ('LOCATION_Powell Place', 1.0),\n",
       "             ('LOCATION_Presque Isle Villas', 1.0),\n",
       "             ('LOCATION_Providence Glen', 1.0),\n",
       "             ('LOCATION_Quail Hollow Estates', 1.0),\n",
       "             ('LOCATION_Quail Village', 1.0),\n",
       "             ('LOCATION_Queens Cove', 1.0),\n",
       "             ('LOCATION_Raeburn', 1.0),\n",
       "             ('LOCATION_Rama Woods', 1.0),\n",
       "             ('LOCATION_Riverwood Plantation', 1.0),\n",
       "             ('LOCATION_Royal Troon', 1.0),\n",
       "             ('LOCATION_Saddlewood', 1.0),\n",
       "             ('LOCATION_Sandy Ridge', 1.0),\n",
       "             ('LOCATION_Saxapahaw', 1.0),\n",
       "             ('LOCATION_Selwyn Commons', 1.0),\n",
       "             ('LOCATION_Seven Springs', 1.0),\n",
       "             ('LOCATION_Shepherd Lane Condos', 1.0),\n",
       "             ('LOCATION_Southpoint', 1.0),\n",
       "             ('LOCATION_Southwick Farm', 1.0),\n",
       "             ('LOCATION_Sparger Springs', 1.0),\n",
       "             ('LOCATION_Springs Village', 1.0),\n",
       "             ('LOCATION_Stephens Ridge', 1.0),\n",
       "             ('LOCATION_Stratford Oaks', 1.0),\n",
       "             ('LOCATION_The Conservancy at McLean', 1.0),\n",
       "             ('LOCATION_The Cottages at Averys Creek', 1.0),\n",
       "             ('LOCATION_The Gables', 1.0),\n",
       "             ('LOCATION_The Village At Parkside', 1.0),\n",
       "             ('LOCATION_The Village at Lake Michael', 1.0),\n",
       "             ('LOCATION_Tree Farm', 1.0),\n",
       "             ('LOCATION_Tucker Chase', 1.0),\n",
       "             ('LOCATION_Twelve Oaks', 1.0),\n",
       "             ('LOCATION_Vermillion', 1.0),\n",
       "             ('LOCATION_Walkers Trace', 1.0),\n",
       "             ('LOCATION_Walters Ridge', 1.0),\n",
       "             ('LOCATION_Waterfront at Langtree', 1.0),\n",
       "             ('LOCATION_Waters Edge', 1.0),\n",
       "             ('LOCATION_Waterside Landing', 1.0),\n",
       "             ('LOCATION_Webbwood', 1.0),\n",
       "             ('LOCATION_West Square Historical', 1.0),\n",
       "             ('LOCATION_Whitegate', 1.0),\n",
       "             ('LOCATION_Wildewood', 1.0),\n",
       "             ('LOCATION_Wildflower', 1.0),\n",
       "             ('LOCATION_Wildwood', 1.0),\n",
       "             ('LOCATION_Willow Springs', 1.0),\n",
       "             ('LOCATION_Woodfield Condos', 1.0),\n",
       "             ('LOCATION_Woodfin', 1.0)])"
      ]
     },
     "execution_count": 22,
     "metadata": {},
     "output_type": "execute_result"
    }
   ],
   "source": [
    "# every_column_except_y= [col for col in X_train.columns if col not in ['PRICE','ID']]\n",
    "model.fit(train_X, train_Y)\n",
    "OrderedDict(sorted(model.get_booster().get_fscore().items(), key=lambda t: t[1], reverse=True))"
   ]
  },
  {
   "cell_type": "code",
   "execution_count": 36,
   "metadata": {},
   "outputs": [],
   "source": [
    "model.save_model(\"CurrentModel.json\")"
   ]
  },
  {
   "cell_type": "code",
   "execution_count": 37,
   "metadata": {
    "scrolled": true
   },
   "outputs": [
    {
     "name": "stdout",
     "output_type": "stream",
     "text": [
      "['SOLD DATE', 'ZIP OR POSTAL CODE', 'BEDS', 'BATHS', 'SQUARE FEET', 'LOT SIZE', 'YEAR BUILT', 'HOA/MONTH', 'LATITUDE', 'PROPERTY TYPE_Condo/Co-op', 'PROPERTY TYPE_Mobile/Manufactured Home', 'PROPERTY TYPE_Multi-Family (2-4 Unit)', 'PROPERTY TYPE_Multi-Family (5+ Unit)', 'PROPERTY TYPE_Single Family Residential', 'PROPERTY TYPE_Townhouse', 'LOCATION_*', 'LOCATION_100 Norman Place', 'LOCATION_Afton Village', 'LOCATION_Alamance', 'LOCATION_Alexander', 'LOCATION_Apple Creek', 'LOCATION_Arden', 'LOCATION_Asheboro', 'LOCATION_Ashecroft', 'LOCATION_Asheville', 'LOCATION_Asheville Arras Residence', 'LOCATION_Asheville West', 'LOCATION_Ashley Woods', 'LOCATION_Ashton Manor', 'LOCATION_Barclay Downs', 'LOCATION_Barnardsville', 'LOCATION_Beaucatcher Heights', 'LOCATION_Beaucatcher House', 'LOCATION_Beaver Creek', 'LOCATION_Beaverdam', 'LOCATION_Belmont', 'LOCATION_Bessemer City', 'LOCATION_Beverly Hills', 'LOCATION_Beverly Woods', 'LOCATION_Biddleville', 'LOCATION_Biltmore Forest', 'LOCATION_Biltmore Lake', 'LOCATION_Biltmore Park', 'LOCATION_Biltmore Terrace', 'LOCATION_Birkdale Village', 'LOCATION_Black Mountain', 'LOCATION_Bolinwood Condominiums', 'LOCATION_Bostwood Estates', 'LOCATION_Botany Woods', 'LOCATION_Brandon Ridge Spring Hill', 'LOCATION_Briar Chapel', 'LOCATION_Briarcliff Crossing', 'LOCATION_Brightwalk', 'LOCATION_Buffalo Creek', 'LOCATION_Burlington', 'LOCATION_Cabarrus Woods', 'LOCATION_Candler', 'LOCATION_Carolina Preserve', 'LOCATION_Carolinian Mills Inc', 'LOCATION_Chantilly', 'LOCATION_Chapel Cove', 'LOCATION_Chapel Ridge', 'LOCATION_Charlotte', 'LOCATION_Chatham', 'LOCATION_Cherry', 'LOCATION_Cherryville', 'LOCATION_Cheshire', 'LOCATION_Chestnut Ridge', 'LOCATION_China Grove', 'LOCATION_Christenbury Hall', 'LOCATION_Cleveland', 'LOCATION_Cleveland Holloway', 'LOCATION_Coker Hills', 'LOCATION_Collins Ridge', 'LOCATION_Colonial Village', 'LOCATION_Colony Woods', 'LOCATION_Commodore Peninsula', 'LOCATION_Commonwealth Park', 'LOCATION_Concord', 'LOCATION_Cornelius', 'LOCATION_Cotswold', 'LOCATION_Country Club Heights', 'LOCATION_Cramerton', 'LOCATION_Creekside Village', 'LOCATION_Croasdaile Farm', 'LOCATION_Crystal Lake', 'LOCATION_Dallas', 'LOCATION_Davidson', 'LOCATION_Davidson Landing', 'LOCATION_Denton', 'LOCATION_Devonshire', 'LOCATION_Dilworth', 'LOCATION_Dogwood Acres', 'LOCATION_Downtown', 'LOCATION_Downtown District', 'LOCATION_Duke Forest', 'LOCATION_Duke Park', 'LOCATION_Durham', 'LOCATION_East Spencer', 'LOCATION_Eastmoor', 'LOCATION_Eastover', 'LOCATION_Eastwood Village', 'LOCATION_Elizabeth', 'LOCATION_Enderly Park', 'LOCATION_Fairview', 'LOCATION_Faith Farms', 'LOCATION_Farmwood', 'LOCATION_Fearrington', 'LOCATION_Five Points', 'LOCATION_Fletcher', 'LOCATION_Forest Hills', 'LOCATION_Forest Oaks', 'LOCATION_Forest Ridge', 'LOCATION_Fourth Ward', 'LOCATION_Foxcroft', 'LOCATION_Fulton Heights', 'LOCATION_Gastonia', 'LOCATION_Gold Hill', 'LOCATION_Graham', 'LOCATION_Granite Quarry', 'LOCATION_Granville', 'LOCATION_Green Acres', 'LOCATION_Greenway Park', 'LOCATION_Greenwood Fields', 'LOCATION_Greystone Village', 'LOCATION_Grove Park', 'LOCATION_Grovemont', 'LOCATION_Guilford', 'LOCATION_Harbor Cove', 'LOCATION_Harmony', 'LOCATION_Harrisburg', 'LOCATION_Harrisburg Park', 'LOCATION_Haw Creek', 'LOCATION_Haw Village', 'LOCATION_High Point', 'LOCATION_Highland Park', 'LOCATION_Hillcrest', 'LOCATION_Historic District', 'LOCATION_Holcomb Woods', 'LOCATION_Holt Lake West', 'LOCATION_Homestead Heights', 'LOCATION_Hope Creek', 'LOCATION_Hope Valley', 'LOCATION_Hope Valley Country Club', 'LOCATION_Horney Heights', 'LOCATION_Huntersville', 'LOCATION_Huntson Reserve', 'LOCATION_Ivanhoe', 'LOCATION_Jackson Park', 'LOCATION_Jenkins Heights', 'LOCATION_John S. Henderson', 'LOCATION_Johnston', 'LOCATION_Kannapolis', 'LOCATION_Kellswater Bridge', 'LOCATION_Kenilworth', 'LOCATION_Kings Mountain', 'LOCATION_Kingstree', 'LOCATION_Kinmere Commons', 'LOCATION_Lake Norman Bonanza', 'LOCATION_Lake Wylie', 'LOCATION_Lakeview Estates', 'LOCATION_Lakeview Park', 'LOCATION_Lakewood', 'LOCATION_Landis', 'LOCATION_Laurel Grove', 'LOCATION_Leicester', 'LOCATION_Lexington', 'LOCATION_Linwood', 'LOCATION_Long Meadows', 'LOCATION_Lost Forest', 'LOCATION_MackIntosh on the Lake', 'LOCATION_Madison Green', 'LOCATION_Madison Park', 'LOCATION_Malvern Hills', 'LOCATION_Malvern Walk', 'LOCATION_Mariner Villas', 'LOCATION_Meadowmont', 'LOCATION_Mercer', 'LOCATION_Merry Oaks', 'LOCATION_Midland', 'LOCATION_Midwood', 'LOCATION_Mill Creek', 'LOCATION_Montford', 'LOCATION_Montreat', 'LOCATION_Montvale', 'LOCATION_Mooresville', 'LOCATION_Morgan Creek', 'LOCATION_Mount Holly', 'LOCATION_Mount Pleasant', 'LOCATION_Mountain Retreat', 'LOCATION_Myers Park', 'LOCATION_Nolen Farm', 'LOCATION_North Forest Hills', 'LOCATION_Northgate Park', 'LOCATION_Northstone', 'LOCATION_Norwood Park', 'LOCATION_Not In Subdivision', 'LOCATION_Oak Forest', 'LOCATION_Oak Park', 'LOCATION_Oak Valley', 'LOCATION_Oakhurst', 'LOCATION_Old North Durham', 'LOCATION_Olde Homestead', 'LOCATION_Olin', 'LOCATION_Orange', 'LOCATION_Oxford Manor', 'LOCATION_Oxford Park', 'LOCATION_Panther Creek', 'LOCATION_Park Place', 'LOCATION_Parkwood', 'LOCATION_Pine Valley', 'LOCATION_Pirates Cove', 'LOCATION_Portofino', 'LOCATION_Providence Park', 'LOCATION_Quarry Hills', 'LOCATION_Randolph', 'LOCATION_Reems Creek Golf Community', 'LOCATION_Reynolds Mountain', 'LOCATION_Riceville Forest', 'LOCATION_Ridgecrest', 'LOCATION_Ridgewater', 'LOCATION_River Run', 'LOCATION_Rock Gate Estates', 'LOCATION_Rockwell', 'LOCATION_Rockwood', 'LOCATION_Rocky Ridge', 'LOCATION_Royal Oaks', 'LOCATION_Royal Pines', 'LOCATION_Salisbury', 'LOCATION_Scotland Manor', 'LOCATION_Sedgefield', 'LOCATION_Seversville', 'LOCATION_Shamrock Green', 'LOCATION_Sherwood Forest', 'LOCATION_Sherwood Heights', 'LOCATION_South End', 'LOCATION_Southbrook', 'LOCATION_Southcliff', 'LOCATION_Southern Village', 'LOCATION_Sovereign Oaks', 'LOCATION_Spencer', 'LOCATION_Stallings Glen', 'LOCATION_Stanley', 'LOCATION_Statesville', 'LOCATION_Stones Edge', 'LOCATION_Stones Throw', 'LOCATION_Stoneybrook', 'LOCATION_Summer Ridge', 'LOCATION_Summerfield', 'LOCATION_Sunset Mountain', 'LOCATION_Swannanoa', 'LOCATION_Sweet Birch Commons', 'LOCATION_The Arts District', 'LOCATION_The Broadway Asheville', 'LOCATION_The Cliffs At Walnut Cove', 'LOCATION_The Cliffs at Walnut Cove', 'LOCATION_The Enclave at Providence Park', 'LOCATION_The Oaks', 'LOCATION_The Palisades', 'LOCATION_The Peninsula', 'LOCATION_The Point', 'LOCATION_The Preserve at Jordan Lake', 'LOCATION_The Views Of Asheville', 'LOCATION_The Villages At Crest Mountain', 'LOCATION_The Vineyards on Lake Wylie', 'LOCATION_Thomasville', 'LOCATION_Thoms Estate', 'LOCATION_To Be Added', 'LOCATION_Town Mountain', 'LOCATION_Tralee', 'LOCATION_Trellis Pointe', 'LOCATION_Treyburn', 'LOCATION_Trinity Heights', 'LOCATION_Trinity Park', 'LOCATION_Troutman', 'LOCATION_Tuscaloosa Lakewood', 'LOCATION_Villa Heights', 'LOCATION_Vineyards', 'LOCATION_Watts Hospital Hillandale', 'LOCATION_Weatherstone', 'LOCATION_Weaverville', 'LOCATION_Wesley Heights', 'LOCATION_West Asheville', 'LOCATION_West Asheville Estates', 'LOCATION_Westwood', 'LOCATION_Wildlife Bay', 'LOCATION_Wilmore', 'LOCATION_Wiltshire Manor', 'LOCATION_Windsor Park', 'LOCATION_Windward Pointe', 'LOCATION_Wingate Estates', 'LOCATION_Winston Salem', 'LOCATION_Woodland Hills', 'LOCATION_York Chester', 'LOCATION_southwood']\n"
     ]
    }
   ],
   "source": [
    "most_relevant_features= list( dict((k, v) for k, v in model.get_booster().get_fscore().items() if v >= 10).keys())\n",
    "print(most_relevant_features)"
   ]
  },
  {
   "cell_type": "code",
   "execution_count": 39,
   "metadata": {},
   "outputs": [
    {
     "name": "stdout",
     "output_type": "stream",
     "text": [
      "[314333, 306472, 441185, 163780, 444265, 366357, 500162, 454160, 513071, 617925, 210782, 295148, 578939, 341134, 506517, 354305, 206868, 289280, 460609, 502559, 292924, 368035, 462100, 581374, 531775, 292827, 376408, 229559, 741702, 337439, 284661, 334587, 368862, 174472, 412139, 224245, 587561, 213911, 405843, 251410, 355369, 253852, 432515, 501891, 372412, 280633, 257654, 464441, 395797, 840091, 504731, 508214, 184144, 675393, 373607, 328891, 1223303, 252809, 216206, 545136, 405480, 238647, 411583, 290868, 228818, 473902, 479455, 290664, 335919, 329134, 461997, 448143, 494042, 203806, 246509, 554593, 798791, 546862, 150623, 310827, 483614, 398604, 335204, 196406, 764803, 225100, 389830, 484584, 295233, 291348, 356276, 437869, 564741, 313540, 303014, 437224, 848922, 397491, 343517, 250512, 351837, 516370, 142175, 567999, 218580, 327297, 355538, 391777, 219348, 189408, 276029, 396861, 430469, 219242, 498692, 381842, 342739, 144313, 274150, 213085, 614691, 434145, 305689, 390895, 229383, 640367, 545711, 241619, 385787, 253075, 352701, 391107, 354024, 821848, 633243, 311548, 302704, 473230, 606771, 527378, 579945, 317703, 287843, 540909, 552344, 449436, 469109, 318589, 388532, 496113, 507592, 208867, 496750, 194727, 329857, 177225, 349139, 540272, 202817, 341319, 444718, 433319, 407416, 391021, 478152, 516325, 332968, 437920, 122853, 327534, 393863, 441779, 358943, 254589, 424711, 205633, 503535, 376624, 235445, 298883, 405264, 451167, 440307, 399744, 971865, 164540, 351782, 380891, 268150, 314598, 482362, 422407, 616149, 219012, 208911, 300054, 815495, 440632, 332557, 277172, 664777, 405947, 321570, 591886, 365211, 479344, 341793, 434981, 252959, 564353, 296781, 282322, 219985, 533032, 255114, 361917, 434006, 1153602, 468970, 460212, 529576, 603586, 321909, 236367, 304182, 270555, 834246, 277968, 291494, 495637, 373758, 181163, 281779, 200457, 312056, 222400, 287566, 287789, 186613, 242109, 578178, 731650, 304359, 326665, 385359, 244432, 293199, 334746, 400719, 190998, 416013, 357683, 206473, 468159, 305406, 460793, 343949, 387483, 219544, 317730, 427472, 324599, 629562, 521933, 458382, 266828, 489812, 446696, 283614, 394316, 292164, 421419, 415324, 195851, 399705, 251643, 419144, 551745, 404331, 775351, 388992, 209902, 375298, 663915, 336289, 157280, 165454, 451624, 421149, 304763, 317188, 771300, 594489, 682801, 594029, 254012, 490652, 273098, 428605, 294387, 595488, 414680, 395787, 186980, 648617, 322567, 409925, 405167, 349040, 216997, 422575, 524094, 893149, 552237, 455692, 247684, 447682, 428179, 225688, 338426, 532153, 330218, 242297, 179170, 185169, 334493, 355503, 559116, 468988, 450383, 633011, 455144, 260364, 258155, 504034, 525498, 342579, 271835, 263206, 192848, 540975, 491331, 215073, 382463, 288429, 364897, 527976, 536848, 326589, 397910, 390216, 427966, 408467, 545499, 432788, 781316, 382600, 227866, 356723, 208336, 577366, 496917, 335205, 215825, 303673, 541435, 372144, 610460, 209427, 365249, 451216, 256870, 206757, 174134, 354239, 221614, 462284, 355549, 384155, 360165, 337648, 440910, 525993, 481589, 411750, 500978, 286637, 348064, 418403, 529562, 314244, 293005, 299782, 151343, 261851, 297682, 256409, 607248, 350103, 430707, 770221, 231588, 492191, 225375, 302088, 297921, 331310, 558294, 424462, 828846, 639836, 265612, 241607, 711137, 869480, 322367, 676207, 399251, 418792, 449274, 368371, 847333, 357366, 558149, 473227, 215548, 440329, 320406, 356464, 258379, 423818, 501320, 349548, 1109802, 306424, 282419, 276121, 738067, 584169, 342668, 568044, 599917, 349653, 346115, 283992, 375024, 338201, 163719, 411415, 377290, 729456, 246899, 593393, 311796, 191920, 479996, 401679, 810337, 321295, 537020, 184724, 517415, 344025, 300547, 321296, 264435, 642161, 586755, 410573, 763525, 434619, 442821, 228087, 811577, 576988, 373185, 320995, 310619, 341862, 774314, 532276, 281583, 349175, 326319, 729280, 271355, 559584, 542567, 331143, 1670771, 509992, 521584, 329513, 960909, 416214, 221014, 279561, 553709, 676727, 938517, 489048, 1085660, 651999, 460300, 537101, 213742, 305746, 540673, 456249, 278603, 278463, 338256, 376563, 493402, 692740, 220491, 455198, 469978, 196976, 301473, 481772, 811899, 515454, 264235, 367365, 434648, 646410, 571196, 267203, 498074, 497636, 603211, 629863, 495787, 520817, 685800, 372317, 437981, 629578, 269369, 175592, 465198, 392611, 232300, 460369, 605718, 363680, 382182, 250123, 769016, 395508, 461915, 333619, 328618, 538804, 241645, 318716, 288593, 282506, 320793, 323268, 359538, 524279, 244583, 368481, 266669, 139810, 545938, 440564, 444692, 352183, 534392, 469829, 526882, 373475, 596441, 617941, 413740, 287521, 1192071, 433360, 400925, 324646, 540161, 360923, 455660, 122774, 384744, 165447, 194753, 562407, 364693, 517839, 453151, 307023, 433433, 448343, 496925, 908872, 403239, 161814, 488468, 281893, 165080, 379632, 172369, 358375, 410336, 376733, 416009, 242738, 196601, 241866, 335993, 381536, 528199, 365809, 493981, 317244, 257690, 621471, 428845, 388086, 485791, 488378, 453806, 468566, 270664, 222428, 379100, 338181, 269853, 282655, 343088, 230690, 399496, 296846, 417174, 411160, 220519, 360542, 472357, 328535, 628099, 350578, 341682, 370451, 375967, 378733, 282821, 477574, 144895, 256373, 281990, 212409, 552343, 662579, 355696, 172242, 269141, 124099, 508304, 930482, 666525, 484527, 480103, 419588, 398528, 777778, 641086, 417428, 230631, 439948, 1055321, 322700, 273962, 362357, 213036, 359015, 158483, 570723, 309149, 404741, 401920, 532662, 213630, 449098, 1225476, 415365, 626818, 391973, 413551, 152325, 376839, 294779, 831463, 356622, 524453, 414149, 265890, 356283, 165404, 629445, 310019, 317582, 621048, 581367, 340251, 183605, 232153, 184528, 436714, 619318, 168754, 349412, 114927, 216894, 472249, 607619, 354841, 312615, 335785, 479013, 351715, 667592, 404651, 329187, 231823, 458636, 357270, 243795, 388486, 623936, 597733, 197129, 406172, 336037, 347793, 158746, 129921, 267689, 345450, 357985, 270633, 368935, 269619, 771369, 284073, 168745, 251194, 363809, 547041, 375699, 316726, 325669, 392762, 352916, 383592, 335944, 728842, 677338, 407684, 719012, 319668, 337755, 580654, 313966, 349687, 297606, 498623, 271236, 583006, 513083, 473592, 367828, 352149, 393728, 314071, 331969, 203304, 542393, 509161, 402892, 515819, 250652, 435705, 383868, 175521, 629261, 685803, 257756, 283323, 188545, 419524, 240390, 1177477, 360891, 249013, 479673, 528380, 542268, 282442, 392706, 346686, 502456, 370864, 335980, 227514, 437250, 426564, 153656, 473926, 193441, 395278, 571703, 339347, 251662, 629250, 657072, 408148, 315048, 417629, 215090, 394826, 445967, 359929, 242377, 376469, 239745, 859062, 367654, 308944, 236397, 304975, 279329, 493670, 408469, 442300, 456393, 274162, 698743, 278957, 857910, 415508, 420238, 412369, 222655, 467267, 676408, 763252, 322160, 341483, 434894, 393169, 276547, 364480, 308504, 440361, 541327, 332780, 364678, 178539, 411292, 165358, 1085423, 684736, 267263, 353352, 308203, 272865, 410514, 454710, 379912, 656962, 349182, 1128537, 306325, 322115, 185911, 898139, 340353, 394033, 805948, 322818, 277455, 275160, 384111, 344263, 241553, 222786, 107441, 411120, 282586, 248983, 262288, 542856, 351574, 372753, 382552, 416400, 479468, 1267812, 335967, 193965, 262850, 493122, 644902, 200955, 474209, 453001, 402062, 308812, 501006, 215171, 286734, 272002, 727238, 515776, 440770, 693168, 681078, 429872, 386538, 286287, 475314, 291572, 133891, 354282, 458888, 531678, 218282, 423655, 404203, 500510, 166385, 585902, 587129, 329665, 296180, 420016, 801305, 334054, 509590, 365964, 265677, 199089, 134373, 603687, 182788, 244392, 283560, 723758, 413991, 217435, 481030, 202904, 399210, 354223, 480820, 319964, 549246, 676836, 400972, 357470, 437598, 482076, 473787, 571429, 252597, 308111, 393328, 372779, 234237, 479541, 705908, 681350, 239186, 222105, 452664, 249377, 458485, 242201, 252863, 360586, 444787, 610046, 277526, 334920, 276363, 438100, 358188, 250157, 404623, 396363, 423399, 381904, 200580, 512575, 252780, 741899, 269962, 354897, 418743, 514027, 215575, 352368, 279928, 632157, 253111, 498282, 262442, 198088, 622974, 165949, 428196, 1287729, 293809, 461744, 233304, 498190, 299726, 277846, 483796, 399129, 850022, 369470, 549088, 417436, 253856, 170561, 405819, 767263, 358183, 339000, 286727, 428001, 588602, 336805, 498018, 425195, 287010, 384774, 170203, 157020, 249851, 825685, 527105, 485722, 405065, 1027803, 400344, 329606, 401726, 309531, 138669, 231471, 354245, 530945, 403725, 427054, 356593, 710755, 342677, 247580, 423312, 596693, 412973, 829360, 286475, 183160, 713569, 139054, 346740, 392486, 205494, 305261, 966216, 249668, 227556, 371084, 453903, 560793, 278427, 454422, 428202, 448000, 170695, 668835, 164958, 594822, 643077, 757038, 550024, 492796, 468339, 283523, 420804, 381739, 361284, 500530, 405261, 136696, 421694, 413249, 607124, 436943, 288628, 249296, 319783, 332538, 307035, 296268, 305752, 485596, 317644, 283252, 272423, 352974, 357299, 161490, 375770, 260096, 362668, 321193, 138595, 226117, 202749, 418720, 152818, 303990, 326431, 198770, 252256, 537422, 273666, 579551, 247774, 528461, 244669, 377468, 295354, 405552, 228659, 303276, 434895, 360599, 307707, 308378, 287050, 403714, 302136, 282467, 837458, 279417, 373376, 346397, 557901, 545857, 512084, 463201, 359749, 611135, 886616, 349626, 300202, 222400, 191961, 264141, 227654, 574362, 420448, 311125, 482606, 297348, 537179, 919847, 286099, 165698, 246392, 398916, 280346, 245323, 191800, 307978, 438879, 229050, 261815, 308281, 339233, 620210, 312480, 231430, 508135, 303595, 352834, 248748, 476997, 582729, 447042, 495349, 641255, 231719, 662607, 526543, 142832, 1718022, 258252, 503529, 508178, 265162, 579059, 266755, 424936, 405495, 552802, 660044, 233058, 249213, 212675, 349802, 218462, 524115, 398156, 359397, 442693, 454420, 281583, 201734, 317357, 384280, 132395, 232797, 249387, 564116, 288361, 177319, 708087, 422706, 463748, 382851, 404217, 432878, 340360, 260874, 457615, 180001, 319810, 221406, 774100, 294165, 384427, 309606, 703650, 595218, 538992, 350339, 426151, 431379, 233150, 421541, 449067, 467330, 143322, 204238, 546617, 314819, 325773, 350429, 132497, 506882, 360532, 243006, 541314, 348208, 308592, 351628, 405684, 292515, 299533, 152511, 1140262, 322957, 159260, 429031, 498327, 451913, 190013, 520843, 392254, 336946, 702755, 357436, 308081, 697612, 411072, 380443, 369397, 249503, 339522, 284954, 596492, 395643, 214278, 532548, 374942, 315177, 285976, 269102, 287754, 381516, 231185, 260314, 596823, 336127, 795826, 495344, 246313, 324609, 388830, 433333, 294902, 385555, 288846, 541353, 348819, 798211, 284124, 593004, 212038, 477600, 349001, 467314, 521550, 362763, 1156169, 405764, 989443, 276499, 557297, 342881, 381788, 423624, 329101, 308372, 1486593, 561707, 280781, 635056, 223966, 341632, 317416, 564131, 351308, 418162, 263373, 493159, 145327, 411987, 285786, 409854, 406767, 205439, 346062, 470353, 376948, 327572, 499223, 495102, 295679, 251661, 972737, 672811, 213211, 460692, 769928, 254834, 602429, 298943, 358282, 523221, 463308, 500635, 261662, 342512, 282755, 1071376, 368268, 265895, 336880, 224937, 336911, 515417, 364569, 645080, 410142, 446129, 399399, 250027, 593739, 368739, 374972, 401889, 260030, 341510, 203044, 254762, 296095, 546801, 362971, 308307, 433757, 409928, 210560, 438042, 385887, 397295, 357713, 245757, 213200, 312273, 355984, 351588, 460418, 237687, 305938, 332920, 199037, 371580, 641896, 162334, 511201, 445466, 1047485, 374092, 642279, 353762, 280892, 418670, 317948, 721867, 433260, 546578, 410819, 256327, 493806, 366895, 372103, 314137, 502045, 431131, 652390, 310868, 262635, 407802, 680477, 159700, 396136, 447722, 329709, 254708, 528521, 312970, 829542, 423818, 135912, 318193, 372071, 443118, 376360, 341824, 415683, 650346, 836861, 180319, 270234, 222913, 408672, 629040, 357565, 386981, 147328, 239395, 347727, 231001, 347438, 436834, 461390, 272706, 446653, 553238, 312922, 724398, 351170, 466750, 348708, 828733, 408245, 954271, 605507, 355819, 529933, 774595, 361663, 718450, 355997, 619684, 212565, 259745, 270940, 345910, 346889, 312594, 781691, 382973, 747465, 653452, 360902, 910802, 278858, 442826, 348813, 379778, 207516, 272035, 357465, 481575, 234843, 172752, 589576, 362792, 268438, 219176, 309954, 274290, 165143, 463689, 458231, 690220, 371655, 318179, 319892, 286819, 415621, 509694, 496464, 396492, 212213, 329466, 201721, 650644, 279677, 152007, 345077, 311865, 331399, 266949, 597329, 324055, 459842, 237998, 329916, 191201, 451210, 567023, 221689, 226211, 356141, 362166, 473007, 367696, 586629, 288003, 358010, 292669, 288764, 398731, 321315, 485578, 607623, 288706, 395824, 385220, 394100, 354120, 254160, 246990, 253099, 336967, 178316, 616298, 339347, 404641, 373745, 546101, 402016, 279116, 403050, 291518, 374032, 514383, 217766, 198400, 332349, 291083, 326592, 252414, 362871, 257101, 246271, 260622, 291080, 296291, 413230, 354647, 393020, 479636, 499739, 335676, 335263, 277578, 197265, 358720, 358810, 420027, 391023, 401570, 238413, 584544, 385533, 297060, 489410, 321103, 244686, 367829, 497153, 555850, 909083, 432119, 278032, 416370, 190781, 371359, 375792, 354488, 464366, 378460, 499339, 365704, 205742, 294622, 349138, 203342, 429475, 405106, 357046, 629731, 968695, 347119, 305376, 404891, 369504, 529612, 595681, 426454, 269637, 247279, 260717, 267653, 240917, 141497, 796617, 333233, 247157, 418856, 428142, 501960, 256140, 758377, 346778, 470283, 445522, 220976, 308022, 215068, 421394, 558454, 177863, 321523, 349636, 293559, 388963, 310230, 460517, 499899, 482224, 467247, 301938, 206089, 353699, 227464, 439641, 438092, 353638, 155450, 403581, 391258, 189367, 332996, 349848, 516367, 453152, 775020, 552776, 368807, 583911, 324121, 437028, 154194, 186514, 575178, 644706, 436823, 192123, 808000, 548870, 537866, 414977, 287120, 518558, 351742, 1019477, 295603, 252308, 381216, 947249, 247966, 255880, 750363, 553913, 357092, 377772, 471972, 516837, 259416, 440696, 325562, 855576, 370263, 215408, 560452, 371672, 313869, 744678, 227732, 507844, 258314, 311527, 451366, 361168, 438324, 313956, 354301, 290675, 527244, 351724, 332096, 452678, 328004, 372707, 260205, 936351, 382344, 303186, 661697, 470102, 613617, 410218, 308846, 184055, 267968, 1364099, 615734, 476872, 215117, 330701, 538403, 382338, 219556, 219620, 557362, 632755, 396745, 441623, 418267, 305114, 389386, 413493, 176255, 284629, 268324, 445632, 507575, 405426, 641660, 1134327, 298843, 229546, 313353, 473529, 391404, 324824, 528303, 636755, 341052, 391976, 685469, 303033, 829659, 248165, 602680, 387670, 412844, 365817, 227744, 114249, 204890, 320007, 349593, 178936, 172602, 601358, 354864, 300658, 461667, 337054, 244551, 216538, 421953, 387046, 757946, 481697, 420361, 392261, 283150, 511239, 292600, 485635, 299017, 278645, 307470, 249729, 713029, 321525, 267859, 504610, 302392, 707039, 266090, 330101, 588212, 436181, 489805, 461640, 572641, 504899, 169466, 399159, 160343, 316266, 275724, 400378, 422211, 284387, 250576, 313669, 457283, 384316, 275610, 350785, 470842, 301455, 405556, 230804, 474401, 411196, 319656, 227501, 373046, 236114, 418894, 335571, 341692, 370802, 380359, 625606, 462745, 169694, 234792, 302727, 182137, 329596, 394148, 359744, 372288, 507238, 295220, 718527, 443427, 571930, 306350, 366101, 300797, 470757, 431570, 217537, 385197, 363037, 500745, 460915, 403522, 595325, 641340, 390423, 347890, 518465, 356078, 313414, 411543, 228747, 272658, 256334, 260384, 438475, 354672, 602312, 328080, 297351, 331468, 486306, 355614, 198831, 547617, 287777, 625388, 331438, 243549, 212823, 291126, 1127834, 154709, 332912, 464205, 600583, 312863, 370957, 828071, 313785, 213493, 776468, 417451, 540593, 229078, 302572, 436758, 311330, 368857, 361112, 552413, 358056, 299579, 330548, 580753, 534107, 274672, 648911, 415793, 332000, 1147214, 294681, 257597, 407302, 256456, 435741, 425341, 338007, 439920, 396155, 436938, 271050, 351559, 424402, 235194, 554620, 616139, 276173, 429885, 440262, 481360, 291803, 511741, 549135, 190856, 167706, 368954, 124230, 536744, 449295, 262213, 395179, 821981, 343389, 255450, 342750, 343457, 428782, 613390, 646128, 140554, 376024, 506971, 694884, 224728, 233882, 340199, 430050, 433996, 698313, 266398, 363541, 510782, 338340, 358052, 625539, 377102, 307947, 402079, 597082, 426630, 635480, 266248, 261894, 401855, 768240, 533897, 646558, 248386, 214903, 192481, 258643, 395569, 424014, 504779, 462442, 210611, 443379, 246183, 333161, 307347, 467507, 881619, 215954, 690071, 317856, 396225, 303328, 280303, 571031, 194810, 282872, 253066, 490817, 353656, 213004, 198612, 1107778, 432517, 377315, 322629, 313439, 414212, 250930, 543232, 358105, 335590, 384397, 471535, 216011, 485195, 1142449, 440225, 337816, 1155892, 359492, 369689, 494202, 333411, 332252, 441076, 1016276, 373249, 412178, 801950, 330287, 495950, 447618, 221900, 293410, 469161, 387032, 426008, 278571, 435623, 781799, 349446, 268653, 1100832, 655847, 489696, 414718, 728592, 501663, 274766, 195571, 284554, 441375, 620294, 337260, 356834, 1312460, 273033, 240215, 209046, 357330, 314924, 342076, 212063, 356923, 394449, 194444, 150338, 472788, 464703, 661654, 217666, 368718, 381797, 482717, 120828, 344110, 212118, 402170, 164351, 283913, 532412, 227401, 303530, 615567, 452278, 723931, 437399, 361412, 276493, 331562, 352987, 258662, 249609, 234650, 527082, 387836, 410551, 841427, 454324, 363989, 473804, 370327, 288177, 338585, 513586, 1350276, 341255, 404720, 295396, 406739, 329597, 486554, 330302, 517538, 688815, 303765, 316384, 976998, 440359, 504206, 162284, 565791, 965427, 219673, 526243, 219776, 503338, 370988, 913090, 417397, 206570, 371634, 434837, 462185, 297986, 756868, 432331, 383521, 579499, 279121, 384764, 276405, 307578, 1200570, 772640, 206633, 207414, 411497, 390458, 473536, 358040, 482641, 1160908, 245015, 356246, 154444, 313883, 479076, 118048, 350890, 226893, 315076, 413528, 729513, 381232, 376110, 237155, 443947, 349508, 386011, 240559, 471343, 894975, 469591, 243077, 333555, 397868, 1183520, 362637, 317127, 247080, 268505, 174695, 336124, 300956, 1283475, 414536, 484233, 283249, 387692, 823011, 248910, 239710, 202954, 290595, 174020, 445305, 282678, 332369, 199101, 956266, 562169, 321558, 271951, 439799, 188327, 201010, 268321, 568306, 217634, 368856, 366929, 368129, 620340, 280639, 333772, 189775, 372618, 196165, 413403, 232153, 432657, 421152, 359977, 371096, 222292, 519024, 453026, 1096576, 277248, 405499, 298230, 411827, 379434, 315938, 1022255, 600747, 369006, 338811, 241080, 559364, 374429, 175062, 462803, 1142092, 351226, 394892, 318709, 207842, 401618, 437966, 561652, 388462, 335508, 337291, 341236, 370760, 247750, 330184, 463260, 184283, 466512, 455665, 181613, 166818, 241322, 535449, 270467, 385349, 282779, 274691, 455768, 383457, 256040, 263218, 891658, 1064765, 214701, 356393, 199980, 853095, 308894, 514322, 437319, 566724, 836981, 269522, 336914, 392476, 332047, 301073, 493510, 632852, 396237, 384766, 632986, 410081, 309178, 289615, 467928, 496342, 344328, 169832, 474960, 251836, 530214, 1236576, 235910, 464214, 455501, 285395, 447144, 288701, 612099, 360818, 420536, 281200, 558011, 334780, 383736, 352951, 432809, 245711, 125983, 617772, 345243, 498513, 435367, 226504, 323294, 435882, 221539, 521666, 382820, 314128, 398802, 485326, 332990, 350579, 412232, 270496, 284681, 281684, 286895, 409916, 428650, 292946, 275860, 146334, 594310, 278824, 278477, 517556, 305325, 292792, 193650, 619864, 140612, 200838, 308013, 470753, 202558, 466458, 291909, 396202, 260865, 364842, 747440, 299086, 260304, 376314, 270250, 251838, 679559, 283226, 456869, 285979, 235021, 391660, 340580, 404884, 286617, 361190, 313150, 424865, 385649, 458476, 606396, 610605, 438698, 154266, 437882, 434602, 334334, 1057414, 174515, 219959, 358909, 362714, 223378, 201445, 509755, 467758, 158407, 305466, 240158, 270342, 610934, 446108, 427927, 281261, 296863, 368070, 701263, 405881, 252275, 243303, 245359, 146200, 559446, 299292, 308651, 375284, 537346, 273784, 501540, 271250, 380987, 159759, 309862, 235921, 568898, 1010411, 442677, 475325, 370792, 623232, 915710, 281743, 593995, 347653, 452084, 410612, 286425, 332620, 262272, 147473, 261870, 326469, 413644, 227428, 499527, 328997, 208667, 346758, 244444, 355998, 392132, 379235, 393020, 584005, 340532, 529600, 328967, 277810, 250475, 362489, 533740, 311215, 306469, 778334, 300177, 1456940, 311215, 436481, 281041, 332608, 272372, 423843, 574982, 575641, 611738, 113264, 1017818, 545505, 546154, 394250, 298604, 224907, 244910, 733123, 219119, 237205, 176229, 342391, 560498, 238352, 397972, 467666, 424148, 131365, 422901, 766466, 309601, 419668, 306878, 500878, 407705, 455172, 229342, 466963, 482636, 440255, 409459, 212751, 176444, 415004, 206124, 472024, 567090, 413441, 252957, 316128, 282277, 321877, 416487, 449245, 410016, 367080, 402829, 150923, 347416, 516591, 408803, 353809, 414812, 393396, 445965, 544186, 637897, 351215, 399213, 273344, 274861, 278641, 926775, 279087, 697979, 304698, 401915, 570255, 472928, 415243, 496454, 269154, 407351, 452474, 1538460, 400374, 412835, 435701, 144661, 190059, 596460, 382189, 351605, 392733, 525777, 312489, 618324, 245432, 393826, 215169, 307329, 413870, 405781, 365241, 302409, 332730, 482357, 186741, 307299, 332352, 466526, 220139, 497771, 213223, 586708, 625806, 636573, 437348, 265035, 344313, 472161, 497289, 401143, 265026, 341479, 331582, 128515, 359393, 370002, 519935, 604933, 249217, 352365, 242804, 225038, 263875, 475583, 330911, 374853, 223281, 983146, 424900, 600801, 287334, 644233, 215042, 347588, 210014, 435228, 448594, 687034, 185966, 333577, 542850, 289761, 312399, 214427, 409208, 355270, 330120, 420958, 282818, 693588, 262919, 380457, 294454, 777940, 274634, 587298, 308974, 308562, 507902, 311983, 310929, 565555, 306533, 384633, 434326, 635182, 623825, 353727, 259298, 768150, 372139, 463379, 293959, 253603, 437357, 352459, 464255, 367321, 264494, 346647, 368918, 358476, 326990, 278252, 960465, 280291, 449715, 291276, 285021, 234220, 529798, 487976, 162239, 194396, 290859, 407744, 315609, 334589, 227976, 416433, 237470, 235562, 325202, 331936, 460650, 711149, 445079, 301729, 245679, 819088, 774488, 196010, 397883, 452405, 196701, 501731, 380205, 322413, 404940, 387000, 216150, 247032, 299254, 523455, 187084, 496883, 251792, 320295, 575711, 431046, 305930, 245480, 352010, 291267, 361959, 458610, 274515, 319731, 420494, 286107, 502240, 233094, 466441, 429005, 398514, 745823, 476472, 359700, 412729, 239322, 299651, 258864, 299964, 533525, 378748, 335748, 178262, 271523, 546187, 334956, 369491, 418531, 365789, 407299, 263795, 355085, 349067, 698969, 224801, 1251912, 287460, 298782, 467167, 374321, 459372, 255596, 427013, 314295, 232927, 633862, 503630, 567957, 552752, 766900, 267668, 259522, 382304, 847803, 287921, 241217, 294057, 408498, 551789, 329134, 386072, 347188, 212357, 336572, 543656, 294685, 198961, 221227, 196547, 281779, 553414, 442643, 269372, 438517, 377189, 395855, 259909, 152964, 441037, 233980, 339344, 503831, 511278, 883624, 289041, 540015, 225463, 903013, 592197, 235680, 277516, 248170, 412156, 144821, 406185, 586889, 381689, 247544, 766925, 872407, 259939, 369072, 530983, 203666, 146533, 172791, 188581, 343687, 621765, 374162, 251980, 386846, 372957, 261484, 425962, 710540, 308318, 460932, 131336, 574274, 302939, 178073, 193132, 406456, 651897, 420598, 305605, 184977, 310933, 614537, 450265, 277138, 715259, 816530, 564492, 408992, 473800, 267612, 257645, 377684, 342143, 417978, 457994, 404432, 188849, 356536, 566136, 321512, 472824, 204666, 610095, 138467, 337862, 183374, 287366, 538576, 364042, 534283, 129539, 273597, 394560, 397017, 355399, 531000, 375078, 755964, 953331, 919982, 626385, 513620, 535720, 431731, 514459, 336493, 315275, 351813, 391581, 564707, 547846, 378477, 1151740, 147274, 517182, 991598, 1123948, 631054, 295425, 674136, 364242, 467051, 287939, 292142, 243915, 749643, 496564, 609718, 245644, 490359, 562480, 315516, 246942, 829613, 381647, 256072, 306374, 458667, 383610, 665000, 211961, 254824, 367090, 370569, 420763, 318233, 459532, 918336, 398829, 499744, 168746, 290914, 249492, 160484, 320435, 532985, 222918, 882782, 338080, 395803, 220061, 594420, 500822, 255200, 321438, 283845, 328447, 318404, 569671, 362929, 269826, 652889, 205135, 181046, 518395, 273599, 490444, 459508, 302653, 281999, 514854, 423639, 473631, 310490, 367813, 668617, 683381, 368548, 405087, 358102, 271416, 453616, 336446, 301305, 308254, 202995, 200732, 614546, 477006, 768106, 237708, 327012, 462540, 711077, 290027, 392388, 622379, 422806, 579126, 367821, 313631, 376607, 274484, 281580, 446805, 308696, 390551, 374689, 315533, 962835, 593367, 479227, 374570, 346537, 363623, 181719, 279621, 455298, 386279, 443924, 333149, 246499, 152550, 353076, 263460, 227400, 510344, 451983, 636628, 613106, 895175, 165360, 208584, 551353, 304889, 229979, 454872, 276489, 329131, 700810, 385043, 406200, 394044, 217872, 417555, 333682, 1088495, 532287, 816140, 574392, 504965, 399413, 468417, 440849, 377006, 525699, 123445, 691162, 298433, 911553, 321539, 749832, 605656, 294380, 499401, 407875, 475153, 672135, 432475, 263506, 184965, 362988, 497466, 279677, 323653, 268036, 327061, 300083, 275873, 404310, 224580, 342542, 436942, 221833, 498511, 313894, 493790, 320563, 202756, 532495, 517208, 480870, 420368, 414638, 509356, 395709, 323365, 232462, 286357, 380225, 463617, 762576, 481025, 479670, 510487, 427694, 305541, 360747, 430043, 394732, 1089224, 943487, 873016, 442321, 284586, 402114, 267297, 422152, 588072, 126367, 314510, 457435, 433557, 963805, 450565, 516960, 366559, 419095, 275259, 249153, 404184, 407503, 379304, 450564, 204341, 503857, 698756, 431117, 502389, 570322, 323249, 324739, 367840, 508211, 197016, 447882, 401986, 554611, 520850, 358266, 228677, 259893, 476509, 307461, 325691, 280440, 287591, 211348, 302703, 332187, 341481, 774390, 203094, 322074, 371625, 406410, 269818, 473133, 382894, 322251, 273681, 315613, 205518, 474782, 471061, 317712, 255086, 474588, 371571, 332659, 244205, 394894, 394363, 276375, 435796, 527382, 363606, 405000, 554780, 302002, 487303, 464721, 420753, 492660, 341668, 357308, 328953, 599718, 438672, 241943, 173705, 241661, 270219, 350264, 510183, 314027, 222736, 150189, 270093, 677116, 406681, 367298, 349710, 561248, 512891, 172010, 339483, 194655, 347136, 388875, 305076, 351629, 474587, 291404, 253374, 237605, 646417, 302383, 225687, 514908, 365743, 483782, 191962, 154573, 435421, 213553, 424678, 338194, 282541, 360645, 207776, 454584, 396606, 297266, 434055, 341606, 375739, 451933, 416454, 202221, 374730, 359990, 279576, 185008, 390753, 345062, 291339, 284068, 364222, 183289, 297450, 524323, 286357, 358009, 433554, 254264, 422494, 585667, 211222, 492627, 176145, 618527, 212638, 440491, 295446, 327390, 259740, 385929, 384860, 480003, 656054, 352981, 339592, 710043, 451177, 370531, 584130, 420507, 381672, 302595, 754654, 171276, 256655, 316737, 266525, 475166, 445009, 335076, 752542, 156410, 668021, 380225, 351577, 311827, 301823, 326503, 472567, 251737, 668826, 449091, 321027, 286081, 395958, 699275, 852419, 232763, 455461, 419620, 170449, 342229, 324152, 284473, 300869, 222461, 284768, 155079, 1158260, 547773, 306343, 701124, 280233, 251001, 616711, 615771, 335986, 790302, 708414, 326050, 724215, 279666, 636148, 522772, 553887, 229106, 512281, 385318, 618323, 739791, 502842, 466470, 564861, 398920, 592394, 404426, 253460, 641564, 317889, 487318, 224917, 430744, 348743, 225267, 237940, 262941, 585295, 468458, 417084, 431745, 525094, 433329, 202697, 297208, 178090, 246514, 350603, 226333, 288641, 197790, 472687, 306236, 319307, 396709, 392473, 293992, 174393, 327454, 448465, 166325, 272828, 411445, 267834, 1024128, 184327, 386500, 401222, 414681, 357207, 546678, 212149, 402107, 226408, 300889, 1042016, 417519, 533727, 259279, 174290, 325339, 356957, 274625, 543292, 340115, 472975, 290049, 263692, 165559, 425769, 729152, 412947, 565936, 335913, 583453, 468792, 260996, 289585, 337316, 733344, 319534, 301909, 477311, 722578, 352718, 230988, 485506, 459900, 284952, 267000, 286861, 346825, 201459, 315814, 328059, 297935, 355831, 185915, 189265, 470131, 478740, 352630, 176309, 245766, 766234, 342481, 184290, 340732, 358411, 1161468, 249418, 556553, 222131, 355473, 342657, 494231, 262392, 509506, 458382, 335065, 508058, 183094, 368723, 348810, 608824, 274127, 832287, 814250, 424659, 357125, 392428, 514051, 238917, 786377, 351258, 199637, 212056, 445392, 409177, 403050, 330899, 344451, 177470, 447009, 336647, 506932, 489720, 313082, 849457, 129089, 368040, 475517, 294931, 741053, 311672, 664611, 243887, 333273, 381317, 252221, 332659, 703476, 339811, 459146, 269324, 169032, 432053, 351762, 241457, 161165, 323717, 422788, 410940, 357740, 339990, 458689, 504116, 435352, 789433, 244178, 393067, 183565, 498369, 311186, 416732, 391741, 553672, 922510, 328602, 572232, 401578, 439438, 272993, 627452, 437697, 583983, 369082, 449646, 339903, 290472, 193743, 257055, 491764, 795239, 381677, 385068, 303960, 217311, 1173094, 277262, 523365, 183720, 577006, 222348, 262489, 446215, 175527, 252026, 362186, 667702, 365163, 531506, 327349, 280839, 333827, 564431, 511361, 190778, 455455, 551480, 293311, 223844, 988769, 372356, 392523, 352328, 295897, 397722, 800429, 365501, 194043, 347711, 538950, 365997, 780678, 619605, 732514, 268521, 301582, 454914, 498928, 339137, 300978, 308462, 192760, 270025, 292468, 210516, 289651, 372607, 300074, 432302, 139752, 413457, 537259, 231619, 525279, 447158, 1366694, 380581, 956843, 460935, 308799, 373764, 892732, 334775, 692509, 727306, 456842, 243332, 624915, 266389, 287658, 360613, 408368, 534303, 365109, 312566, 154916, 221460, 323525, 268500, 479307, 347442, 363239, 1079385, 491088, 788829, 417750, 314623, 413050, 231200, 226469, 267802, 130023, 490802, 282233, 254846, 387718, 403159, 401963, 643219, 448235, 308560, 161913, 536102, 435404, 495517, 187898, 625643, 280555, 350991, 496370, 383899, 223323, 332075, 286819, 659440, 355229, 354980, 400384, 1392288, 374825, 319487, 799198, 295699, 286243, 262658, 309570, 374723, 258166, 328686, 176027, 360003, 594217, 357335, 1096061, 629557, 595606, 436829, 473782, 236349, 171253, 618728, 283286, 529828, 637592, 618174, 638528, 305635, 365916, 572448, 897245, 579932, 287363, 228946, 918109, 413475, 970466, 273882, 409904, 437563, 569461, 268064, 244338, 684645, 383828, 297933, 167102, 641540, 279802, 294579, 406979, 268613, 353837, 325029, 403903, 669944, 213018, 208605, 345925, 326138, 372937, 170161, 385037, 257401, 549535, 341672, 384781, 311286, 381466, 626692, 194234, 443796, 491339, 409213, 487691, 382524, 165967, 299689, 413797, 348019, 283321, 838166, 312313, 243108, 369396, 408886, 380823, 276524, 395647, 265847, 1130650, 303017, 132252, 364825, 301645, 922566, 566067, 332959, 289034, 185382, 171587, 379643, 178167, 593598, 258533, 317811, 799269, 419304, 207838, 271346, 620095, 680053, 289570, 430400, 246526, 277332, 497460, 229692, 432159, 353255, 772127, 940495, 150648, 325407, 253617, 377823, 716991, 872666, 326755, 368462, 951789, 273738, 487321, 466521, 250006, 448606, 378442, 188770, 408797, 496739, 1273669, 593269, 350761, 340215, 385609, 457875, 436756, 279107, 576844, 207104, 449016, 294176, 738523, 149739, 289511, 340644, 880317, 204161, 158706, 187625, 471632, 453794, 634837, 219701, 443358, 247373, 549337, 454749, 296182, 206735, 466117, 798526, 862807, 596527, 463081, 614242, 503596, 375913, 357489, 320706, 370104, 317280, 1020095, 289912, 282980, 359932, 329133, 551663, 458397, 315464, 608105, 341860, 281309, 282791, 507673, 306763, 772974, 432502, 254384, 175889, 605611, 515850, 401391, 646049, 362402, 622772, 410786, 335662, 500987, 357702, 399290, 289163, 318299, 387180, 513682, 454827, 225576, 201075, 249452, 400073, 471637, 473982, 174129, 350101, 586840, 456267, 350017, 596168, 315565, 367546, 207610, 432269, 476413, 175941, 342564, 313567, 321244, 194031, 405292, 483400, 390674, 446141, 390099, 434226, 273326, 460407, 353842, 898308, 345143, 465282, 329774, 470765, 613480, 341210, 449580, 343983, 598003, 404450, 386083, 502671, 221290, 440892, 237624, 541385, 247773, 359483, 133011, 336344, 266728, 255048, 518527, 290991, 429477, 407994, 338176, 271580, 170273, 491429, 338048, 403440, 341753, 870769, 363036, 425882, 419958, 694613, 368279, 168867, 675183, 178269, 294614, 681650, 424200, 375345, 352780, 430986, 425713, 321865, 374803, 570010, 190623, 416854, 326645, 315346, 320157, 504244, 413095, 496009, 389350, 193541, 261589, 271217, 268782, 366534, 286416, 414100, 314114, 243131, 392782, 358488, 405954, 203273, 337103, 215825, 321204, 426429, 303090, 309366, 268504, 221893, 309686, 360846, 511445, 400805, 307904, 315957, 156757, 445208, 525058, 536993, 1074664, 253858, 190406, 500572, 691718, 453118, 151281, 395404, 566698, 418282, 1081776, 273401, 499620, 384478, 397590, 635151, 622847, 480065, 250640, 741067, 159342, 156989, 235532, 415170, 223714, 382771, 230891, 321484, 583790, 369266, 356693, 241316, 266743, 332861, 457864, 411450, 481406, 405608, 174707, 417137, 329674, 352937, 377394, 339909, 281351, 652952, 445500, 446551, 310844, 229293, 441710, 334581, 710453, 249484, 233464, 173766, 357316, 302995, 428368, 253484, 391697, 374220, 190461, 263179, 303663, 398039, 273117, 615599, 249778, 386327, 354718, 508060, 206637, 311863, 223039, 358916, 279357, 212551, 382543, 423211, 720377, 593507, 299254, 543226, 440948, 263111, 387392, 398509, 397674, 541187, 368319, 752150, 298190, 256557, 671024, 399128, 376354, 442416, 398008, 185611, 479554, 327022, 251174, 819906, 253821, 260205, 159172, 379268, 255270, 398798, 285219, 400774, 203094, 320344, 439108, 284103, 277312, 400706, 328797, 358505, 551090, 245184, 408006, 613827, 432431, 671793, 220382, 416986, 455724, 574016, 553118, 437943, 225959, 279992, 527156, 340526, 465438, 566832, 503177, 342539, 387609, 330330, 170137, 180142, 242260, 700853, 173785, 247566, 365946, 553142, 456106, 489544, 284458, 971065, 305547, 280342, 325517, 338734, 229482, 571186, 456041, 184435, 336665, 347913, 345895, 273789, 455372, 262099, 470611, 302699, 452948, 368174, 283842, 441515, 376915, 370861, 118260, 373395, 255555, 232517, 218027, 399729, 264150, 348627, 296251, 456493, 338603, 232179, 358332, 369292, 429269, 829445, 499944, 721358, 271847, 359226, 178971, 356432, 795823, 267775, 594422, 464498, 391798, 409253, 315863, 333299, 280730, 306880, 126765, 590176, 334312, 389591, 118393, 657931, 456514, 544686, 325764, 288017, 239463, 670868, 669087, 873898, 239626, 325890, 491668, 393914, 364294, 353612, 483685, 311962, 286462, 142086, 167845, 290308, 707375, 470940, 284883, 485121, 126733, 318019, 448823, 439757, 136044, 213434, 484570, 337393, 284680, 507738, 246898, 356424, 284527, 455697, 328558, 296153, 356996, 221113, 240930, 232440, 675920, 681714, 357246, 385498, 287340, 492434, 679333, 210474, 430073, 490186, 188544, 600683, 365588, 424319, 198689, 413003, 498363, 423194, 413112, 275184, 304932, 395608, 311174, 331590, 471005, 615348, 245058, 298782, 354233, 340109, 333646, 200391, 334307, 351500, 229781, 482151, 411777, 179177, 409899, 655839, 184177, 571384, 396245, 290180, 193699, 696414, 313296, 1065227, 411422, 373286, 158235, 495564, 264238, 375814, 334333, 333821, 724316, 288027, 290965, 314116, 344934, 245339, 305805, 342726, 344802, 465130, 298697, 886457, 373200, 448063, 485554, 767400, 287389, 632138, 500520, 465876, 366951, 136642, 261990, 359598, 313142, 323441, 724783, 508720, 295901, 1227973, 185502, 331361, 315626, 417167, 322701, 251165, 181229, 376310, 389133, 273758, 626760, 279645, 366377, 313110, 457352, 603946, 295241, 245574, 340680, 313836, 319480, 158839, 195417, 248353, 254076, 133215, 309760, 325837, 357019, 304879, 186378, 384314, 337612, 267368, 375543, 346323, 550730, 310299, 736300, 386976, 557825, 834371, 360206, 456481, 682895, 264357, 301506, 302119, 498265, 181467, 769479, 325167, 554007, 378024, 258117, 238430, 417752, 422041, 570567, 367606, 316233, 284335, 138361, 394384, 421971, 288206, 438439, 237574, 150279, 446259, 377563, 353104, 421917, 635047, 546676, 569091, 333193, 352494, 395279, 250896, 304014, 436935, 424698, 186698, 230568, 302578, 438383, 267237, 239627, 435227, 1019695, 298932, 307765, 247062, 447271, 435913, 476321, 179239, 444933, 525673, 236222, 230609, 420566, 307929, 216990, 168095, 374198, 301408, 520965, 194123, 259343, 272149, 924008, 238590, 387846, 373296, 843717, 348170, 582530, 298383, 323857, 671029, 483638, 334493, 408133, 426055, 135148, 375277, 487803, 471033, 296628, 239823, 139204, 278598, 304861, 502140, 519829, 330675, 227143, 683558, 308875, 352060, 314946, 453538, 218538, 233124, 563141, 563783, 436773, 713019, 340126, 393050, 415318, 349064, 314440, 249430, 386779, 406585, 455449, 275447, 439161, 350589, 260588, 461441, 251525, 563446, 473142, 361276, 437849, 200210, 312648, 491791, 549091, 181187, 559876, 494953, 520431, 257364, 326361, 357657, 431432, 423743, 1146748, 274686, 305475, 282556, 266178, 526208, 418651, 258019, 338643, 397746, 677039, 652209, 355015, 354922, 300684, 522244, 340222, 259986, 275071, 628773, 482080, 558132, 180073, 350270, 229860, 237885, 279848, 356156, 634690, 255752, 843003, 309630, 298605, 246448, 922630, 406360, 734983, 279771, 514943, 634111, 259400, 559829, 781011, 228714, 423278, 583010, 415820, 450222, 321268, 254742, 544252, 264838, 201951, 428699, 375049, 172736, 246941, 282028, 197599, 288628, 520112, 449487, 392362, 496451, 169780, 610589, 449166, 363827, 310760, 250807, 402200, 415468, 555858, 317146, 188385, 627914, 361989, 189249, 147776, 537626, 654896, 236283, 475381, 436281, 345676, 228577, 168652, 282999, 178615, 209354, 431431, 691836, 323115, 340261, 293720, 747203, 334604, 343964, 390159, 399814, 379795, 316270, 404301, 183117, 273439, 266158, 396520, 202341, 820020, 757296, 398162, 368773, 345911, 175474, 201765, 537713, 201217, 325377, 359742, 698732, 468758, 847296, 539202, 287382, 459005, 635438, 158890, 337451, 1392879, 462388, 425758, 642776, 557045, 694832, 271510, 246974, 373089, 288412, 343541, 161165, 511029, 387518, 607735, 361132, 233639, 465195, 614353, 321558, 532489, 431065, 314623, 373970, 360520, 363554, 285918, 182704, 326586, 321624, 206185, 329664, 405427, 190257, 398615, 307966, 377395, 398717, 669058, 688478, 434759, 259171, 352316, 951348, 330509, 532445, 211194, 631021, 585980, 282455, 362071, 267247, 507831, 245100, 236822, 555117, 279865, 217854, 276298, 257816, 1096955, 248070, 265965, 327914, 729182, 388998, 500958, 823417, 715368, 724500, 383708, 250985, 413332, 338497, 422913, 338547, 584738, 303391, 644261, 357792, 251301, 347828, 531760, 271706, 359067, 434891, 207948, 270830, 584981, 228873, 288492, 361845, 539865, 270998, 300547, 329327, 508736, 119658, 452305, 521963, 168966, 413378, 440164, 298517, 715301, 353192, 431943, 444916, 323057, 369430, 476432, 329578, 396078, 401394, 303192, 402162, 344598, 212464, 292968, 387104, 424780, 308773, 295515, 377917, 281655, 531500, 277298, 310499, 287424, 497422, 281887, 258381, 274664, 514593, 316277, 263695, 275273, 461717, 261256, 636735, 398035, 327979, 945138, 357584, 241614, 357874, 374949, 222513, 523005, 260790, 264688, 375638, 359067, 179674, 463017, 311896, 424609, 430002, 237435, 227066, 506789, 111221, 319613, 371574, 360270, 384551, 392889, 459690, 437478, 906406, 576382, 315284, 304056, 219243, 424954, 420535, 372017, 178478, 346951, 309842, 949250, 295547, 396822, 344935, 282454, 369423, 311217, 378716, 251040, 341927, 1132725, 430608, 568343, 440902, 367062, 425683, 476999, 269585, 286142, 350144, 312045, 257195, 658989, 258270, 584943, 297560, 452701, 289919, 345070, 262567, 147722, 138520, 408333, 406731, 302030, 720371, 333347, 521085, 309845, 412832, 303171, 349518, 328794, 1139428, 164896, 241915, 377112, 468670, 275043, 1071700, 296064, 442263, 433577, 446759, 163160, 459430, 594388, 781474, 504880, 338336, 375350, 425895, 239652, 794581, 1215973, 332231, 421248, 177080, 313297, 313673, 454555, 359405, 431034, 155537, 366288, 325175, 467718, 373962, 554398, 360281, 417599, 194962, 322487, 205653, 527643, 251742, 145960, 452117, 362980, 255482, 374470, 347157, 290592, 676830, 533696, 626211, 946652, 600211, 293913, 250679, 303318, 532940, 373938, 333933, 329110, 350758, 289429, 286202, 239208, 236417, 573643, 326408, 561466, 187445, 169544, 700315, 210193, 203024, 172717, 178985, 156901, 619647, 349322, 393886, 400778, 825621, 219941, 482874, 337887, 951170, 137034, 397254, 578186, 365972, 297344, 256346, 372027, 135949, 221963, 313039, 380990, 501380, 586750, 444339, 250312, 239186, 147066, 328270, 342028, 288404, 496881, 625756, 412276, 328045, 280749, 567101, 696803, 251068, 197143, 656539, 537067, 347395, 366309, 572969, 219748, 169264, 382611, 570841, 517059, 409421, 319564, 330462, 346092, 732814, 531813, 186233, 449493, 300928, 253167, 247788, 423386, 899007, 196946, 237280, 370642, 232978, 324586, 325605, 1057769, 267526, 314955, 614893, 483411, 530585, 390097, 600300, 486664, 460249, 454878, 610012, 469438, 257932, 427800, 856098, 279977, 470731, 412394, 352571, 239662, 323386, 498420, 461830, 324303, 521814, 349100, 227656, 275270, 422852, 321266, 258498, 545867, 139284, 397424, 416324, 377787, 233636, 684622, 217031, 1176674, 667063, 778263, 331472, 594243, 268112, 429040, 507053, 304891, 644361, 323606, 418926, 315803, 379851, 638092, 422374, 546089, 324515, 418926, 776870, 706794, 624205, 188374, 604378, 225063, 310066, 553466, 303380, 548692, 367122, 236469, 229612, 400913, 332337, 427324, 696364, 349306, 419925, 556140, 443017, 371026, 411733, 230684, 765959, 464047, 247348, 250699, 389470, 430948, 290707, 323363, 339215, 209268, 323376, 405793, 263545, 406522, 369974, 237615, 239255, 559530, 386559, 362436, 289705, 696223, 341991, 350579, 813414, 305575, 301715, 277600, 182280, 370094, 229358, 336678, 182170, 304622, 458243, 276880, 322662, 474304, 237335, 512669, 189636, 486845, 646593, 412494, 436698, 263540, 666658, 225597, 205674, 178493, 217487, 162237, 429273, 597376, 329793, 717602, 242799, 369540, 288719, 402144, 576637, 521732, 364245, 628507, 337344, 332513, 294573, 274688, 273399, 400713, 400847, 433809, 483146, 632144, 248604, 330768, 474680, 310161, 292649, 193782, 222418, 243707, 629712, 321433, 366503, 379167, 387852, 551799, 537530, 300656, 238177, 1050626, 459695, 587420, 480163, 394129, 470859, 442420, 250738, 380572, 433137, 492681, 367986, 246523, 362011, 318680, 691722, 290215, 345224, 306500, 648073, 439010, 470978, 649024, 430859, 549871, 523859, 195367, 441544, 282082, 393878, 192169, 349482, 311364, 341103, 289371, 348435, 387662, 509047, 380947, 370971, 431242, 305856, 558605, 396783, 401921, 570771, 433643, 537201, 510617, 401897, 239860, 374412, 274169, 369968, 412723, 422423, 342473, 544965, 635980, 373282, 155982, 213685, 183846, 330240, 397181, 254078, 441218, 528253, 580020, 213915, 385206, 444280, 414101, 479263, 415028, 356880, 484066, 445816, 363388, 690510, 519276, 301545, 336865, 273652, 561238, 223477, 424408, 254040, 254012, 333258, 196006, 257570, 1577382, 389986, 402448, 513511, 304766, 749286, 889369, 326138, 258595, 236217, 328318, 280733, 377454, 521140, 353292, 439282, 348127, 500128, 322750, 228148, 291533, 1297890, 488555, 377853, 354960, 593327, 225692, 415430, 757407, 281894, 411915, 258903, 378479, 327884, 435819, 260404, 413877, 753871, 589403, 752180, 465610, 345370, 233468, 362036, 357959, 393184, 430482, 290256, 546742, 287564, 259081, 291086, 210356, 181467, 363291, 328812, 373357, 268827, 377737, 310476, 420133, 352187, 409622, 330558, 232305, 405708, 463012, 434219, 570667, 336327, 372589, 477082, 919289, 381678, 187077, 496759, 539109, 391222, 404533, 301281, 242981, 405008, 267023, 208096, 279770, 868315, 504316, 227427, 456126, 385121, 472157, 652864, 244764, 272826, 367949, 638392, 387636, 301362, 242103, 246874, 890760, 384138, 163805, 454185, 304993, 217024, 674744, 398923, 179858, 534010, 418223, 396228, 422633, 863565, 421109, 713045, 244056, 299802, 295377, 527367, 615365, 438671, 203574, 844199, 227252, 265064, 357651, 443956, 364854, 252942, 306031, 1429787, 350038, 387070, 274144, 254428, 358534, 491595, 459089, 508190, 246581, 351276, 947019, 524790, 303874, 209844, 319578, 295232, 450360, 197117, 624807, 209666, 452626, 283099, 1350265, 438294, 533355, 575502, 539903, 321185, 342324, 205988, 267623, 400888, 246271, 200749, 306341, 584486, 486490, 516173, 421413, 490502, 400940, 314639, 210637, 230068, 374367, 377448, 436211, 457394, 444296, 631666, 236869, 453069, 372372, 271360, 433543, 347930, 384811, 209758, 454222, 812126, 424556, 239580, 930349, 343279, 358829, 508623, 197251, 221499, 456460, 483969, 871846, 660809, 218879, 372778, 340722, 278989, 477218, 598973, 341028, 443433, 670402, 693182, 290621, 390569, 484961, 441812, 233892, 440546, 303388, 317561, 213313, 147384, 449769, 356415, 292636, 637913, 351287, 319792, 689687, 869690, 167974, 314078, 249183, 415135, 150707, 578446, 706265, 160804, 556968, 376733, 1026006, 253253, 487257, 238845, 260914, 364186, 223318, 227774, 294703, 406674, 211520, 279674, 742823, 358539, 222452, 388641, 206093, 641049, 196893, 394550, 220480, 667845, 504621, 267182, 248593, 477729, 431622, 213909, 545864, 436263, 288172, 409755, 577860, 500452, 405104, 293409, 200214, 444529, 401432, 487280, 570221, 482978, 376479, 163582, 738564, 421587, 333082, 274235, 617293, 158486, 324946, 767686, 245724, 309905, 447335, 340432, 606738, 326787, 309578, 181343, 446864, 715504, 569953, 480191, 337862, 357367, 274063, 420556, 581773, 236718, 474801, 215783, 409296, 304285, 422326, 176010, 270337, 1000862, 504997, 463449, 1350771, 420778, 826590, 324555, 525903, 445002, 670213, 430784, 286395, 330875, 289048, 291468, 348653, 216572, 246286, 271412, 322815, 385924, 280772, 594028, 407590, 294527, 484664, 523424, 328901, 630388, 388557, 591679, 310461, 390949, 454804, 479542, 739796, 526146, 529322, 363921, 231402, 539245, 911085, 372848, 461605, 424218, 306836, 591951, 950007, 296602, 242415, 359431, 142968, 379956, 297357, 430246, 591460, 522180, 287344, 617678, 531873, 489078, 503603, 339747, 348377, 297366, 340220, 186334, 405842, 268744, 581742, 444759, 614306, 669077, 207966, 253290, 676515, 345878, 304603, 229280, 144952, 233906, 412791, 552416, 296852, 1100625, 396736, 500329, 334004, 325313, 238383, 312982, 610157, 405004, 304180, 370661, 361237, 340715, 514985, 631724, 337315, 608355, 302351, 497616, 353766, 334291, 548240, 878346, 332768, 407975, 585951, 739420, 323516, 528209, 182918, 136009, 235868, 551977, 284247, 254454, 516972, 315792, 496786, 509680, 343400, 310028, 355151, 390863, 164805, 296238, 331661, 207477, 353169, 231378, 392960, 230105, 391805, 262592, 366971, 227137, 325781, 422969, 458333, 239120, 420044, 386276, 317917, 314899, 687170, 509609, 462047, 372091, 497146, 226949, 360420, 514232, 1041126, 424930, 291932, 298920, 219320, 945456, 631068, 537769, 201970, 298864, 367888, 367270, 499563, 121297, 1044744, 761749, 285650, 301897, 210332, 552954, 307270, 332830, 313821, 373697, 822751, 384768, 490292, 286365, 359907, 303288, 518957, 510527, 249877, 340972, 197425, 242427, 301442, 210716, 641947, 380210, 262179, 341589, 490356, 328341, 375022, 332815, 879733, 419458, 303953, 231745, 432164, 226108, 328711, 342110, 375180, 385646, 353248, 403368, 447304, 550255, 224476, 340958, 660862, 658266, 428446, 383225, 279094, 319514, 256059, 769831, 175471, 766687, 568473, 388708, 488842, 223439, 511083, 340016, 375961, 457066, 411414, 476988, 499367, 300795, 215848, 303282, 440148, 511200, 441458, 550092, 383108, 271067, 317432, 385567, 561289, 330145, 240532, 403108, 423294, 281590, 326622, 343451, 324482, 658088, 484649, 423807, 768692, 447264, 318454, 332216, 177067, 355537, 322990, 442814, 373737, 368834, 397366, 176400, 308341, 532741, 591406, 378501, 267049, 539489, 504374, 511653, 271776, 424402, 564336, 613178, 407818, 349973, 411136, 366225, 806168, 305706, 322541, 325879, 399997, 339230, 456088, 481575, 208331, 432152, 501151, 426714, 316116, 155025, 249556, 549431, 176752, 215736, 500478, 361350, 314598, 388979, 328068, 486303, 332158, 822251, 545718, 338327, 338541, 332086, 200930, 449326, 250120, 516645, 422619, 207283, 528591, 172833, 453752, 240732, 244436, 342088, 297493, 232730, 244565, 335431, 480712, 306260, 366432, 215220, 658408, 556819, 653839, 353825, 325954, 291002, 248335, 312074, 246196, 260717, 411573, 488284, 362619, 441990, 223090, 328685, 376754, 491697, 883298, 425497, 277735, 354432, 231492, 182285, 286343, 333573, 503079, 377378, 231655, 326297, 614128, 799187, 478707, 421129, 412916, 607426, 350973, 322242, 479575, 317850, 523246, 438946, 550428, 368588, 132815, 194597, 366117, 613806, 395894, 677100, 428774, 219548, 733509, 436312, 642115, 391545, 186359, 574939, 243794, 384603, 439362, 284660, 302628, 348177, 617600, 389552, 622010, 524568, 272003, 148187, 499973, 340053, 347229, 155392, 556769, 307399, 236362, 429585, 289866, 621225, 415342, 265052, 528916, 212505, 419610, 149114, 500591, 217151, 356725, 570367, 238237, 437977, 752602, 286863, 421707, 406244, 382414, 442755, 248052, 311268, 162685, 294444, 359453, 452735, 524631, 283978, 363327, 325104, 626484, 371716, 348023, 347777, 232610, 199652, 259016, 321925, 358171, 196476, 222911, 673881, 494197, 697599, 887976, 288453, 282271, 300670, 315950, 539284, 224000, 450008, 399216, 317442, 441464, 404132, 443217, 285369, 580339, 513873, 175095, 398976, 147157, 590472, 403179, 413384, 614345, 371893, 389954, 311058, 408821, 326435, 541243, 294431, 619498, 393743, 233383, 372472, 397149, 430304, 469713, 354621, 547955, 669364, 413729, 230298, 252334, 241129, 336337, 435494, 479769, 223986, 291984, 331204, 191279, 445865, 483010, 502514, 234792, 370001, 364544, 281407, 355752, 814807, 129156, 518756, 374564, 791690, 254780, 364942, 617582, 479280, 170645, 344582, 191305, 281080, 259860, 337259, 387997, 216854, 459360, 175190, 412551, 299058, 290791, 669025, 786080, 422861, 133483, 291636, 300502, 415316, 501752, 304788, 321174, 388718, 549729, 161528, 401571, 182556, 734503, 286779, 690515, 322889, 434088, 480014, 734762, 909328, 163193, 451969, 192967, 370391, 347849, 191627, 650478, 274641, 380662, 535656, 464107, 389445, 233395, 340191, 374877, 381605, 286384, 253241, 280389, 620370, 393429, 663511, 367306, 383174, 295409, 441985, 420956, 831890, 142495, 249384, 299755, 703394, 392380, 239323, 230059, 606076, 391365, 180091, 378956, 396042, 251486, 384089, 410104, 358971, 346637, 138863, 281977, 279435, 284781, 290744, 493254, 499156, 330441, 177773, 716327, 676067, 240666, 364348, 401755, 397529, 387450, 396756, 393009, 300348, 347637, 402351, 346424, 259249, 1250661, 386045, 219131, 364241, 218801, 500810, 527287, 449826, 368152, 523407, 602688, 496238, 594258, 365658, 422986, 342954, 439406, 251867, 489684, 227089, 255237, 515428, 159080, 281421, 370008, 575183, 1238939, 701501, 389913, 255101, 498777, 282668, 190951, 436955, 379597, 263079, 418011, 396393, 689913, 581483, 561550, 325580, 389710, 332329, 769306, 253412, 308479, 525153, 238429, 432382, 398744, 929921, 261041, 413191, 300513, 197877, 153969, 283630, 779458, 347906, 417785, 241099, 339028, 181557, 447136, 564682, 264445, 467488, 247061, 263979, 439605, 251838, 306300, 329385, 414142, 221534, 484932, 261821, 224591, 331676, 472529, 420486, 600974, 462944, 579013, 420487, 610587, 311202, 274950, 469972, 477788, 613189, 231241, 1232698, 244747, 394364, 574985, 1336812, 230237, 194012, 391853, 605999, 178635, 299193, 297676, 802033, 489282, 684779, 344855, 675292, 522959, 1401243, 242327, 481641, 475292, 422931, 269707, 209997, 181383, 375981, 189650, 390140, 481447, 289175, 203804, 193481, 419734, 295535, 282927, 201931, 431747, 459599, 513219, 469986, 497712, 504027, 365003, 164537, 455608, 186681, 456749, 185667, 198005, 212343, 418304, 303286, 494242, 472043, 670347, 377525, 475076, 368031, 319052, 273553, 464905, 317991, 474408, 354966, 396600, 454309, 413116, 293896, 357586, 499952, 445299, 407491, 333398, 221238, 598557, 643642, 358342, 436377, 267955, 278196, 286012, 449517, 344984, 210661, 537277, 484569, 1013630, 254597, 604751, 359875, 372367, 264080, 355923, 341379, 284028, 306571, 706294, 731327, 219445, 166949, 428003, 428441, 267127, 408237, 566543, 221527, 209926, 286814, 296138, 238364, 644987, 591022, 351799, 259512, 392521, 298489, 184699, 378589, 959776, 356521, 739551, 396869, 345927, 820282, 468275, 359995, 438201, 260664, 666522, 222808, 454862, 305547, 340321, 597522, 305627, 608456, 393110, 321968, 158119, 273274, 256658, 411828, 188440, 344220, 193819, 368553, 687558, 515472, 528211, 200395, 224252, 442959, 256066, 162876, 279270, 235039, 565085, 926053, 517802, 714923, 568142, 625108, 582150, 520735, 454524, 464904, 215106, 356582, 338059, 426403, 369886, 386780, 244858, 524808, 430277, 266489, 829677, 304990, 336477, 343112, 521504, 473720, 310581, 561608, 360296, 400322, 657344, 284790, 259186, 648368, 332766, 227707, 424560, 347981, 603922, 727989, 634252, 800246, 620106, 178542, 476145, 432964, 256867, 196169, 352019, 334691, 417753, 319966, 629790, 209785, 264686, 389150, 206119, 372392, 392939, 447307, 442582, 415412, 282726, 486270, 1186860, 225705, 1036075, 455940, 349359, 450959, 497880, 415422, 300745, 407386, 303127, 505962, 491707, 422173, 831002, 349120, 583444, 196743, 746439, 399075, 271359, 235337, 459358, 263514, 374925, 599594, 202187, 324049, 387192, 532689, 318288, 192330, 344360, 855483, 408649, 368542, 400361, 330291, 316064, 175005, 736207, 446189, 292200, 177467, 252720, 199868, 265132, 508562, 413891, 463214, 544873, 270659, 605852, 530456, 625073, 415612, 262715, 214556, 339686, 322491, 447779, 388906, 467578, 476311, 187309, 307262, 483156, 318995, 441153, 467226, 289088, 163436, 385034, 376552, 284232, 534397, 430262, 433819, 228393, 355772, 467892, 498909, 271736, 219886, 311943, 341546, 745217, 205203, 280729, 240713, 453024, 565396, 458236, 298277, 415386, 635600, 460283, 489070, 510095, 421341, 269402, 323587, 407786, 296312, 275509, 299225, 671125, 309080, 512141, 448922, 663171, 393122, 488461, 290151, 335319, 431018, 403175, 299419, 486503, 390066, 459227, 751651, 371045, 216024, 554816, 517413, 257913, 463565, 635550, 372751, 315359, 266267, 295551, 323066, 338008, 815670, 295477, 356819, 492760, 356915, 491312, 188332, 288112, 349187, 302321, 447926, 392555, 483301, 596325, 231726, 305332, 401632, 749121, 315390, 302935, 397023, 903588, 265803, 371120, 378924, 477585, 574793, 318877, 310574, 308693, 330915, 606709, 657110, 473494, 273774, 491936, 209687, 210115, 238168, 215013, 354435, 347661, 249123, 365658, 294216, 525908, 395570, 423938, 491492, 343681, 401548, 761152, 176696, 300505, 191825, 310633, 398107, 329652, 311854, 396258, 289794, 294002, 170334, 397092, 461160, 290417, 378810, 241640, 179590, 351287, 189753, 477490, 354479, 217722, 506550, 422961, 379385, 259575, 378832, 449030, 468450, 255252, 361558, 195602, 432927, 307518, 304620, 386552, 488133, 421945, 515546, 311686, 388235, 314573, 244743, 663956, 548161, 670185, 343618, 399443, 276647, 250236, 272750, 372011, 295099, 279508, 311185, 484037, 512536, 567964, 256831, 227685, 303427, 908729, 384122, 307006, 268016, 409371, 363708, 539707, 920495, 334233, 522439, 316177, 423610, 327858, 473832, 316676, 969045, 260443, 382938, 440566, 344314, 196512, 416420, 371317, 352531, 780719, 436017, 167348, 256204, 496769, 359337, 625089, 348907, 445247, 350256, 268311, 234452, 647043, 309237, 273118, 629937, 932493, 336376, 208291, 502816, 292769, 290829, 304444, 271596, 329235, 558091, 195005, 738118, 396697, 499325, 167931, 977639, 431234, 235436, 714308, 386433, 194582, 561640, 417214, 351241, 847137, 197560, 716876, 289031, 290831, 355738, 361957, 496138, 409369, 371564, 666771, 279213, 383128, 318464, 300998, 223300, 210463, 541356, 345569, 380289, 385523, 292268, 382079, 319118, 295366, 213384, 236900, 417457, 728860, 391225, 327349, 760266, 317898, 268303, 374448, 406291, 426099, 426512, 360054, 403231, 230481, 554395, 522267, 180729, 536235, 176588, 127134, 204648, 559916, 499753, 354191, 206245, 279869, 675495, 339744, 423952, 802672, 342120, 388013, 143293, 314076, 463432, 238881, 232457, 229026, 381246, 287292, 256346, 606229, 231907, 368441, 271375, 401200, 470673, 169608, 180447, 584478, 375751, 339377, 243090, 399201, 568112, 576238, 336843, 344034, 509304, 436609, 451195, 415955, 246685, 399445, 357406, 247123, 394489, 365012, 396384, 405695, 339616, 260347, 212867, 255869, 415405, 1356240, 393102, 197899, 664754, 326284, 938987, 247692, 504205, 243941, 318353, 277708, 695365, 269847, 277805, 360778, 312309, 496303, 314191, 283583, 218726, 184359, 376619, 401801, 185475, 194886, 372728, 231531, 276971, 492019, 562169, 226765, 387943, 468819, 441798, 222570, 528207, 366942, 359453, 555172, 284680, 288206, 346021, 652604, 509467, 664243, 407082, 449778, 310736, 387288, 171630, 415212, 627900, 449748, 323173, 266628, 214628, 515806, 213387, 438254, 238135, 450860, 214096, 441931, 564651, 331994, 549975, 284418, 290820, 540464, 418042, 480807, 223286, 275172, 775710, 360262, 550495, 461160, 678473, 272578, 371980, 374769, 345332, 258018, 402916, 355247, 615890, 428372, 318411, 315953, 324060, 223434, 610336, 432911, 422889, 298504, 117334, 456813, 367834, 388287, 986775, 452780, 1016565, 284553, 595301, 382828, 286396, 379821, 292741, 690461, 396863, 338219, 253545, 397396, 692313, 429004, 190163, 283392, 425428, 340928, 338998, 156436, 220511, 240989, 204202, 624708, 167422, 380811, 615425, 233712, 451538, 427285, 1342464, 455797, 363809, 425599, 575838, 418511, 704994, 332333, 561708, 654072, 677173, 322834, 208312, 726055, 389875, 218513, 380763, 230370, 396976, 305312, 166183, 333742, 429861, 428076, 413073, 937409, 252679, 475520, 1079181, 546697, 296594, 191990, 563983, 297270, 276580, 384012, 327557, 350785, 964873, 462038, 482781, 812169, 462639, 242024, 344885, 684284, 661354, 369040, 542671, 219750, 447880, 434887, 321129, 585401, 440824, 145528, 765471, 256941, 298418, 183695, 383138, 235266, 492852, 411450, 296387, 508610, 242218, 550904, 566147, 215372, 563768, 274967, 357642, 794837, 447887, 238508, 302799, 368380, 416703, 385378, 363870, 290638, 291696, 292058, 458086, 379448, 370624, 311749, 505598, 304235, 678045, 430501, 441921, 491357, 755595, 456091, 375959, 322399, 299766, 288658, 1130942, 548087, 446450, 831821, 332776, 513286, 581163, 253157, 317404, 560525, 172254, 287931, 360672, 277564, 778234, 209623, 397907, 425968, 234642, 386950, 272113, 425535, 268207, 474576, 432773, 268835, 379260, 139616, 268379, 342408, 409444, 279687, 806333, 271449, 183819, 336567, 698211, 849091, 495567, 696952, 583193, 541616, 196285, 333311, 450508, 246656, 713452, 532206, 237949, 311420, 290281, 328908, 447801, 395436, 341791, 274641, 437981, 607374, 272638, 201196, 588010, 514369, 447715, 451950, 731634, 321717, 294475, 356987, 503941, 297466, 723565, 513508, 225120, 396162, 395647, 599562, 383881, 347077, 212113, 515707, 341353, 324134, 328508, 357362, 305282, 489857, 653309, 367980, 189478, 294244, 720063, 302276, 331587, 218371, 397931, 388671, 292834, 258490, 390671, 209100, 343655, 270276, 506349, 696225, 221179, 351927, 324721, 160093, 228118, 452128, 356191, 310278, 377933, 465377, 313371, 631862, 746312, 438625, 540620, 530945, 265054, 999838, 458547, 240471, 382182, 350270, 311037, 214637, 272405, 228574, 404766, 385948, 288204, 295241, 239349, 316496, 393624, 277936, 294223, 395358, 336043, 241991, 383214, 729187, 519027, 349346, 254305, 170764, 559666, 564399, 382119, 200448, 388884, 241695, 263591, 560992, 222095, 274626, 641556, 246176, 323862, 147044, 319162, 308974, 194338, 173127, 266853, 714896, 280021, 1036992, 346084, 156749, 249381, 269599, 401581, 397168, 268667, 433088, 384115, 452006, 506998, 969243, 493853, 346420, 301690, 401029, 344960, 181764, 533890, 314573, 435892, 487211, 330396, 209325, 448656, 554558, 710315, 388661, 358733, 248408, 380987, 248026, 1067484, 305216, 600525, 483038, 545749, 145321, 341626, 203390, 598427, 452031, 310712, 252003, 220134, 677746, 648539, 370373, 399741, 251507, 447069, 463272, 516814, 374599, 454028, 468075, 441107, 285189, 456551, 530093, 306516, 502220, 188733, 467327, 307693, 185668, 446106, 254813, 430709, 361681, 796297, 512057, 383696, 132837, 312808, 342641, 383274, 764614, 232774, 344012, 340681, 270220, 390384, 244366, 315290, 285295, 303298, 156483, 538604, 407857, 370024, 214557, 576136, 481331, 552389, 778290, 402149, 380429, 484669, 189969, 177239, 521106, 329087, 298770, 394083, 446106, 718506, 308253, 168022, 398718, 291632, 267347, 1259175, 1069276, 273325, 547181, 317302, 349042, 549375, 273504, 466999, 305270, 437958, 542566, 523329, 342065, 848220, 701201, 186488, 505540, 128801, 442155, 511984, 465579, 320893, 304569, 315226, 413507, 339176, 474216, 337951, 275150, 159646, 329998, 254765, 372046, 308834, 307260, 1248166, 643340, 370157, 425017, 236730, 458152, 340678, 352252, 190169, 262338, 506752, 289202, 239127, 420555, 434285, 480432, 400901, 591034, 512980, 396310, 207689, 423982, 365653, 312683, 444733, 130109, 381975, 259052, 676343, 705948, 534786, 396013, 855227, 284172, 574600, 348280, 369487, 361893, 482363, 328007, 336370, 239490, 237392, 1609360, 524470, 529808, 228959, 304028, 261229, 207164, 446640, 475923, 658131, 725050, 233327, 253241, 588452, 395010, 541246, 377170, 483966, 393054, 364204, 391208, 443841, 508040, 375845, 289438, 312116, 364943, 589957, 372120, 567666, 173298, 261614, 268885, 523341, 647468, 349794, 476460, 436605, 400815, 246914, 277785, 491571, 590394, 380167, 385308, 392756, 451623, 261331, 258725, 308541, 473124, 379373, 251568, 324055, 191447, 495853, 391995, 223106, 263767, 742002, 281317, 287150, 460632, 363536, 382100, 291937, 372140, 254567, 266413, 239430, 428901, 407405, 235582, 251292, 726614, 211512, 168030, 325967, 589900, 409603, 558467, 787566, 424832, 391555, 196291, 671620, 468772, 310766, 456638, 123162, 290288, 235108, 537382, 342794, 336743, 157082, 304153, 253081, 368855, 208652, 309308, 546750, 457273, 498046, 492997, 303452, 222063, 393287, 295507, 318830, 589501, 250769, 412954, 423603, 197787, 265191, 426076, 377337, 418444, 389564, 347398, 288286, 447966, 176340, 336673, 320274, 697874, 351647, 565621, 327690, 269458, 303983, 286860, 466937, 510497, 410437, 178809, 403749, 324707, 413257, 731616, 464553, 365176, 323412, 249072, 637222, 289258, 269710, 278714, 485101, 204062, 552746, 144263, 138947, 334894, 581255, 283998, 202543, 257048, 427524, 277613, 688068, 279171, 434057, 313945, 448352, 524635, 642364, 268099, 560565, 416562, 571225, 324508, 421792, 403469, 405681, 428628, 532637, 381425, 248432, 470637, 561497, 284884, 313727, 269104, 138516, 482952, 433504, 680370, 480228, 814445, 259041, 301106, 221286, 350115, 214262, 338881, 448662, 374527, 379907, 267910, 505692, 401613, 593360, 397750, 222933, 644154, 298129, 458223, 323166, 365090, 309777, 330765, 239781, 221505, 425272, 233357, 324780, 638563, 197953, 225249, 595061, 333420, 433735, 758292, 381451, 235772, 1104733, 297528, 483503, 312415, 359601, 436194, 464633, 306629, 219650, 447553, 316309, 661530, 548366, 222061, 402640, 504135, 333506, 371865, 453822, 218403, 278386, 1165927, 509326, 356628, 300231, 314940, 317365, 461491, 441467, 389237, 456415, 403798, 812750, 284608, 464109, 565672, 350472, 392711, 510915, 390648, 349322, 375215, 485920, 1009819, 342415, 172291, 302100, 586872, 613356, 191251, 308022, 360751, 415988, 485565, 448819, 811084, 247387, 529408, 268882, 1027505, 692565, 190396, 178093, 605672, 435927, 477587, 876487, 172488, 359990, 222385, 302199, 732090, 169140, 221098, 410288, 817433, 196489, 156850, 384030, 268786, 425479, 180536, 584361, 194449, 327340, 387517, 302063, 557095, 407530, 298661, 343101, 251539, 491271, 1195027, 297484, 509580, 319410, 501006, 480530, 537762, 327718, 225459, 285745, 294577, 372409, 876491, 270850, 458337, 477864, 330476, 389657, 425604, 363664, 463422, 549987, 339174, 638098, 586960, 377077, 653475, 413517, 577600, 504741, 316158, 898238, 291763, 527667, 201494, 900599, 375156, 830211, 320075, 346132, 531402, 852931, 421106, 170156, 543156, 412409, 266849, 478541, 410255, 681081, 613334, 297736, 561280, 296007, 353744, 312496, 341233, 312162, 339005, 298450, 374530, 266382, 296508, 261308, 356621, 217199, 614812, 349319, 508125, 154253, 353866, 308484, 277788, 515526, 175213, 576703, 482266, 189358, 244791, 209684, 283456, 354245, 869142, 519433, 212118, 341618, 344378, 290676, 373610, 224028, 304423, 659529, 246170, 671442, 304432, 423372, 255148, 383881, 342055, 240618, 194911, 733979, 394687, 171246, 477145, 154081, 364102, 336322, 371359, 331957, 343000, 496344, 439424, 439135, 228825, 399735, 437526, 463495, 415142, 334417, 315767, 296668, 391161, 179865, 303171, 345140, 303080, 279818, 259144, 127371, 339112, 575155, 304977, 319666, 509636, 525414, 555882, 327882, 891549, 336267, 183676, 271413, 501200, 387512, 458064, 447709, 290778, 362419, 351900, 380637, 497174, 269633, 284495, 254786, 214524, 731019, 468272, 359696, 307745, 319786, 318386, 457981, 276777, 602035, 322570, 346254, 323063, 397865, 381346, 279549, 950907, 197362, 483396, 356522, 513351, 424146, 486619, 266287, 294902, 420143, 670739, 233455, 355175, 598135, 318501, 338367, 362802, 493084, 591106, 330559, 636910, 255901, 533273, 337418, 291331, 320275, 299401, 430781, 431242, 367993, 249376, 269092, 248846, 682846, 754791, 272683, 327326, 503303, 507536, 379080, 174375, 683259, 349571, 548091, 693511, 247340, 405610, 172544, 197140, 228010, 451815, 557747, 396163, 337983, 418842, 322977, 269832, 353951, 579119, 358039, 278960, 216004, 290538, 360233, 384678, 414148, 406177, 629165, 265309, 477921, 426764, 365739, 403421, 500600, 162269, 335591, 187720, 243348, 563768, 139001, 515916, 509960, 339449, 335517, 323156, 466279, 334865, 488650, 488215, 473047, 530468, 299669, 307688, 204596, 174690, 277010, 180641, 241454, 462917, 334524, 485686, 317845, 601790, 319912, 234590, 513777, 316406, 421218, 862148, 617247, 162866, 563405, 325899, 400587, 414716, 403992, 370678, 655641, 213337, 506522, 1090919, 264919, 770851, 339807, 501299, 212419, 384418, 795024, 268571, 436980, 183947, 556262, 339520, 336176, 275545, 341250, 541506, 176681, 339470, 662656, 470015, 192636, 266967, 763972, 642472, 566729, 150510, 345520, 474787, 238602, 536251, 178918, 344325, 279190, 310408, 759391, 568303, 539705, 995800, 383515, 368383, 157257, 221159, 589025, 987556, 286802, 279439, 308407, 275909, 640075, 950261, 221356, 316043, 646907, 225860, 579625, 403350, 324230, 454749, 408877, 184316, 431020, 939213, 434854, 251315, 606357, 810232, 259267, 526031, 748430, 262989, 326521, 159552, 404491, 536113, 399127, 250025, 329763, 369098, 302984, 327302, 318997, 418348, 336254, 455800, 751925, 636448, 344531, 423689, 319847, 161040, 377063, 402036, 215876, 209578, 839805, 511946, 469264, 406663, 242782, 613688, 207793, 258532, 439691, 304591, 353840, 356816, 391428, 583468, 270730, 207969, 296950, 801461, 769989, 439894, 359343, 522203, 251591, 477608, 420105, 814442, 379998, 164274, 209699, 337967, 512375, 241417, 465191, 221684, 762593, 572104, 363486, 206224, 239198, 173903, 228021, 428688, 543212, 204887, 263878, 218684, 914971, 350215, 229004, 356059, 300620, 490637, 600622, 258397, 383429, 200658, 373650, 766341, 314783, 376859, 367320, 374780, 273754, 551885, 1048389, 305261, 318501, 344595, 378908, 417640, 309346, 340816, 511934, 677155, 275240, 491831, 332511, 364922, 485556, 598457, 423167, 465058, 533767, 259383, 197659, 403204, 164807, 301913, 258235, 127473, 496908, 346663, 606525, 344211, 220825, 316520, 822519, 352080, 171575, 677827, 438753, 449466, 459587, 265661, 693488, 481328, 589350, 308585, 411848, 263766, 543736, 784204, 783437, 145217, 400440, 586131, 397821, 281711, 1398476, 697194, 296159, 491871, 391902, 298446, 268936, 458959, 628561, 418233, 330124, 878165, 316715, 463083, 175173, 275276, 315060, 345762, 372860, 536762, 236222, 259421, 173767, 553790, 435806, 476079, 344772, 305008, 327683, 492356, 275790, 310314, 297379, 292193, 549703, 297175, 543093, 235405, 294615, 222783, 519106, 267014, 272203, 231902, 523616, 339470, 428711, 695291, 361482, 324444, 323627, 188935, 311926, 300490, 405627, 358155, 853280, 159295, 483149, 319843, 359473, 137196, 269271, 277142, 377658, 309753, 564468, 348573, 477948, 1007953, 325228, 532851, 357248, 249839, 425169, 371259, 255908, 257626, 405785, 529498, 279066, 646165, 313300, 495543, 125829, 507666, 335568, 378830, 501578, 416225, 360612, 450117, 356340, 259926, 176526, 197092, 253865, 450019, 341305, 271125, 403427, 213750, 283848, 382662, 780408, 359877, 293065, 281296, 132082, 275447, 374919, 791990, 269346, 241544, 355605, 490362, 181215, 317865, 139428, 531128, 227145, 491859, 205961, 280981, 458039, 494481, 288656, 324975, 222964, 354853, 288027, 281020, 362192, 382461, 468781, 550072, 290554, 172646, 274904, 197401, 500476, 269882, 362854, 207471, 304408, 413711, 366494, 457201, 469370, 229526, 414264, 568130, 410142, 385825, 414144, 316556, 514082, 366028, 498123, 199961, 475152, 297578, 294556, 396475, 404096, 323176, 388981, 381309, 356530, 333188, 384000, 195062, 808579, 754312, 305120, 262450, 571598, 434409, 310082, 565782, 223035, 339323, 256256, 492456, 405970, 437413, 173391, 307158, 665378, 428704, 496520, 340409, 246146, 265404, 287167, 437020, 445071, 388205, 218896, 411820, 284973, 405776, 310457, 192256, 293847, 195521, 419115, 378107, 172236, 587488, 391196, 721740, 236211, 305994, 207546, 729786, 329947, 561268, 336200, 583251, 244413, 610735, 321354, 257152, 454173, 437680, 354110, 484366, 185801, 292028, 574137, 501813, 424375, 458336, 332442, 919394, 369544, 408366, 447062, 389287, 459823, 250030, 419510, 177706, 452737, 866643, 1035265, 278051, 294147, 243288, 308475, 199135, 282858, 378439, 361088, 494875, 302424, 319478, 190614, 336037, 261944, 144319, 417945, 288413, 463338, 281683, 258182, 307355, 598939, 711453, 399493, 240513, 521669, 396728, 850082, 322130, 668710, 299698, 252812, 297717, 375410, 436031, 528209, 402012, 626590, 553894, 247930, 323322, 453619, 350515, 196216, 242537, 356650, 391770, 351992, 199402, 188541, 675968, 507440, 192599, 603967, 363836, 316605, 271389, 285457, 341981, 443720, 650038, 283890, 365580, 661391, 313831, 358973, 405096, 461004, 589596, 572111, 343317, 261112, 248173, 503612, 310723, 273304, 215717, 448016, 234417, 257228, 476602, 849782, 298128, 345648, 356402, 392529, 317829, 158057, 561654, 547514, 954242, 497028, 266151, 205876, 317417, 447944, 338805, 327544, 418681, 387838, 269547, 379497, 252342, 266302, 297268, 387651, 297539, 527320, 312587, 374975, 320942, 1307494, 332658, 223373, 213063, 446293, 495295, 384650, 590670, 823892, 493229, 572892, 378885, 257352, 312941, 481934, 232666, 279455, 472898, 404909, 230326, 150231, 458474, 467819, 346376, 297039, 230007, 187466, 440176, 321116, 245560, 291818, 237382, 354262, 600862, 191236, 251123, 501952, 437494, 425588, 1142578, 361588, 270438, 1124987, 442405, 320722, 573329, 256551, 422355, 313175, 390115, 182276, 383986, 219520, 187771, 341355, 282521, 878698, 300316, 610860, 336914, 237186, 206061, 890302, 312846, 416039, 426821, 332568, 177329, 332528, 294452, 184288, 189807, 684604, 419992, 520114, 650093, 442942, 553916, 407513, 585701, 290100, 429968, 372761, 822693, 215031, 357312, 454510, 716050, 1122170, 114388, 605886, 1102235, 518329, 521988, 591092, 512052, 255673, 780238, 243588, 263498, 345482, 245386, 571177, 304848, 338261, 524570, 323148, 463709, 381334, 193517, 551063, 217986, 494463, 410094, 289212, 412708, 369401, 208477, 398163, 356377, 220359, 398701, 413713, 841428, 222452, 309427, 359449, 466313, 323827, 734372, 244804, 110269, 204919, 902490, 431428, 222322, 275606, 735151, 387580, 545365, 427934, 169519, 356148, 217950, 494624, 769390, 406208, 818174, 357421, 263671, 244620, 467061, 582564, 581733, 396795, 278305, 450772, 572765, 454961, 239740, 724366, 284308, 403683, 216816, 330315, 672093, 474011, 435959, 413716, 538303, 479830, 224054, 244188, 393793, 358878, 437343, 326585, 252639, 326370, 544813, 330103, 514701, 729832, 522768, 382981, 613436, 391978, 363312, 362823, 326411, 763804, 336835, 482081, 289984, 405972, 496078, 452263, 428162, 381592, 486217, 807017, 335940, 386957, 468171, 448153, 208484, 265761, 301388, 704725, 293710, 262641, 529790, 498154, 1225279, 389682, 301288, 366740, 383438, 380794, 248887, 329734, 267509, 306056, 391571, 90184, 1103794, 337695, 373641, 222924, 225488, 237223, 402416, 241993, 149201, 830680, 127450, 259053, 269818, 238164, 1406781, 922564, 190626, 413870, 599239, 296060, 434839, 302255, 250532, 460467, 405829, 194356, 312281, 401638, 317531, 547067, 246581, 395253, 462296, 489318, 386493, 415685, 370067, 117606, 197115, 618633, 247228, 287183, 400089, 396844, 340743, 417368, 262822, 298817, 201024, 458025, 758853, 399315, 487514, 469687, 357928, 228844, 583563, 220879, 325109, 282312, 787526, 971370, 366460, 293852, 312723, 310346, 332994, 436450, 448798, 652768, 305611, 401658, 262152, 278191, 491200, 357841, 330782, 370370, 419123, 614757, 204700, 469404, 231014, 246485, 368924, 670398, 336379, 683250, 228361, 344339, 870460, 764577, 264741, 284420, 453769, 458423, 265801, 691635, 416533, 849139, 216350, 156440, 475888, 300674, 219973, 317485, 465573, 120093, 219488, 286576, 330221, 604928, 219966, 448373, 599816, 343442, 344921, 332596, 264170, 287972, 437389, 309935, 660611, 269562, 341326, 308316, 138715, 441048, 219318, 377761, 270670, 200291, 638852, 230289, 184668, 284208, 484639, 355088, 192996, 391520, 480064, 422749, 373998, 191563, 322488, 576348, 604905, 322968, 191113, 255212, 188337, 534936, 130476, 210525, 180472, 723959, 630125, 212526, 277090, 313368, 302411, 268122, 229668, 440978, 608649, 509262, 440942, 778361, 211131, 625814, 178353, 390793, 298263, 362366, 584870, 322737, 333058, 180604, 439813, 232359, 163792, 280091, 626144, 286478, 197668, 246967, 313118, 274508, 393928, 338765, 380744, 395318, 446855, 543276, 265992, 774115, 426978, 325340, 246755, 374496, 450710, 248390, 428471, 467772, 544567, 822210, 334605, 359410, 226016, 908270, 391960, 281567, 399040, 351363, 318473, 829454, 243288, 219975, 256991, 479278, 207055, 558922, 390420, 405749, 537525, 284996, 1021372, 370321, 186565, 267824, 198848, 236761, 264126, 544416, 568848, 591490, 480565, 778326, 812214, 300361, 375940, 346293, 250850, 523478, 337093, 380653, 165480, 439592, 315362, 539312, 263235, 170081, 564777, 543178, 168360, 240921, 400301, 309188, 190278, 356230, 342743, 351830, 270573, 382619, 343190, 184108, 307804, 744257, 381248, 273392, 428713, 293798, 368312, 469496, 270354, 211861, 187883, 520105, 341375, 778665, 300412, 345762, 324429, 537064, 220212, 275675, 241154, 635091, 251923, 357762, 472343, 346889, 439951, 256201, 544203, 542012, 844597, 227252, 377652, 186416, 402701, 148084, 518062, 357227, 403719, 190527, 183783, 360063, 690694, 330213, 192961, 280456, 530524, 310054, 664318, 503683, 697668, 522730, 322771, 398002, 347930, 385927, 490374, 334816, 308262, 482694, 384652, 352655, 392916, 189076, 452384, 281404, 431426, 386688, 526751, 363433, 257918, 510295, 410874, 345575, 331035, 469149, 201314, 247508, 304640, 424063, 253221, 550623, 532382, 170760, 380940, 327309, 202449, 502538, 464519, 394422, 508385, 369915, 572936, 372303, 564598, 722183, 211840, 204779, 349146, 372355, 414106, 361683, 163090, 221040, 190123, 647226, 254948, 298186, 634691, 372683, 136258, 386015, 311044, 249765, 426342, 305362, 219939, 236617, 270877, 427462, 137373, 492674, 354032, 371366, 715313, 411350, 380853, 590460, 382976, 281265, 490926, 394025, 394696, 819972, 286551, 606617, 186211, 238655, 757566, 209145, 251599, 357041, 253276, 212093, 435934, 447238, 311266, 375974, 235025, 295595, 267245, 538460, 213024, 400929, 306044, 377970, 213577, 228700, 305035, 988983, 309571, 358597, 178417, 307396, 427072, 338842, 334605, 368925, 710028, 481586, 474926, 296596, 823239, 420438, 217643, 945651, 396319, 426093, 495853, 360545, 394076, 393389, 337916, 354784, 347365, 411783, 434471, 404324, 194392, 187789, 825758, 287283, 555293, 240959, 221448, 483198, 730500, 364857, 396661, 358438, 479887, 255868, 385828, 341451, 348832, 256242, 324477, 478060, 258320, 320828, 324209, 331434, 205590, 384141, 481115, 161163, 659201, 303840, 447853, 382222, 641984, 415147, 428210, 159230, 415054, 384879, 473004, 225860, 521215, 478632, 635588, 461586, 534677, 661717, 483680, 238493, 639779, 594535, 491116, 396813, 523113, 578274, 227745, 371579, 304484, 365422, 337483, 324022, 306544, 433819, 513794, 247889, 392443, 391300, 696601, 440234, 444474, 595061, 530184, 359121, 327909, 145158, 324795, 469259, 330861, 256326, 263939, 654487, 583196, 327151, 472910, 241880, 794993, 341015, 534149, 334800, 394353, 787998, 618876, 363263, 257124, 567141, 176970, 494416, 344717, 393886, 325927, 222762, 935057, 421692, 283911, 566681, 1135640, 634371, 302318, 348472, 446232, 470580, 279600, 496896, 621591, 360899, 198942, 434801, 1087515, 233890, 435435, 369071, 349582, 203178, 271771, 171825, 452938, 387189, 409455, 540040, 345640, 345806, 433656, 466453, 669378, 292535, 247181, 503874, 307212, 155892, 282536, 248799, 279230, 451001, 350549, 250351, 649375, 247737, 739946, 351638, 770025, 449093, 230684, 169307, 220680, 456943, 265656, 292041, 549526, 329998, 448765, 416998, 396546, 181989, 249186, 359619, 510145, 447891, 336530, 433387, 562487, 522430, 550924, 390495, 239077, 323361, 263699, 256876, 387600, 628114, 909757, 573322, 494387, 423319, 484094, 222858, 614513, 210064, 761778, 639202, 703521, 403895, 198486, 319529, 395109, 271363, 145939, 589461, 194259, 903623, 260815, 600105, 325954, 445727, 246740, 229531, 301981, 320537, 376941, 316107, 321261, 328150, 429887, 389511, 311313, 328697, 284864, 266547, 269389, 479639, 412898, 247824, 360953, 462600, 428115, 294498, 441585, 379764, 235301, 300783, 297051, 210903, 529200, 225414, 1491381, 346443, 485494, 321069, 642023, 393555, 374743, 462220, 199879, 307101, 183909, 512411, 385561, 440470, 572257, 436731, 221997, 304151, 362932, 244487, 125861, 340522, 421239, 557656, 311326, 715426, 334855, 404734, 405417, 299662, 502508, 265597, 680040, 135522, 351502, 390242, 687267, 144627, 481077, 267378, 208038, 407789, 968480, 803272, 258376, 271850, 221465, 575890, 252858, 313287, 514679, 522631, 294045, 258904, 612859, 558723, 346961, 199986, 447574, 444229, 559590, 305417, 496384, 388241, 342673, 748204, 368702, 282620, 281993, 239955, 529583, 310407, 500328, 761937, 173747, 346385, 365750, 389660, 430610, 410961, 421536, 498946, 496564, 246626, 522262, 1064478, 385655, 373411, 338190, 281670, 467326, 159559, 364227, 292124, 493606, 489825, 141901, 358066, 693857, 414905, 235762, 176225, 359252, 567814, 506148, 347921, 394916, 512548, 179767, 689117, 220812, 292320, 177970, 396230, 293124, 354149, 597687, 264054, 311412, 319587, 266850, 312089, 359453, 375876, 374312, 350199, 374784, 442320, 633879, 406317, 813155, 218285, 266247, 872910, 439563, 404372, 549247, 225953, 364358, 463798, 385366, 542919, 458491, 556434, 349284, 293913, 461995, 224686, 560501, 393059, 487508, 294397, 268195, 450180, 324860, 251726, 370786, 510949, 635694, 423056, 441245, 337677, 391090, 761190, 463633, 604527, 396330, 492488, 488806, 442367, 194610, 331523, 338957, 466533, 240978, 513717, 377457, 991907, 447924, 336619, 253342, 520366, 435598, 354818, 347606, 332377, 315985, 342730, 229308, 382895, 221058, 284820, 292349, 394146, 606037, 167088, 324432, 400255, 463881, 389569, 262492, 549401, 893606, 213914, 410244, 186562, 174660, 1075920, 1014640, 314625, 336977, 270999, 241914, 282454, 232394, 940266, 430374, 520165, 823659, 696578, 380162, 402797, 672270, 337609, 563552, 176103, 349248, 645377, 994039, 360455, 417727, 456341, 216585, 330378, 312650, 373740, 438025, 262520, 576868, 372046, 422578, 524203, 227606, 731727, 269081, 552317, 597534, 844128, 336753, 485207, 517105, 331432, 1021464, 397219, 672641, 460993, 358253, 572919, 400700, 493390, 276793, 170637, 369069, 873884, 322140, 283097, 195586, 323005, 307908, 566936, 458357, 199381, 312767, 449256, 414090, 594058, 457467, 352203, 445485, 477048, 152555, 276974, 340717, 309832, 588151, 362369, 564451, 168797, 326553, 344658, 377613, 399661, 412904, 356236, 245311, 382314, 320330, 644708, 264265, 218174, 580630, 346058, 544067, 314668, 1103171, 254325, 380911, 372892, 352515, 572449, 478218, 563319, 543803, 652124, 310899, 260979, 349858, 283513, 168272, 214762, 281389, 475003, 184519, 433206, 595208, 475779, 212901, 310425, 241873, 373780, 498152, 490317, 527759, 322418, 691457, 364276, 351173, 207927, 271714, 258300, 347470, 692275, 486186, 481104, 289116, 257500, 228619, 527931, 168635, 509430, 273243, 266968, 465923, 326196, 320892, 442297, 316408, 320441, 266661, 307098, 454154, 367482, 281230, 316288, 354111, 620975, 621210, 251346, 313197, 213841, 391991, 241316, 411639, 261361, 439492, 293164, 315126, 329018, 418922, 557586, 239141, 709124, 238599, 383897, 587652, 227693, 971592, 611485, 530875, 468920, 280079, 295417, 238601, 371438, 317211, 436284, 270160, 222742, 287435, 931373, 259041, 402841, 321145, 305474, 344711, 378325, 259055, 520828, 165617, 211288, 310536, 159559, 368170, 455530, 696506, 434208, 269052, 199062, 292128, 328998, 380350, 359966, 377259, 605014, 215612, 262349, 255285, 333138, 550710, 384592, 383152, 430450, 216244, 191879, 211140, 777242, 206170, 249373, 422063, 345625, 446749, 228119, 885183, 286206, 688210, 419920, 607555, 684405, 443861, 448257, 614923, 256503, 328187, 274171, 220353, 445507, 530751, 305638, 325024, 476333, 257823, 314402, 313937, 351500, 456179, 173002, 489836, 210700, 478844, 517042, 308685, 285592, 406410, 264720, 340717, 977378, 386531, 744893, 299182, 478229, 387136, 308706, 348038, 564157, 497930, 133302, 918469, 331501, 422686, 180614, 551434, 636585, 341244, 248545, 469638, 371404, 435680, 244624, 749429, 347751, 343228, 384528, 268194, 454798, 528493, 273284, 201304, 441499, 500974, 324910, 150410, 409843, 658549, 364598, 302941, 266216, 419835, 405960, 171561, 458904, 262828, 464574, 293816, 412229, 858398, 280712, 542947, 404813, 425529, 491445, 508644, 487136, 323349, 425397, 280228, 367231, 420256, 285613, 470397, 512156, 261340, 335098, 353466, 238789, 645020, 299085, 593274, 235318, 394759, 348462, 221254, 286803, 363696, 460336, 286074, 321565, 1065917, 229662, 474376, 687273, 418674, 419572, 286453, 482158, 444002, 1050584, 291045, 330896, 248374, 154043, 317629, 282253, 472322, 303980, 334334, 923500, 557417, 261274, 681186, 400360, 369643, 466951, 358392, 452048, 562146, 1141315, 505390, 374441, 634575, 361440, 533525, 387076, 445118, 212680, 195813, 247410, 443460, 486273, 277380, 929187, 284032, 505183, 392429, 353769, 403801, 313023, 354803, 456307, 427344, 677626, 180357, 365698, 1063560, 416058, 173755, 243855, 347274, 690162, 282859, 309836, 359487, 388404, 265349, 194351, 651067, 406628, 283405, 421578, 417767, 327277, 317854, 619251, 296843, 473078, 399021, 346983, 376102, 403954, 318306, 287657, 549196, 551735, 509334, 298716, 175590, 135834, 262970, 158141, 234915, 272386, 358890, 642215, 228754, 244977, 417677, 350812, 414463, 278246, 385598, 199070, 428024, 499226, 617840, 335208, 287565, 249514, 230317, 678368, 237110, 229262, 400877, 671405, 693477, 322159, 258291, 319086, 532809, 264527, 333850, 596794, 355875, 368718, 356266, 275800, 410541, 321759, 380005, 320173, 497907, 322644, 202897, 313423, 480969, 516897, 273944, 249590, 331572, 219290, 270858, 267406, 517245, 392974, 223014, 326868, 380484, 265160, 280650, 305811, 192990, 389364, 359638, 479718, 396653, 541766, 384110, 169377, 225574, 379794, 222594, 346269, 211746, 422315, 447977, 534322, 587878, 175424, 286775, 587790, 305815, 258954, 293842, 339088, 344284, 746162, 209072, 179726, 225197, 376567, 393494, 266008, 234178, 396135, 773461, 437866, 529618, 261763, 544518, 345965, 345543, 451106, 1060189, 486238, 365950, 454000, 634237, 465897, 740754, 311548, 422173, 458051, 835162, 549864, 313816, 291103, 325496, 317951, 425117, 437553, 447567, 210228, 321832, 384040, 321192, 269466, 299773, 301821, 462210, 208565, 369280, 782840, 577717, 353747, 297686, 127958, 775409, 172299, 799438, 169251, 305699, 317759, 493181, 249613, 287482, 218836, 277323, 437319, 273839, 515826, 172447, 179270, 413571, 393954, 376433, 245364, 358557, 503801, 477374, 371549, 535409, 348642, 290503, 1158032, 333629, 288857, 649228, 429903, 320117, 306051, 350594, 253213, 128908, 172742, 440049, 316164, 356241, 301074, 512679, 118851, 637618, 312411, 187545, 233710, 365349, 315369, 165712, 334570, 997144, 180542, 370053, 224025, 1399484, 290464, 551666, 392138, 281611, 388132, 938019, 171145, 578867, 241183, 548528, 281435, 509619, 553612, 361824, 291071, 300389, 289404, 274023, 336849, 361597, 461516, 394594, 700400, 277666, 295239, 301012, 352314, 701660, 495538, 239339, 376095, 342316, 514568, 271858, 458970, 288988, 377003, 327285, 352727, 507138, 593212, 512891, 386867, 422643, 325055, 339262, 304258, 144070, 332695, 673888, 320878, 591580, 613417, 382699, 592538, 213828, 422553, 370241, 357510, 479574, 642367, 588662, 391766, 394083, 390095, 327897, 736962, 262908, 242820, 525424, 722616, 492424, 296708, 298776, 1157708, 277857, 399863, 304160, 342786, 241844, 322956, 277396, 524729, 171151, 870534, 240560, 439425, 446102, 406009, 442174, 358812, 541462, 476836, 234478, 389402, 431890, 258235, 418313, 322073, 481914, 630330, 465597, 251352, 396595, 323262, 299347, 407880, 209930, 927841, 367451, 403597, 235335, 316089, 405057, 806332, 328699, 651466, 334665, 673735, 343950, 478910, 429768, 303127, 207086, 448060, 287073, 285782, 338095, 318664, 678167, 481637, 314575, 248764, 279961, 236205, 440488, 208944, 472449, 399328, 516282, 444368, 363372, 440486, 274491, 212163, 262975, 491199, 211196, 328609, 357925, 296439, 400940, 289504, 331406, 219667, 440913, 508890, 237908, 514783, 519697, 500096, 235680, 397421, 350544, 477150, 184119, 489847, 524000, 475138, 352313, 272677, 320751, 610570, 267869, 379093, 521737, 550488, 324621, 412927, 435230, 236459, 505888, 626887, 624402, 268296, 905837, 681892, 315278, 719828, 534950, 142009, 289848, 437785, 159366, 1108617, 269826, 308094, 330391, 319310, 303452, 279721, 421492, 385168, 532693, 1482385, 147169, 1082743, 297013, 405682, 815132, 188302, 296955, 235043, 175399, 642803, 520157, 497114, 815223, 339396, 721089, 414772, 614654, 585517, 212041, 545426, 262669, 288731, 261700, 145586, 489263, 248008, 285887, 414789, 1265390, 443955, 387503, 266955, 996650, 290180, 316609, 465793, 209194, 303049, 230063, 440640, 184350, 406440, 270340, 386670, 295283, 259275, 474300, 863920, 335712, 405773, 398290, 527961, 304698, 487291, 351399, 419167, 319061, 225082, 256169, 391318, 424884, 479842, 231173, 333809, 834898, 227161, 425568, 365345, 344894, 449619, 354449, 405554, 651998, 267033, 474811, 471874, 383724, 489362, 578249, 341847, 311968, 507339, 489220, 212876, 220022, 340449, 377341, 256024, 317464, 519499, 204956, 176906, 587739, 565026, 314727, 481740, 282660, 285431, 200722, 230975, 316667, 205570, 253494, 263200, 497061, 417674, 522877, 415681, 385178, 408208, 349902, 213977, 156795, 548727, 329976, 372103, 362214, 351493, 504448, 640777, 133458, 143395, 430916, 143846, 196047, 254604, 395219, 229749, 321248, 853889, 221675, 342147, 360506, 700941, 603829, 388747, 298727, 294502, 372992, 287923, 690090, 345852, 214776, 298171, 411490, 599794, 623773, 333404, 312306, 220149, 287893, 206496, 346259, 226408, 397741, 525042, 375095, 430782, 250681, 371157, 216248, 239948, 483756, 435336, 409844, 996035, 180885, 189136, 228548, 153212, 572259, 355032, 586977, 425553, 515693, 405560, 166174, 403269, 396205, 235072, 238461, 321661, 235172, 509790, 273707, 795209, 525324, 488686, 355098, 242591, 539027, 314902, 398216, 403825, 459615, 786756, 328759, 1190905, 324874, 238080, 397094, 570380, 338712, 280650, 368582, 215471, 371333, 363573, 283449, 346008, 515251, 384317, 688127, 623879, 983060, 286067, 710355, 416033, 362887, 294073, 386217, 441232, 655401, 315205, 632719, 418416, 670244, 608303, 253384, 926024, 323763, 273176, 664489, 191657, 313098, 305786, 222276, 835434, 290899, 304270, 415950, 612256, 316402, 882563, 533916, 414391, 355946, 272538, 357196, 476479, 277694, 463843, 364792, 302453, 216559, 352028, 614845, 307646, 487210, 146788, 371374, 956559, 462310, 363713, 296424, 717195, 519711, 347650, 219711, 305592, 358139, 614746, 523143, 441415, 312031, 719417, 481906, 292867, 243461, 372332, 383634, 404730, 341415, 955986, 138262, 431384, 514242, 473086, 639170, 229275, 452656, 277029, 308810, 194251, 264170, 451632, 183791, 273776, 458184, 546632, 360835, 423577, 438187, 461272, 466768, 458122, 587219, 358829, 417004, 581698, 495132, 650779, 309348, 263982, 690371, 266425, 424599, 372139, 276196, 286450, 726209, 272160, 303104, 499494, 452246, 718128, 683344, 767810, 411535, 405545, 672473, 325879, 444085, 1084042, 265151, 350633, 366171, 156809, 435321, 483638, 1108550, 271956, 322248, 479974, 270753, 431373, 640414, 208638, 265450, 399023, 384560, 306410, 737743, 400357, 234457, 398557, 362729, 390962, 452984, 196611, 669820, 757321, 346611, 399847, 278153, 434756, 216683, 381977, 325494, 332331, 469346, 316789, 650767, 410417, 419113, 507796, 376896, 261638, 475597, 199619, 300047, 290857, 310321, 512860, 436962, 861163, 252201, 433363, 277646, 288524, 280654, 730611, 448228, 430199, 803304, 314446, 294623, 559650, 312539, 357372, 223448, 707730, 226914, 356027, 343958, 957105, 494426, 248110, 296552, 542752, 560566, 252368, 292302, 185530, 377916, 286994, 272809, 345978, 294901, 432192, 259431, 369330, 406586, 484216, 719368, 299352, 797244, 184948, 549495, 419885, 307932, 801489, 278532, 260639, 229637, 343468, 332844, 346606, 607752, 321136, 282253, 456296, 326507, 444359, 156218, 1160526, 257764, 437753, 287037, 328826, 567365, 202439, 392501, 223393, 304280, 391199, 527286, 286101, 191937, 578806, 499158, 207986, 125868, 393600, 411663, 369820, 293211, 509145, 242769, 240922, 467656, 216130, 644406, 330585, 346956, 531313, 690876, 463009, 519999, 336740, 399454, 550883, 402879, 317933, 379493, 1191907, 390930, 308834, 229926, 341116, 361958, 203016, 234274, 854499, 352211, 192407, 1013055, 293093, 401739, 317323, 504911, 382401, 726356, 731270, 272712, 328479, 259775, 338838, 493237, 516906, 464341, 230869, 747589, 227850, 232800, 203104, 345822, 1138965, 311313, 421083, 316200, 461904, 570042, 497496, 1115821, 349343, 276711, 369173, 406045, 345793, 568669, 621980, 203527, 255961, 407231, 785624, 288101, 396485, 476898, 462231, 423557, 393074, 296779, 210034, 393239, 463130, 163840, 461806, 220021, 461403, 173037, 134429, 328747, 269602, 352397, 470566, 601631, 291269, 147503, 408265, 211797, 343520, 557718, 305418, 467088, 372016, 349612, 433840, 648695, 158282, 457510, 336954, 509696, 185000, 265564, 429313, 154606, 508738, 356910, 155443, 379485, 343757, 531870, 376269, 383025, 275904, 322091, 358532, 386437, 289911, 140867, 269557, 517987, 284378, 259000, 648751, 939985, 276377, 419068, 518598, 292071, 610884, 684352, 266303, 268287, 201156, 323994, 244590, 776871, 945406, 364905, 247336, 269654, 215180, 204138, 289787, 357920, 390988, 417660, 302106, 338198, 570844, 389873, 324962, 472924, 249012, 390693, 391701, 321890, 340538, 470332, 345747, 1077752, 338103, 509934, 488321, 563293, 878167, 340556, 225696, 142907, 317242, 277141, 326423, 493754, 439629, 339500, 340961, 316769, 599785, 602457, 202108, 383128, 431655, 449069, 766567, 1044299, 370086, 425154, 522437, 364612, 377499, 144779, 646169, 290471, 229389, 578014, 571561, 594515, 1182201, 460562, 379499, 237494, 576044, 384985, 286652, 587399, 982238, 393275, 561162, 417169, 556164, 222396, 612949, 821432, 264060, 330226, 200677, 364910, 219337, 266212, 410479, 385735, 495738, 197534, 436579, 677852, 275563, 284428, 229733, 260824, 587620, 282701, 387769, 253554, 424613, 288861, 217909, 201195, 346310, 349330, 363253, 341614, 501837, 303638, 241961, 357810, 327927, 262963, 205728, 436512, 629381, 470192, 473139, 415748, 293170, 717929, 268987, 474038, 751350, 413898, 148194, 224363, 433581, 450565, 524055, 402566, 519927, 333160, 435986, 322813, 222858, 361720, 390929, 331081, 393317, 266974, 430323, 355514, 276832, 529867, 428935, 375220, 136756, 455338, 625556, 390222, 424457, 405298, 106411, 235234, 300343, 383262, 365417, 456048, 393046, 508728, 152508, 354019, 239773, 295634, 537498, 252690, 365521, 271814, 432621, 415638, 446404, 358720, 309988, 315349, 437182, 492698, 310729, 378854, 757223, 139099, 298953, 428880, 302918, 328251, 178459, 617696, 285955, 329675, 327097, 263999, 763080, 423434, 293526, 170133, 701299, 393815, 383955, 343467, 355698, 213198, 346767, 752421, 460864, 365464, 435408, 489309, 358462, 875304, 571077, 381611, 429991, 276664, 404275, 377952, 425560, 355986, 442850, 382115, 469306, 593589, 400100, 758520, 425101, 557445, 855548, 167975, 289657, 501704, 389041, 346492, 254962, 659194, 270350, 294340, 345773, 426729, 444104, 584945, 323711, 239826, 247598, 571445, 400853, 448020, 972670, 147872, 1080689, 297620, 527652, 458989, 235756, 599436, 404100, 555996, 446578, 317513, 123878, 417920, 368802, 237078, 769087, 434536, 347950, 179545, 439773, 353829, 350648, 408618, 381200, 429071, 214362, 548956, 233460, 446478, 528063, 308499, 542923, 436175, 321493, 406066, 267456, 428552, 400575, 473223, 661393, 290952, 315288, 339064, 363490, 267780, 421001, 495638, 458187, 183906, 342703, 721821, 244416, 336428, 225463, 412245, 343180, 353048, 347900, 557543, 305959, 491167, 192577, 422357, 264499, 310827, 371061, 477294, 382804, 447681, 440792, 230021, 470060, 545640, 292190, 433135, 284506, 871285, 493013, 356299, 170071, 316381, 646586, 212570, 219623, 436232, 511708, 317653, 746619, 444250, 437316, 436943, 476749, 394369, 339862, 447282, 469769, 633053, 733438, 254628, 213333, 505320, 329671, 399131, 539761, 382872, 357761, 301993, 337111, 305302, 147785, 225841, 287129, 345646, 766863, 401081, 459958, 395039, 167009, 682410, 142599, 482399, 273235, 1206110, 507771, 530064, 293201, 362443, 141633, 474323, 570101, 372116, 527781, 439242, 379257, 710525, 369265, 296871, 398450, 271948, 162581, 230525, 204432, 518773, 420698, 478008, 385765, 371164, 342792, 323724, 271194, 313138, 171470, 342670, 331310, 235642, 436333, 281873, 188860, 342937, 371689, 374649, 243281, 379033, 178119, 395569, 503323, 297277, 330545, 316999, 265766, 297235, 282051, 290965, 434985, 261177, 427087, 380089, 528383, 220169, 514602, 167698, 486066, 409509, 277963, 175663, 703514, 205879, 178936, 298484, 524516, 570825, 493711, 564030, 179658, 378518, 340607, 814180, 320761, 302226, 165982, 360710, 544756, 416115, 367525, 169716, 269384, 508494, 531119, 890364, 530664, 374428, 390448, 958918, 319964, 310125, 274897, 789273, 321296, 219362, 266529, 241947, 282768, 511356, 709498, 617616, 611657, 244201, 552449, 454592, 328407, 357519, 328728, 725029, 447973, 176958, 669813, 621048, 389641, 708904, 171989, 380443, 292267, 495870, 317341, 233549, 457809, 474723, 448874, 149809, 466110, 626127, 318634, 477462, 235362, 225059, 397829, 450086, 407540, 398658, 480195, 619304, 334236, 500694, 174476, 346989, 249810, 314102, 312161, 396479, 416596, 209666, 396623, 339138, 321834, 405284, 313444, 332512, 341544, 307734, 279153, 268929, 285843, 370362, 318046, 323781, 192915, 341214, 293909, 186337, 626412, 288377, 446624, 524014, 378608, 238803, 462554, 300488, 233542, 411233, 214566, 216722, 416087, 388883, 149463, 547370, 304878, 243899, 468991, 230054, 413952, 286200, 258041, 293925, 262336, 275793, 268969, 638715, 430993, 388096, 344106, 474455, 507668, 361781, 409821, 252959, 246644, 421816, 432500, 314139, 535658, 290631, 611168, 219905, 368662, 347474, 301217, 413356, 309586, 248725, 400909, 187385, 880497, 134928, 389484, 814250, 214586, 385566, 254551, 234078, 465020, 115780, 350660, 478628, 609568, 384068, 306072, 277645, 368719, 276878, 293685, 236888, 324109, 351194, 219204, 719892, 293205, 433262, 459187, 473110, 221346, 443590, 438367, 304104, 381526, 313320, 329743, 673376, 232424, 387005, 355388, 274694, 272177, 317098, 401870, 346521, 459124, 417025, 355047, 179242, 463716, 549738, 335265, 381750, 285131, 389718, 371813, 322064, 404931, 457844, 468727, 685254, 159531, 251947, 446203, 448396, 234424, 644150, 209849, 177948, 258527, 365920, 697104, 272878, 444784, 914128, 463418, 451082, 239516, 748352, 305588, 392042, 288489, 299268, 204038, 285652, 257962, 341749, 513784, 270553, 423979, 295862, 490449, 310493, 439748, 299037, 321181, 448264, 1120042, 429847, 450789, 384179, 149009, 602372, 280724, 552896, 411006, 629640, 625799, 239111, 526872, 386240, 309874, 360404, 303754, 177666, 397236, 182016, 301469, 149695, 241965, 315248, 398114, 516145, 173284, 323316, 349488, 694534, 479038, 267264, 360279, 325036, 377445, 442932, 486813, 387573, 268548, 883861, 269953, 366747, 477734, 162812, 422152, 373964, 553476, 284190, 324977, 450854, 597489, 420678, 474285, 439477, 368874, 221260, 232598, 340257, 230936, 304828, 403066, 339930, 284521, 361522, 174645, 285932, 986736, 472251, 389053, 439320, 274154, 229246, 397642, 311489, 494315, 380742, 374982, 408566, 215684, 107128, 383117, 258287, 484139, 373088, 390120, 393938, 1208667, 260813, 294361, 212610, 375333, 490088, 710958, 286987, 232694, 257142, 332256, 846632, 337994, 324067, 424148, 230614, 633749, 291347, 471364, 357330, 258938, 330963, 285428, 417699, 615195, 271400, 467961, 244010, 351011, 274313, 218014, 1038985, 392694, 396200, 458297, 300133, 273779, 369583, 431860, 281056, 661340, 369125, 510180, 594938, 335044, 300133, 661285, 255860, 339987, 758591, 174819, 356290, 415663, 193886, 637803, 654100, 384321, 460389, 584096, 287708, 219800, 323456, 454014, 583548, 314645, 682849, 285996, 569903, 310711, 151386, 179462, 366979, 389455, 457528, 766419, 535747, 423494, 829001, 303829, 291108, 445057, 436954, 425666, 206271, 209896, 447747, 348673, 245868, 389842, 236894, 388356, 452011, 161147, 653156, 303034, 408143, 278936, 554868, 456124, 443261, 592472, 807663, 146411, 453645, 590621, 294386, 556315, 403109, 271378, 644675, 540051, 374582, 543465, 485532, 1448880, 314713, 191710, 398690, 395160, 1048571, 305623, 226571, 625300, 399291, 447668, 205832, 528188, 368217, 378573, 332832, 204846, 1096973, 385893, 269713, 546467, 267272, 342386, 268180, 443342, 191200, 722553, 278614, 537081, 540286, 169834, 147818, 313638, 445297, 268048, 354159, 481245, 264369, 470849, 334717, 226727, 863007, 240278, 241164, 484147, 351148, 424084, 451162, 259679, 391592, 311115, 391389, 266304, 450367, 440305, 177732, 386475, 351995, 352088, 499123, 289069, 410963, 389350, 262524, 417659, 274132, 518004, 485741, 237620, 253857, 272493, 578861, 1707324, 288501, 300827, 263235, 274682, 409777, 1062225, 318944, 157654, 699995, 168519, 395565, 396944, 350172, 291193, 368022, 590380, 320473, 233337, 507707, 246928, 538700, 756124, 485681, 298835, 201418, 218603, 240220, 323684, 358656, 231782, 290373, 275728, 495293, 412530, 327702, 863244, 144544, 330503, 520597, 301310, 213874, 506582, 378782, 509113, 397363, 213734, 272987, 445956, 323250, 292057, 334853, 471552, 596956, 493056, 203019, 407270, 519226, 358731, 446470, 371758, 182323, 613028, 378088, 308947, 339288, 221299, 387508, 294076, 262773, 396506, 462090, 188862, 421091, 347587, 434560, 361440, 516209, 301201, 363947, 233849, 329530, 188194, 643178, 240419, 279571, 257770, 241926, 455148, 659452, 533754, 274938, 433011, 163163, 628729, 571841, 239012, 505332, 311724, 215860, 486299, 268111, 384144, 387825, 301716, 438313, 279011, 264824, 518064, 434649, 432511, 722226, 238825, 319920, 373825, 318863, 289268, 278825, 227105, 472067, 381302, 855017, 145555, 166249, 510923, 369773, 318350, 1140797, 654999, 581338, 400166, 331167, 275640, 334648, 1002638, 327512, 412465, 205702, 516359, 579804, 271074, 306376, 340158, 483164, 479036, 860030, 394904, 903787, 607713, 355776, 879668, 644405, 311512, 193997, 430148, 191138, 372130, 354271, 556293, 348213, 502804, 680862, 583038, 428806, 315451, 322886, 227370, 958470, 275027, 361999, 323909, 191808, 248659, 327056, 331135, 353102, 317121, 429964, 466323, 450959, 476214, 366752, 603029, 288053, 267954, 425937, 324574, 437241, 473187, 198671, 440150, 230190, 333373, 228588, 274847, 526998, 359233, 565352, 174777, 534342, 203930, 262699, 463925, 289229, 232899, 711583, 409067, 439019, 287726, 403203, 267760, 496486, 332126, 393106, 434721, 352863, 540375, 506966, 331352, 459371, 840236, 410406, 388464, 288128, 620304, 726486, 378382, 376384, 275310, 268307, 429752, 398536, 306945, 559203, 513264, 346156, 532603, 253965, 388846, 283917, 224342, 217611, 470526, 179105, 275988, 379357, 211504, 332061, 474291, 299162, 833547, 448118, 329434, 296352, 746440, 556394, 252018, 702331, 716975, 211334, 323163, 272425, 564588, 432234, 444001, 523214, 353523, 498414, 251638, 376194, 307343, 362456, 400874, 573868, 458912, 162431, 560058, 520051, 873925, 262154, 418806, 519939, 330277, 369222, 191604, 768433, 723739, 166387, 336128, 387713, 144467, 386005, 468374, 317012, 264947, 298485, 348505, 297779, 263547, 640932, 382262, 272616, 458808, 885775, 283206, 447281, 353748, 374577, 198316, 515095, 400368, 568203, 517480, 288707, 428930, 338010, 219346, 511888, 341581, 203756, 487918, 382416, 506306, 542359, 543244, 280471, 361212, 494287, 603817, 392247, 396811, 269096, 502212, 185150, 411492, 403941, 277494, 527385, 637177, 405564, 338719, 665256, 254868, 365490, 432769, 383988, 161700, 318945, 231980, 483655, 586977, 396497, 283941, 563799, 331908, 390756, 244812, 572927, 663055, 272577, 265312, 283932, 272563, 361432, 401473, 624012, 416462, 351561, 485396, 844198, 364063, 341842, 224811, 394299, 353983, 234045, 125761, 390014, 354650, 400294, 404494, 330608, 674909, 517124, 332823, 422964, 435643, 313688, 256653, 231879, 725253, 509823, 694891, 226227, 179411, 326152, 322691, 608778, 271673, 1058883, 230694, 308232, 355087, 277409, 362395, 268864, 315016, 235252, 565233, 482541, 294659, 346339, 245387, 964507, 406691, 179533, 336405, 307139, 226014, 601984, 300909, 388824, 231965, 243718, 268991, 609302, 542462, 139270, 566171, 278935, 227786, 313282, 268784, 370241, 279338, 182538, 414351, 227119, 531910, 428657, 279847, 603432, 277456, 242474, 456890, 198019, 280909, 509076, 313115, 192918, 354869, 578468, 413919, 587364, 350086, 331669, 512340, 495940, 317770, 327372, 304922, 482056, 291797, 472330, 385716, 568204, 244766, 616158, 431205, 356299, 328017, 571134, 249706, 397100, 465720, 816670, 352059, 246969, 364182, 389520, 185051, 569146, 299188, 326691, 512531, 298828, 391782, 259943, 426927, 181928, 516287, 270591, 360456, 170223, 403076, 342125, 357384, 409454, 346089, 432306, 554656, 599304, 465452, 216425, 352621, 351098, 351749, 384827, 631243, 648549, 414231, 208043, 184150, 371875, 285436, 406597, 355099, 457476, 342174, 329315, 732339, 240618, 457062, 354797, 447511, 546785, 196168, 260394, 305806, 186636, 191711, 598508, 598111, 468108, 354619]\n"
     ]
    }
   ],
   "source": [
    "#y_pred = model.predict(test_X)\n",
    "y_pred = np.expm1(model.predict(test_X))\n",
    "predictions = [round(value) for value in y_pred]\n",
    "print(predictions)"
   ]
  },
  {
   "cell_type": "code",
   "execution_count": 26,
   "metadata": {
    "scrolled": true
   },
   "outputs": [
    {
     "data": {
      "text/plain": [
       "array([12.658212, 12.632885, 12.997223, ..., 13.301534, 13.056457,\n",
       "       12.778801], dtype=float32)"
      ]
     },
     "execution_count": 26,
     "metadata": {},
     "output_type": "execute_result"
    }
   ],
   "source": [
    "y_pred"
   ]
  },
  {
   "cell_type": "code",
   "execution_count": 42,
   "metadata": {},
   "outputs": [],
   "source": [
    "test_Y = np.expm1(test_Y)"
   ]
  },
  {
   "cell_type": "code",
   "execution_count": 43,
   "metadata": {},
   "outputs": [],
   "source": [
    "errlist = []\n",
    "ty = list(test_Y)\n",
    "for i, v in enumerate(predictions):\n",
    "    errlist.append(abs(ty[i]-predictions[i]))"
   ]
  },
  {
   "cell_type": "markdown",
   "metadata": {},
   "source": [
    "## Mean Prediction Error in USD"
   ]
  },
  {
   "cell_type": "code",
   "execution_count": 44,
   "metadata": {},
   "outputs": [
    {
     "data": {
      "text/plain": [
       "58090.810152126665"
      ]
     },
     "execution_count": 44,
     "metadata": {},
     "output_type": "execute_result"
    }
   ],
   "source": [
    "sum(errlist)/len(errlist)"
   ]
  },
  {
   "cell_type": "code",
   "execution_count": 30,
   "metadata": {},
   "outputs": [
    {
     "data": {
      "text/plain": [
       "13"
      ]
     },
     "execution_count": 30,
     "metadata": {},
     "output_type": "execute_result"
    }
   ],
   "source": [
    "predictions[2]"
   ]
  },
  {
   "cell_type": "code",
   "execution_count": 31,
   "metadata": {},
   "outputs": [
    {
     "data": {
      "text/plain": [
       "44338    12.528160\n",
       "20265    12.861001\n",
       "53991    12.864954\n",
       "5270     11.898195\n",
       "34645    13.159661\n",
       "Name: PRICE, dtype: float64"
      ]
     },
     "execution_count": 31,
     "metadata": {},
     "output_type": "execute_result"
    }
   ],
   "source": [
    "test_Y.head()"
   ]
  },
  {
   "cell_type": "code",
   "execution_count": 32,
   "metadata": {},
   "outputs": [
    {
     "data": {
      "text/plain": [
       "44338    12.528160\n",
       "20265    12.861001\n",
       "53991    12.864954\n",
       "5270     11.898195\n",
       "34645    13.159661\n",
       "           ...    \n",
       "78439    11.695255\n",
       "21978    13.795309\n",
       "8979     12.206078\n",
       "76669    13.224236\n",
       "6720     12.929994\n",
       "Name: PRICE, Length: 12884, dtype: float64"
      ]
     },
     "execution_count": 32,
     "metadata": {},
     "output_type": "execute_result"
    }
   ],
   "source": [
    "test_Y"
   ]
  },
  {
   "cell_type": "code",
   "execution_count": 33,
   "metadata": {},
   "outputs": [
    {
     "data": {
      "text/plain": [
       "Index(['SOLD DATE', 'ZIP OR POSTAL CODE', 'BEDS', 'BATHS', 'SQUARE FEET',\n",
       "       'LOT SIZE', 'YEAR BUILT', 'HOA/MONTH', 'LATITUDE', 'LONGITUDE',\n",
       "       ...\n",
       "       'LOCATION_vermillion', 'LOCATION_villages at Rosedale',\n",
       "       'LOCATION_waters Edge', 'LOCATION_west asheville', 'LOCATION_wexford',\n",
       "       'LOCATION_white oaks estates', 'LOCATION_windsor grove',\n",
       "       'LOCATION_windstone Crossing', 'LOCATION_windy hill farms',\n",
       "       'LOCATION_woodland hills'],\n",
       "      dtype='object', length=6729)"
      ]
     },
     "execution_count": 33,
     "metadata": {},
     "output_type": "execute_result"
    }
   ],
   "source": [
    "test_X.columns"
   ]
  },
  {
   "cell_type": "code",
   "execution_count": 34,
   "metadata": {},
   "outputs": [
    {
     "data": {
      "text/plain": [
       "Index(['SOLD DATE', 'ZIP OR POSTAL CODE', 'BEDS', 'BATHS', 'SQUARE FEET',\n",
       "       'LOT SIZE', 'YEAR BUILT', 'HOA/MONTH', 'LATITUDE', 'LONGITUDE',\n",
       "       ...\n",
       "       'LOCATION_vermillion', 'LOCATION_villages at Rosedale',\n",
       "       'LOCATION_waters Edge', 'LOCATION_west asheville', 'LOCATION_wexford',\n",
       "       'LOCATION_white oaks estates', 'LOCATION_windsor grove',\n",
       "       'LOCATION_windstone Crossing', 'LOCATION_windy hill farms',\n",
       "       'LOCATION_woodland hills'],\n",
       "      dtype='object', length=6729)"
      ]
     },
     "execution_count": 34,
     "metadata": {},
     "output_type": "execute_result"
    }
   ],
   "source": [
    "train_X.columns"
   ]
  },
  {
   "cell_type": "code",
   "execution_count": 35,
   "metadata": {},
   "outputs": [
    {
     "data": {
      "text/plain": [
       "44338    12.528160\n",
       "20265    12.861001\n",
       "53991    12.864954\n",
       "5270     11.898195\n",
       "34645    13.159661\n",
       "           ...    \n",
       "78439    11.695255\n",
       "21978    13.795309\n",
       "8979     12.206078\n",
       "76669    13.224236\n",
       "6720     12.929994\n",
       "Name: PRICE, Length: 12884, dtype: float64"
      ]
     },
     "execution_count": 35,
     "metadata": {},
     "output_type": "execute_result"
    }
   ],
   "source": [
    "test_Y"
   ]
  },
  {
   "cell_type": "code",
   "execution_count": null,
   "metadata": {},
   "outputs": [],
   "source": []
  }
 ],
 "metadata": {
  "colab": {
   "collapsed_sections": [],
   "provenance": []
  },
  "kernelspec": {
   "display_name": "Python 3 (ipykernel)",
   "language": "python",
   "name": "python3"
  },
  "language_info": {
   "codemirror_mode": {
    "name": "ipython",
    "version": 3
   },
   "file_extension": ".py",
   "mimetype": "text/x-python",
   "name": "python",
   "nbconvert_exporter": "python",
   "pygments_lexer": "ipython3",
   "version": "3.9.5"
  }
 },
 "nbformat": 4,
 "nbformat_minor": 1
}
