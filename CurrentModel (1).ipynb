{
 "cells": [
  {
   "cell_type": "markdown",
   "metadata": {
    "id": "VyBec4XPV7ru"
   },
   "source": [
    "# Relevant Imports"
   ]
  },
  {
   "cell_type": "code",
   "execution_count": 31,
   "metadata": {},
   "outputs": [],
   "source": [
    "showcase = True"
   ]
  },
  {
   "cell_type": "code",
   "execution_count": 32,
   "metadata": {},
   "outputs": [],
   "source": [
    "import numpy as np\n",
    "import pandas as pd\n",
    "import glob\n",
    "import os\n",
    "import xgboost\n",
    "import csv as csv\n",
    "#import ipychart as ipc\n",
    "from xgboost import plot_importance\n",
    "from matplotlib import pyplot\n",
    "from sklearn.model_selection import cross_val_score,KFold\n",
    "from sklearn.model_selection import train_test_split\n",
    "from sklearn.metrics import mean_absolute_error\n",
    "from sklearn.metrics import accuracy_score\n",
    "import matplotlib.pyplot as plt\n",
    "# from sklearn.grid_search import GridSearchCV   #Perforing grid search\n",
    "from scipy.stats import skew\n",
    "from collections import OrderedDict"
   ]
  },
  {
   "cell_type": "code",
   "execution_count": 33,
   "metadata": {
    "colab": {
     "base_uri": "https://localhost:8080/"
    },
    "id": "nq9Qm8gyWIDh",
    "outputId": "9aab1c66-f26d-42db-e9fb-bfcd80484989",
    "scrolled": true
   },
   "outputs": [
    {
     "name": "stdout",
     "output_type": "stream",
     "text": [
      "   ID         SOLD DATE PROPERTY TYPE                  ADDRESS        CITY  \\\n",
      "0   0      July-28-2022   Condo/Co-op      3881 Carl Parmer Dr  Harrisburg   \n",
      "1   1    August-17-2022   Condo/Co-op        6419 Town Hall Pl  Harrisburg   \n",
      "2   2  February-10-2022   Condo/Co-op  1 Buffalo Ave NW Unit 7     Concord   \n",
      "3   3      March-4-2022   Condo/Co-op          476 Camrose Cir     Concord   \n",
      "4   4    October-8-2021   Condo/Co-op      4068 Town Center Rd  Harrisburg   \n",
      "\n",
      "  STATE OR PROVINCE ZIP OR POSTAL CODE   PRICE  BEDS  BATHS  \\\n",
      "0                NC              28075  258000   3.0    2.0   \n",
      "1                NC              28075  242000   3.0    2.0   \n",
      "2                NC              28025  102000   2.0    1.0   \n",
      "3                NC              28025  203000   2.0    1.5   \n",
      "4                NC              28075  170000   2.0    1.0   \n",
      "\n",
      "                 LOCATION  SQUARE FEET  LOT SIZE  YEAR BUILT  $/SQUARE FEET  \\\n",
      "0              Harrisburg       1181.0       NaN      2005.0          218.0   \n",
      "1  Harrisburg Town Center       1186.0       NaN      2002.0          204.0   \n",
      "2        Locke Mill Plaza        819.0       NaN      1890.0          125.0   \n",
      "3                 Oakleaf       1188.0     696.0      1981.0          171.0   \n",
      "4  Harrisburg Town Center        877.0       NaN      2002.0          194.0   \n",
      "\n",
      "   HOA/MONTH  \\\n",
      "0      223.0   \n",
      "1      223.0   \n",
      "2      150.0   \n",
      "3      145.0   \n",
      "4      230.0   \n",
      "\n",
      "  URL (SEE https://www.redfin.com/buy-a-home/comparative-market-analysis FOR INFO ON PRICING)  \\\n",
      "0  https://www.redfin.com/NC/Harrisburg/3881-Carl...                                            \n",
      "1  https://www.redfin.com/NC/Harrisburg/6419-Town...                                            \n",
      "2  https://www.redfin.com/NC/Concord/1-Buffalo-Av...                                            \n",
      "3  https://www.redfin.com/NC/Concord/476-Camrose-...                                            \n",
      "4  https://www.redfin.com/NC/Harrisburg/4068-Town...                                            \n",
      "\n",
      "    LATITUDE  LONGITUDE  \n",
      "0  35.326224 -80.642868  \n",
      "1  35.326115 -80.644037  \n",
      "2  35.418215 -80.589929  \n",
      "3  35.428529 -80.586957  \n",
      "4  35.327007 -80.644616  \n"
     ]
    }
   ],
   "source": [
    "dataFrame = pd.read_csv(\"./CombinedData.csv\", header = 0, low_memory=False)\n",
    "dataFrame.insert(0, 'ID', range(0,len(dataFrame)))\n",
    "#dataFrame = dataFrame.sample(frac=1).reset_index(drop=True)\n",
    "print(dataFrame.head())"
   ]
  },
  {
   "cell_type": "code",
   "execution_count": 34,
   "metadata": {},
   "outputs": [],
   "source": [
    "dataFrame = dataFrame[dataFrame['SQUARE FEET'].notna()]\n",
    "dataFrame = dataFrame[dataFrame['SOLD DATE'].notna()]\n",
    "dataFrame = dataFrame[dataFrame['ZIP OR POSTAL CODE'].notna()]\n",
    "dataFrame = dataFrame[dataFrame['YEAR BUILT'].notna()]\n",
    "#dataFrame = dataFrame[dataFrame['LOCATION'].notna()]\n",
    "dataFrame['SOLD DATE'] = pd.to_datetime(dataFrame['SOLD DATE']).apply(lambda x: x.value)"
   ]
  },
  {
   "cell_type": "markdown",
   "metadata": {},
   "source": [
    "# Dropping Fields and Selecting Categorical Variables"
   ]
  },
  {
   "cell_type": "code",
   "execution_count": 35,
   "metadata": {},
   "outputs": [],
   "source": [
    "dataFrame['ZIP OR POSTAL CODE'] = pd.Series([int(x.split('-')[0].split(' ')[0]) if '-' in x or ' ' in x else int(x) for x in dataFrame['ZIP OR POSTAL CODE']])\n",
    "\n",
    "dataFrame = dataFrame.drop(columns=[\"URL (SEE https://www.redfin.com/buy-a-home/comparative-market-analysis FOR INFO ON PRICING)\", \n",
    "                                   'CITY', 'STATE OR PROVINCE', 'ADDRESS', '$/SQUARE FEET'])\n",
    "# dataFrame['ZIP OR POSTAL CODE'] = dataFrame['ZIP OR POSTAL CODE'].astype(int)\n",
    "df = dataFrame.copy(deep=True)"
   ]
  },
  {
   "cell_type": "code",
   "execution_count": 36,
   "metadata": {},
   "outputs": [],
   "source": [
    "h = dataFrame['PRICE'].quantile(0.99)\n",
    "l = dataFrame['PRICE'].quantile(0.01)\n",
    "dataFrame = dataFrame[(dataFrame[\"PRICE\"] < h) & (dataFrame[\"PRICE\"] > l)]"
   ]
  },
  {
   "cell_type": "code",
   "execution_count": 37,
   "metadata": {},
   "outputs": [],
   "source": [
    "category_features = ['PROPERTY TYPE', 'LOCATION']\n",
    "labels = dataFrame['PRICE']\n",
    "training = dataFrame.drop(['ID'], axis = 1)"
   ]
  },
  {
   "cell_type": "markdown",
   "metadata": {},
   "source": [
    "# Manipulating non-normalized dataframe"
   ]
  },
  {
   "cell_type": "code",
   "execution_count": 38,
   "metadata": {},
   "outputs": [],
   "source": [
    "df['SOLD DATE'] = pd.to_datetime(df['SOLD DATE'])"
   ]
  },
  {
   "cell_type": "code",
   "execution_count": 39,
   "metadata": {},
   "outputs": [],
   "source": [
    "nan_features = ['LOCATION']\n",
    "def ConvertToNAString(data, columnsList):\n",
    "    for x in columnsList:\n",
    "        data[x].apply(lambda x: x if x else 'NA')\n",
    "ConvertToNAString(training, nan_features)"
   ]
  },
  {
   "cell_type": "code",
   "execution_count": 40,
   "metadata": {},
   "outputs": [
    {
     "data": {
      "text/plain": [
       "Index(['SOLD DATE', 'PROPERTY TYPE', 'ZIP OR POSTAL CODE', 'PRICE', 'BEDS',\n",
       "       'BATHS', 'LOCATION', 'SQUARE FEET', 'LOT SIZE', 'YEAR BUILT',\n",
       "       'HOA/MONTH', 'LATITUDE', 'LONGITUDE'],\n",
       "      dtype='object')"
      ]
     },
     "execution_count": 40,
     "metadata": {},
     "output_type": "execute_result"
    }
   ],
   "source": [
    "training.columns"
   ]
  },
  {
   "cell_type": "code",
   "execution_count": 41,
   "metadata": {},
   "outputs": [
    {
     "data": {
      "text/plain": [
       "0                    Harrisburg\n",
       "1        Harrisburg Town Center\n",
       "2              Locke Mill Plaza\n",
       "3                       Oakleaf\n",
       "4        Harrisburg Town Center\n",
       "                  ...          \n",
       "78909             The Magnolias\n",
       "78928                  Guilford\n",
       "78929               Ridge Creek\n",
       "78957                  Guilford\n",
       "78961                High Point\n",
       "Name: LOCATION, Length: 42942, dtype: object"
      ]
     },
     "execution_count": 41,
     "metadata": {},
     "output_type": "execute_result"
    }
   ],
   "source": [
    "training['LOCATION']"
   ]
  },
  {
   "cell_type": "code",
   "execution_count": 42,
   "metadata": {
    "scrolled": false
   },
   "outputs": [],
   "source": [
    "non_categorical_columns = [col for col in training.columns if col not in category_features and col not in ['ID']]\n",
    "numeric_features = training[non_categorical_columns].dtypes[training.dtypes != \"object\"].index"
   ]
  },
  {
   "cell_type": "code",
   "execution_count": 43,
   "metadata": {
    "scrolled": true
   },
   "outputs": [],
   "source": [
    "#training['HOA/MONTH'].head()"
   ]
  },
  {
   "cell_type": "code",
   "execution_count": 44,
   "metadata": {},
   "outputs": [],
   "source": [
    "#training['HOA/MONTH'] = training['HOA/MONTH'].fillna(training['HOA/MONTH'].mean())"
   ]
  },
  {
   "cell_type": "code",
   "execution_count": 45,
   "metadata": {
    "scrolled": true
   },
   "outputs": [
    {
     "name": "stderr",
     "output_type": "stream",
     "text": [
      "c:\\users\\yadav\\appdata\\local\\programs\\python\\python39\\lib\\site-packages\\pandas\\core\\internals\\blocks.py:352: RuntimeWarning: invalid value encountered in log1p\n",
      "  result = func(self.values, **kwargs)\n"
     ]
    }
   ],
   "source": [
    "training[numeric_features] = np.log1p(training[numeric_features])"
   ]
  },
  {
   "cell_type": "code",
   "execution_count": 46,
   "metadata": {
    "scrolled": true
   },
   "outputs": [],
   "source": [
    "#training[numeric_features].head()"
   ]
  },
  {
   "cell_type": "code",
   "execution_count": 47,
   "metadata": {},
   "outputs": [],
   "source": [
    "training = pd.get_dummies(training, columns=category_features)"
   ]
  },
  {
   "cell_type": "code",
   "execution_count": 48,
   "metadata": {},
   "outputs": [
    {
     "data": {
      "text/plain": [
       "Index(['SOLD DATE', 'ZIP OR POSTAL CODE', 'PRICE', 'BEDS', 'BATHS',\n",
       "       'SQUARE FEET', 'LOT SIZE', 'YEAR BUILT', 'HOA/MONTH', 'LATITUDE',\n",
       "       ...\n",
       "       'LOCATION_vermillion', 'LOCATION_villages at Rosedale',\n",
       "       'LOCATION_waters Edge', 'LOCATION_west asheville', 'LOCATION_wexford',\n",
       "       'LOCATION_white oaks estates', 'LOCATION_windsor grove',\n",
       "       'LOCATION_windstone Crossing', 'LOCATION_windy hill farms',\n",
       "       'LOCATION_woodland hills'],\n",
       "      dtype='object', length=6730)"
      ]
     },
     "execution_count": 48,
     "metadata": {},
     "output_type": "execute_result"
    }
   ],
   "source": [
    "training.columns"
   ]
  },
  {
   "cell_type": "code",
   "execution_count": 49,
   "metadata": {
    "colab": {
     "base_uri": "https://localhost:8080/"
    },
    "id": "Q1KMCjLtm8pp",
    "outputId": "1b2871bf-5d44-49dd-e9e6-89c90c2d5abd",
    "scrolled": true
   },
   "outputs": [],
   "source": [
    "X_train, X_test, y_train, y_test = train_test_split(training, labels, test_size=.3)\n",
    "train_dataset = X_train\n",
    "test_dataset = X_test\n",
    "# train_dataset = pd.get_dummies(X_train,columns=category_features)\n",
    "# test_dataset = pd.get_dummies(X_test,columns=category_features)\n",
    "\n",
    "every_column_except_y= [col for col in train_dataset.columns if col not in ['PRICE','ID']]\n",
    "train_X = train_dataset[every_column_except_y]\n",
    "every_column_except_y= [col for col in test_dataset.columns if col not in ['PRICE','ID']]\n",
    "test_X = test_dataset[every_column_except_y]\n",
    "train_Y = train_dataset['PRICE']\n",
    "test_Y = test_dataset['PRICE']"
   ]
  },
  {
   "cell_type": "code",
   "execution_count": 50,
   "metadata": {
    "id": "fYFU5X6xXkQ2"
   },
   "outputs": [],
   "source": [
    "def createColumnPerValue(data, columnsList):\n",
    "  for x in columnsList:\n",
    "    values = pd.unique(data[x])\n",
    "\n",
    "    for y in values: \n",
    "      column_name = x + \"_\" + str(y)\n",
    "      data[column_name]=(data[x]==y).astype(float)\n",
    "    \n",
    "    data.drop(x, axis=1, inplace=True)\n",
    "\n"
   ]
  },
  {
   "cell_type": "markdown",
   "metadata": {},
   "source": [
    "# Establish ML model"
   ]
  },
  {
   "cell_type": "code",
   "execution_count": 51,
   "metadata": {},
   "outputs": [],
   "source": [
    "if not showcase:\n",
    "    model = xgboost.XGBRegressor(colsample_bytree=0.4,\n",
    "                     gamma=0,                 \n",
    "                     learning_rate=0.07,\n",
    "                     max_depth=3,\n",
    "                     tree_method='gpu_hist', \n",
    "                     gpu_id=0,\n",
    "                     min_child_weight=1.5,\n",
    "                     n_estimators=10000,                                                                    \n",
    "                     reg_alpha=0.75,\n",
    "                     reg_lambda=0.45,\n",
    "                     subsample=0.6,\n",
    "                     seed=42)\n",
    "else:\n",
    "  model = xgboost.XGBRegressor()\n",
    "  model.load_model(\"CurrentModel.json\")"
   ]
  },
  {
   "cell_type": "code",
   "execution_count": 52,
   "metadata": {},
   "outputs": [
    {
     "name": "stdout",
     "output_type": "stream",
     "text": [
      "38388    550000\n",
      "62286    150000\n",
      "71288    300000\n",
      "62004    410000\n",
      "20850    182000\n",
      "          ...  \n",
      "1339     226000\n",
      "13262    392500\n",
      "14183    205000\n",
      "76289    217000\n",
      "40831    314000\n",
      "Name: PRICE, Length: 30059, dtype: int64\n"
     ]
    }
   ],
   "source": [
    "print(y_train)"
   ]
  },
  {
   "cell_type": "code",
   "execution_count": 53,
   "metadata": {},
   "outputs": [
    {
     "data": {
      "text/plain": [
       "OrderedDict([('LATITUDE', 8297.0),\n",
       "             ('LOT SIZE', 7686.0),\n",
       "             ('YEAR BUILT', 7644.0),\n",
       "             ('SQUARE FEET', 6900.0),\n",
       "             ('SOLD DATE', 6178.0),\n",
       "             ('ZIP OR POSTAL CODE', 5595.0),\n",
       "             ('HOA/MONTH', 4110.0),\n",
       "             ('BATHS', 2754.0),\n",
       "             ('BEDS', 1820.0),\n",
       "             ('LOCATION_Mooresville', 471.0),\n",
       "             ('LOCATION_Asheville', 400.0),\n",
       "             ('PROPERTY TYPE_Single Family Residential', 367.0),\n",
       "             ('LOCATION_Durham', 339.0),\n",
       "             ('LOCATION_Johnston', 329.0),\n",
       "             ('PROPERTY TYPE_Multi-Family (2-4 Unit)', 258.0),\n",
       "             ('LOCATION_Chatham', 243.0),\n",
       "             ('PROPERTY TYPE_Condo/Co-op', 242.0),\n",
       "             ('LOCATION_Gastonia', 202.0),\n",
       "             ('LOCATION_Weaverville', 201.0),\n",
       "             ('LOCATION_Statesville', 190.0),\n",
       "             ('LOCATION_Alamance', 181.0),\n",
       "             ('PROPERTY TYPE_Townhouse', 173.0),\n",
       "             ('LOCATION_Salisbury', 172.0),\n",
       "             ('LOCATION_Concord', 157.0),\n",
       "             ('LOCATION_Candler', 155.0),\n",
       "             ('LOCATION_Kannapolis', 152.0),\n",
       "             ('LOCATION_Orange', 141.0),\n",
       "             ('LOCATION_Charlotte', 136.0),\n",
       "             ('LOCATION_Lexington', 116.0),\n",
       "             ('PROPERTY TYPE_Mobile/Manufactured Home', 112.0),\n",
       "             ('LOCATION_Black Mountain', 104.0),\n",
       "             ('LOCATION_Davidson', 104.0),\n",
       "             ('LOCATION_Swannanoa', 97.0),\n",
       "             ('LOCATION_Fairview', 91.0),\n",
       "             ('LOCATION_Historic District', 86.0),\n",
       "             ('LOCATION_China Grove', 79.0),\n",
       "             ('LOCATION_Dallas', 76.0),\n",
       "             ('LOCATION_Westwood', 68.0),\n",
       "             ('LOCATION_Myers Park', 65.0),\n",
       "             ('LOCATION_Cleveland', 64.0),\n",
       "             ('LOCATION_Mount Holly', 56.0),\n",
       "             ('LOCATION_Cherryville', 55.0),\n",
       "             ('LOCATION_Southbrook', 53.0),\n",
       "             ('LOCATION_Burlington', 52.0),\n",
       "             ('LOCATION_Gold Hill', 52.0),\n",
       "             ('PROPERTY TYPE_Multi-Family (5+ Unit)', 51.0),\n",
       "             ('LOCATION_Belmont', 48.0),\n",
       "             ('LOCATION_Alexander', 46.0),\n",
       "             ('LOCATION_Leicester', 46.0),\n",
       "             ('LOCATION_Guilford', 44.0),\n",
       "             ('LOCATION_Granville', 42.0),\n",
       "             ('LOCATION_Parkwood', 42.0),\n",
       "             ('LOCATION_Rockwell', 42.0),\n",
       "             ('LOCATION_Crystal Lake', 41.0),\n",
       "             ('LOCATION_Midland', 40.0),\n",
       "             ('LOCATION_Montreat', 40.0),\n",
       "             ('LOCATION_Cornelius', 38.0),\n",
       "             ('LOCATION_Biltmore Forest', 36.0),\n",
       "             ('LOCATION_Denton', 36.0),\n",
       "             ('LOCATION_Midwood', 36.0),\n",
       "             ('LOCATION_Beaucatcher House', 35.0),\n",
       "             ('LOCATION_Greystone Village', 35.0),\n",
       "             ('LOCATION_Kenilworth', 35.0),\n",
       "             ('LOCATION_Lake Wylie', 35.0),\n",
       "             ('LOCATION_Ridgecrest', 35.0),\n",
       "             ('LOCATION_To Be Added', 35.0),\n",
       "             ('LOCATION_Mountain Retreat', 33.0),\n",
       "             ('LOCATION_Bessemer City', 32.0),\n",
       "             ('LOCATION_Commodore Peninsula', 32.0),\n",
       "             ('LOCATION_Kellswater Bridge', 32.0),\n",
       "             ('LOCATION_Ashecroft', 31.0),\n",
       "             ('LOCATION_Davidson Landing', 31.0),\n",
       "             ('LOCATION_Dilworth', 31.0),\n",
       "             ('LOCATION_Haw Village', 31.0),\n",
       "             ('LOCATION_Madison Park', 31.0),\n",
       "             ('LOCATION_Sherwood Heights', 31.0),\n",
       "             ('LOCATION_Watts Hospital Hillandale', 31.0),\n",
       "             ('LOCATION_West Asheville', 31.0),\n",
       "             ('LOCATION_Rock Gate Estates', 30.0),\n",
       "             ('LOCATION_Weatherstone', 30.0),\n",
       "             ('LOCATION_Fearrington', 29.0),\n",
       "             ('LOCATION_Fletcher', 29.0),\n",
       "             ('LOCATION_Landis', 29.0),\n",
       "             ('LOCATION_Thomasville', 29.0),\n",
       "             ('LOCATION_Grove Park', 28.0),\n",
       "             ('LOCATION_Rockwood', 28.0),\n",
       "             ('LOCATION_The Arts District', 28.0),\n",
       "             ('LOCATION_Tuscaloosa Lakewood', 28.0),\n",
       "             ('LOCATION_Villa Heights', 28.0),\n",
       "             ('LOCATION_Country Club Heights', 27.0),\n",
       "             ('LOCATION_Duke Forest', 27.0),\n",
       "             ('LOCATION_Elizabeth', 27.0),\n",
       "             ('LOCATION_Reynolds Mountain', 27.0),\n",
       "             ('LOCATION_Sedgefield', 27.0),\n",
       "             ('LOCATION_Town Mountain', 27.0),\n",
       "             ('LOCATION_Troutman', 27.0),\n",
       "             ('LOCATION_Asheville West', 26.0),\n",
       "             ('LOCATION_Ashton Manor', 26.0),\n",
       "             ('LOCATION_Faith Farms', 26.0),\n",
       "             ('LOCATION_Mill Creek', 26.0),\n",
       "             ('LOCATION_Beaucatcher Heights', 25.0),\n",
       "             ('LOCATION_Cabarrus Woods', 25.0),\n",
       "             ('LOCATION_Chapel Ridge', 25.0),\n",
       "             ('LOCATION_Harmony', 25.0),\n",
       "             ('LOCATION_Haw Creek', 25.0),\n",
       "             ('LOCATION_Shamrock Green', 25.0),\n",
       "             ('LOCATION_Wesley Heights', 25.0),\n",
       "             ('LOCATION_Arden', 24.0),\n",
       "             ('LOCATION_Biltmore Lake', 24.0),\n",
       "             ('LOCATION_Biltmore Park', 24.0),\n",
       "             ('LOCATION_Cramerton', 24.0),\n",
       "             ('LOCATION_Granite Quarry', 24.0),\n",
       "             ('LOCATION_Meadowmont', 24.0),\n",
       "             ('LOCATION_Northgate Park', 24.0),\n",
       "             ('LOCATION_Olin', 24.0),\n",
       "             ('LOCATION_Briar Chapel', 23.0),\n",
       "             ('LOCATION_Croasdaile Farm', 23.0),\n",
       "             ('LOCATION_Forest Hills', 23.0),\n",
       "             ('LOCATION_Mariner Villas', 23.0),\n",
       "             ('LOCATION_Randolph', 23.0),\n",
       "             ('LOCATION_Spencer', 23.0),\n",
       "             ('LOCATION_The Preserve at Jordan Lake', 23.0),\n",
       "             ('LOCATION_Thoms Estate', 23.0),\n",
       "             ('LOCATION_Winston Salem', 23.0),\n",
       "             ('LOCATION_Asheboro', 22.0),\n",
       "             ('LOCATION_Harrisburg', 22.0),\n",
       "             ('LOCATION_Ivanhoe', 22.0),\n",
       "             ('LOCATION_Laurel Grove', 22.0),\n",
       "             ('LOCATION_Morgan Creek', 22.0),\n",
       "             ('LOCATION_Not In Subdivision', 22.0),\n",
       "             ('LOCATION_Old North Durham', 22.0),\n",
       "             ('LOCATION_Oxford Manor', 22.0),\n",
       "             ('LOCATION_Royal Oaks', 22.0),\n",
       "             ('LOCATION_Stanley', 22.0),\n",
       "             ('LOCATION_Trinity Park', 22.0),\n",
       "             ('LOCATION_Wilmore', 22.0),\n",
       "             ('LOCATION_Biddleville', 21.0),\n",
       "             ('LOCATION_Brightwalk', 21.0),\n",
       "             ('LOCATION_Carolina Preserve', 21.0),\n",
       "             ('LOCATION_Colonial Village', 21.0),\n",
       "             ('LOCATION_Harbor Cove', 21.0),\n",
       "             ('LOCATION_Lake Norman Bonanza', 21.0),\n",
       "             ('LOCATION_Merry Oaks', 21.0),\n",
       "             ('LOCATION_Montvale', 21.0),\n",
       "             ('LOCATION_Treyburn', 21.0),\n",
       "             ('LOCATION_Wiltshire Manor', 21.0),\n",
       "             ('LOCATION_Beaverdam', 20.0),\n",
       "             ('LOCATION_Buffalo Creek', 20.0),\n",
       "             ('LOCATION_Commonwealth Park', 20.0),\n",
       "             ('LOCATION_Lakeview Estates', 20.0),\n",
       "             ('LOCATION_Linwood', 20.0),\n",
       "             ('LOCATION_MackIntosh on the Lake', 20.0),\n",
       "             ('LOCATION_Malvern Walk', 20.0),\n",
       "             ('LOCATION_Southern Village', 20.0),\n",
       "             ('LOCATION_The Cliffs at Walnut Cove', 20.0),\n",
       "             ('LOCATION_Vineyards', 20.0),\n",
       "             ('LOCATION_Beaver Creek', 19.0),\n",
       "             ('LOCATION_Chantilly', 19.0),\n",
       "             ('LOCATION_Chapel Cove', 19.0),\n",
       "             ('LOCATION_Chestnut Ridge', 19.0),\n",
       "             ('LOCATION_Cleveland Holloway', 19.0),\n",
       "             ('LOCATION_Cotswold', 19.0),\n",
       "             ('LOCATION_Duke Park', 19.0),\n",
       "             ('LOCATION_Graham', 19.0),\n",
       "             ('LOCATION_Greenwood Fields', 19.0),\n",
       "             ('LOCATION_Kings Mountain', 19.0),\n",
       "             ('LOCATION_Kingstree', 19.0),\n",
       "             ('LOCATION_South End', 19.0),\n",
       "             ('LOCATION_Sovereign Oaks', 19.0),\n",
       "             ('LOCATION_*', 18.0),\n",
       "             ('LOCATION_Asheville Arras Residence', 18.0),\n",
       "             ('LOCATION_Beverly Hills', 18.0),\n",
       "             ('LOCATION_Christenbury Hall', 18.0),\n",
       "             ('LOCATION_Dogwood Acres', 18.0),\n",
       "             ('LOCATION_Huntersville', 18.0),\n",
       "             ('LOCATION_Long Meadows', 18.0),\n",
       "             ('LOCATION_Malvern Hills', 18.0),\n",
       "             ('LOCATION_Providence Park', 18.0),\n",
       "             ('LOCATION_Reems Creek Golf Community', 18.0),\n",
       "             ('LOCATION_Sunset Mountain', 18.0),\n",
       "             ('LOCATION_The Oaks', 18.0),\n",
       "             ('LOCATION_The Palisades', 18.0),\n",
       "             ('LOCATION_Wildlife Bay', 18.0),\n",
       "             ('LOCATION_Briarcliff Crossing', 17.0),\n",
       "             ('LOCATION_Collins Ridge', 17.0),\n",
       "             ('LOCATION_Forest Oaks', 17.0),\n",
       "             ('LOCATION_Highland Park', 17.0),\n",
       "             ('LOCATION_Holt Lake West', 17.0),\n",
       "             ('LOCATION_Hope Valley Country Club', 17.0),\n",
       "             ('LOCATION_Huntson Reserve', 17.0),\n",
       "             ('LOCATION_Jenkins Heights', 17.0),\n",
       "             ('LOCATION_Kinmere Commons', 17.0),\n",
       "             ('LOCATION_Montford', 17.0),\n",
       "             ('LOCATION_North Forest Hills', 17.0),\n",
       "             ('LOCATION_Portofino', 17.0),\n",
       "             ('LOCATION_The Broadway Asheville', 17.0),\n",
       "             ('LOCATION_Trellis Pointe', 17.0),\n",
       "             ('LOCATION_Trinity Heights', 17.0),\n",
       "             ('LOCATION_Windsor Park', 17.0),\n",
       "             ('LOCATION_Barclay Downs', 16.0),\n",
       "             ('LOCATION_Downtown', 16.0),\n",
       "             ('LOCATION_Eastmoor', 16.0),\n",
       "             ('LOCATION_Eastover', 16.0),\n",
       "             ('LOCATION_Fourth Ward', 16.0),\n",
       "             ('LOCATION_Green Acres', 16.0),\n",
       "             ('LOCATION_Homestead Heights', 16.0),\n",
       "             ('LOCATION_Jackson Park', 16.0),\n",
       "             ('LOCATION_Nolen Farm', 16.0),\n",
       "             ('LOCATION_Park Place', 16.0),\n",
       "             ('LOCATION_The Point', 16.0),\n",
       "             ('LOCATION_The Views Of Asheville', 16.0),\n",
       "             ('LOCATION_Ashley Woods', 15.0),\n",
       "             ('LOCATION_Foxcroft', 15.0),\n",
       "             ('LOCATION_High Point', 15.0),\n",
       "             ('LOCATION_Holcomb Woods', 15.0),\n",
       "             ('LOCATION_Royal Pines', 15.0),\n",
       "             ('LOCATION_Stones Throw', 15.0),\n",
       "             ('LOCATION_Stoneybrook', 15.0),\n",
       "             ('LOCATION_The Villages At Crest Mountain', 15.0),\n",
       "             ('LOCATION_The Vineyards on Lake Wylie', 15.0),\n",
       "             ('LOCATION_100 Norman Place', 14.0),\n",
       "             ('LOCATION_Fulton Heights', 14.0),\n",
       "             ('LOCATION_Horney Heights', 14.0),\n",
       "             ('LOCATION_Lakeview Park', 14.0),\n",
       "             ('LOCATION_Lakewood', 14.0),\n",
       "             ('LOCATION_Lost Forest', 14.0),\n",
       "             ('LOCATION_Oak Forest', 14.0),\n",
       "             ('LOCATION_Pirates Cove', 14.0),\n",
       "             ('LOCATION_River Run', 14.0),\n",
       "             ('LOCATION_Southcliff', 14.0),\n",
       "             ('LOCATION_The Cliffs At Walnut Cove', 14.0),\n",
       "             ('LOCATION_Afton Village', 13.0),\n",
       "             ('LOCATION_Biltmore Terrace', 13.0),\n",
       "             ('LOCATION_Birkdale Village', 13.0),\n",
       "             ('LOCATION_Bolinwood Condominiums', 13.0),\n",
       "             ('LOCATION_Colony Woods', 13.0),\n",
       "             ('LOCATION_Grovemont', 13.0),\n",
       "             ('LOCATION_Harrisburg Park', 13.0),\n",
       "             ('LOCATION_Norwood Park', 13.0),\n",
       "             ('LOCATION_Oakhurst', 13.0),\n",
       "             ('LOCATION_Olde Homestead', 13.0),\n",
       "             ('LOCATION_Panther Creek', 13.0),\n",
       "             ('LOCATION_Quarry Hills', 13.0),\n",
       "             ('LOCATION_Ridgewater', 13.0),\n",
       "             ('LOCATION_Summer Ridge', 13.0),\n",
       "             ('LOCATION_Woodland Hills', 13.0),\n",
       "             ('LOCATION_Barnardsville', 12.0),\n",
       "             ('LOCATION_Beverly Woods', 12.0),\n",
       "             ('LOCATION_Coker Hills', 12.0),\n",
       "             ('LOCATION_Creekside Village', 12.0),\n",
       "             ('LOCATION_Farmwood', 12.0),\n",
       "             ('LOCATION_John S. Henderson', 12.0),\n",
       "             ('LOCATION_Madison Green', 12.0),\n",
       "             ('LOCATION_Mount Pleasant', 12.0),\n",
       "             ('LOCATION_Northstone', 12.0),\n",
       "             ('LOCATION_Riceville Forest', 12.0),\n",
       "             ('LOCATION_Summerfield', 12.0),\n",
       "             ('LOCATION_York Chester', 12.0),\n",
       "             ('LOCATION_southwood', 12.0),\n",
       "             ('LOCATION_Bostwood Estates', 11.0),\n",
       "             ('LOCATION_Botany Woods', 11.0),\n",
       "             ('LOCATION_Cheshire', 11.0),\n",
       "             ('LOCATION_Downtown District', 11.0),\n",
       "             ('LOCATION_Eastwood Village', 11.0),\n",
       "             ('LOCATION_Enderly Park', 11.0),\n",
       "             ('LOCATION_Greenway Park', 11.0),\n",
       "             ('LOCATION_Mercer', 11.0),\n",
       "             ('LOCATION_Oak Park', 11.0),\n",
       "             ('LOCATION_Rocky Ridge', 11.0),\n",
       "             ('LOCATION_Sherwood Forest', 11.0),\n",
       "             ('LOCATION_Stallings Glen', 11.0),\n",
       "             ('LOCATION_Sweet Birch Commons', 11.0),\n",
       "             ('LOCATION_The Enclave at Providence Park', 11.0),\n",
       "             ('LOCATION_Tralee', 11.0),\n",
       "             ('LOCATION_West Asheville Estates', 11.0),\n",
       "             ('LOCATION_Windward Pointe', 11.0),\n",
       "             ('LOCATION_Apple Creek', 10.0),\n",
       "             ('LOCATION_Brandon Ridge Spring Hill', 10.0),\n",
       "             ('LOCATION_Carolinian Mills Inc', 10.0),\n",
       "             ('LOCATION_Cherry', 10.0),\n",
       "             ('LOCATION_Devonshire', 10.0),\n",
       "             ('LOCATION_East Spencer', 10.0),\n",
       "             ('LOCATION_Five Points', 10.0),\n",
       "             ('LOCATION_Forest Ridge', 10.0),\n",
       "             ('LOCATION_Hillcrest', 10.0),\n",
       "             ('LOCATION_Hope Creek', 10.0),\n",
       "             ('LOCATION_Hope Valley', 10.0),\n",
       "             ('LOCATION_Oak Valley', 10.0),\n",
       "             ('LOCATION_Oxford Park', 10.0),\n",
       "             ('LOCATION_Pine Valley', 10.0),\n",
       "             ('LOCATION_Scotland Manor', 10.0),\n",
       "             ('LOCATION_Seversville', 10.0),\n",
       "             ('LOCATION_Stones Edge', 10.0),\n",
       "             ('LOCATION_The Peninsula', 10.0),\n",
       "             ('LOCATION_Wingate Estates', 10.0),\n",
       "             ('LOCATION_Alexander Glen', 9.0),\n",
       "             ('LOCATION_Berewick', 9.0),\n",
       "             ('LOCATION_Devonshire Court', 9.0),\n",
       "             ('LOCATION_Greensboro', 9.0),\n",
       "             ('LOCATION_Hamrick Farms', 9.0),\n",
       "             ('LOCATION_Little Rock Crossing', 9.0),\n",
       "             ('LOCATION_Mason Oaks', 9.0),\n",
       "             ('LOCATION_McLean - South Shore', 9.0),\n",
       "             ('LOCATION_Moss Creek', 9.0),\n",
       "             ('LOCATION_Ramble Biltmore Forest', 9.0),\n",
       "             ('LOCATION_Rolling Green', 9.0),\n",
       "             ('LOCATION_Smallwood', 9.0),\n",
       "             ('LOCATION_Spring Acres', 9.0),\n",
       "             ('LOCATION_Winston Pointe', 9.0),\n",
       "             ('LOCATION_Alexander Towne', 8.0),\n",
       "             ('LOCATION_Autumn Trace', 8.0),\n",
       "             ('LOCATION_Bethesda Oaks', 8.0),\n",
       "             ('LOCATION_Falcon Chase', 8.0),\n",
       "             ('LOCATION_Fallscrest', 8.0),\n",
       "             ('LOCATION_Forestwood Park', 8.0),\n",
       "             ('LOCATION_Foxgate', 8.0),\n",
       "             ('LOCATION_Historic Montford', 8.0),\n",
       "             ('LOCATION_Kimberly Heights', 8.0),\n",
       "             ('LOCATION_Knolls at the Neuse', 8.0),\n",
       "             ('LOCATION_Lakewood Falls', 8.0),\n",
       "             ('LOCATION_Lincolnton', 8.0),\n",
       "             ('LOCATION_Mooresville Mill Village', 8.0),\n",
       "             ('LOCATION_Mountain Brook', 8.0),\n",
       "             ('LOCATION_Oakdale Park', 8.0),\n",
       "             ('LOCATION_Shannon Park', 8.0),\n",
       "             ('LOCATION_Southpark', 8.0),\n",
       "             ('LOCATION_The Oaks of Landis', 8.0),\n",
       "             ('LOCATION_Village at Bradley Branch', 8.0),\n",
       "             ('LOCATION_Vineyard Point', 8.0),\n",
       "             ('LOCATION_Willow Creek', 8.0),\n",
       "             ('LOCATION_Barkley Terrace', 7.0),\n",
       "             ('LOCATION_Briarwood', 7.0),\n",
       "             ('LOCATION_Brookwood', 7.0),\n",
       "             ('LOCATION_Cleveland Springs', 7.0),\n",
       "             ('LOCATION_Corbin Hills', 7.0),\n",
       "             ('LOCATION_Falconbridge', 7.0),\n",
       "             ('LOCATION_Harrisburg Village', 7.0),\n",
       "             ('LOCATION_Lantern Green', 7.0),\n",
       "             ('LOCATION_Leisure Woods', 7.0),\n",
       "             ('LOCATION_Mallard Head', 7.0),\n",
       "             ('LOCATION_Montclaire', 7.0),\n",
       "             ('LOCATION_Mountainbrook', 7.0),\n",
       "             ('LOCATION_Pine Acres', 7.0),\n",
       "             ('LOCATION_Riverwood Athletic Club', 7.0),\n",
       "             ('LOCATION_Sequoia Forest', 7.0),\n",
       "             ('LOCATION_Summerwind Plantation', 7.0),\n",
       "             ('LOCATION_University Terrace', 7.0),\n",
       "             ('LOCATION_Walltown', 7.0),\n",
       "             ('LOCATION_Wilder Farms', 7.0),\n",
       "             ('LOCATION_Willowbrook', 7.0),\n",
       "             ('LOCATION_Woodleaf', 7.0),\n",
       "             ('LOCATION_12 S. Lexington Condominiums', 6.0),\n",
       "             ('LOCATION_Annandale', 6.0),\n",
       "             ('LOCATION_Autumn Hills', 6.0),\n",
       "             ('LOCATION_Bells Crossing', 6.0),\n",
       "             ('LOCATION_Beverly Woods East', 6.0),\n",
       "             ('LOCATION_Brandon Forest', 6.0),\n",
       "             ('LOCATION_Brandon Ridge', 6.0),\n",
       "             ('LOCATION_Catawba Hills', 6.0),\n",
       "             ('LOCATION_Chateau', 6.0),\n",
       "             ('LOCATION_Country Club Hills', 6.0),\n",
       "             ('LOCATION_Crowell Farms', 6.0),\n",
       "             ('LOCATION_Davis Park', 6.0),\n",
       "             ('LOCATION_Eagle Heights', 6.0),\n",
       "             ('LOCATION_Echo Hills', 6.0),\n",
       "             ('LOCATION_Greystone Crossing', 6.0),\n",
       "             ('LOCATION_Harbor View', 6.0),\n",
       "             ('LOCATION_Heavner Holding', 6.0),\n",
       "             ('LOCATION_Providence Country Club', 6.0),\n",
       "             ('LOCATION_Providence Plantation', 6.0),\n",
       "             ('LOCATION_Raintree', 6.0),\n",
       "             ('LOCATION_Redwood Forest', 6.0),\n",
       "             ('LOCATION_Southgate', 6.0),\n",
       "             ('LOCATION_Stradley Mountain Park', 6.0),\n",
       "             ('LOCATION_Tanglewood', 6.0),\n",
       "             ('LOCATION_Wilshire Park', 6.0),\n",
       "             ('LOCATION_Wtrstone', 6.0),\n",
       "             ('LOCATION_140 West Franklin Condominium', 5.0),\n",
       "             ('LOCATION_Becketts Ridge', 5.0),\n",
       "             ('LOCATION_Blanchard at Carmel', 5.0),\n",
       "             ('LOCATION_Cain Road Estates', 5.0),\n",
       "             ('LOCATION_Country Meadows', 5.0),\n",
       "             ('LOCATION_Davidson Downes', 5.0),\n",
       "             ('LOCATION_East 54', 5.0),\n",
       "             ('LOCATION_Fishermans Cove', 5.0),\n",
       "             ('LOCATION_Flowers Plantation', 5.0),\n",
       "             ('LOCATION_Holly Ridge', 5.0),\n",
       "             ('LOCATION_Horton Hills', 5.0),\n",
       "             ('LOCATION_Iredell Heights', 5.0),\n",
       "             ('LOCATION_Locke Mill Plaza', 5.0),\n",
       "             ('LOCATION_Oakland Heights', 5.0),\n",
       "             ('LOCATION_Old West Durham', 5.0),\n",
       "             ('LOCATION_Pinnacle Shores', 5.0),\n",
       "             ('LOCATION_Pinnacle at Arabella Heights', 5.0),\n",
       "             ('LOCATION_Ridge Creek', 5.0),\n",
       "             ('LOCATION_Ridgefield', 5.0),\n",
       "             ('LOCATION_Rosecroft', 5.0),\n",
       "             ('LOCATION_Shannon Acres', 5.0),\n",
       "             ('LOCATION_Silver Creek', 5.0),\n",
       "             ('LOCATION_South Plantation', 5.0),\n",
       "             ('LOCATION_Stony Point', 5.0),\n",
       "             ('LOCATION_The Pinnacle At Park Avenue', 5.0),\n",
       "             ('LOCATION_The Vineyards', 5.0),\n",
       "             ('LOCATION_Trinity Crossing', 5.0),\n",
       "             ('LOCATION_Whitehead Acres', 5.0),\n",
       "             ('LOCATION_Wilson Farm', 5.0),\n",
       "             ('LOCATION_Woodland Acres', 5.0),\n",
       "             ('LOCATION_Admirals Quarters', 4.0),\n",
       "             ('LOCATION_Beechwood Heights', 4.0),\n",
       "             ('LOCATION_Black Mountain Estates', 4.0),\n",
       "             ('LOCATION_Bridgeport', 4.0),\n",
       "             ('LOCATION_Bullington Warehouse Condo', 4.0),\n",
       "             ('LOCATION_Elkin Hills', 4.0),\n",
       "             ('LOCATION_Falls Cove at Lake Norman', 4.0),\n",
       "             ('LOCATION_Firestone Textiles Inc', 4.0),\n",
       "             ('LOCATION_Glen Arden Estates', 4.0),\n",
       "             ('LOCATION_Glendale', 4.0),\n",
       "             ('LOCATION_Governors Club', 4.0),\n",
       "             ('LOCATION_Greenwood', 4.0),\n",
       "             ('LOCATION_Johnston Farms', 4.0),\n",
       "             ('LOCATION_Kimberly', 4.0),\n",
       "             ('LOCATION_Mebane', 4.0),\n",
       "             ('LOCATION_Plaza Hills', 4.0),\n",
       "             ('LOCATION_Ravenstone', 4.0),\n",
       "             ('LOCATION_Rosemary Village', 4.0),\n",
       "             ('LOCATION_Saddlebrook', 4.0),\n",
       "             ('LOCATION_Sunset Park', 4.0),\n",
       "             ('LOCATION_The Mills at Rocky River', 4.0),\n",
       "             ('LOCATION_Trademark', 4.0),\n",
       "             ('LOCATION_Wake', 4.0),\n",
       "             ('LOCATION_Wellesley', 4.0),\n",
       "             ('LOCATION_Windermere', 4.0),\n",
       "             ('LOCATION_45 Asheland Avenue', 3.0),\n",
       "             ('LOCATION_Bent Creek', 3.0),\n",
       "             ('LOCATION_Bradford Park', 3.0),\n",
       "             ('LOCATION_Brookhaven', 3.0),\n",
       "             ('LOCATION_Chestnut Hill', 3.0),\n",
       "             ('LOCATION_Cochran Farms', 3.0),\n",
       "             ('LOCATION_Cottonfield', 3.0),\n",
       "             ('LOCATION_Creekside', 3.0),\n",
       "             ('LOCATION_Davidson Bay', 3.0),\n",
       "             ('LOCATION_Duke Tower Condominiums', 3.0),\n",
       "             ('LOCATION_First Ward', 3.0),\n",
       "             ('LOCATION_Fletcher Hills', 3.0),\n",
       "             ('LOCATION_Geerwood Park', 3.0),\n",
       "             ('LOCATION_Grand Highlands Waterford Lake', 3.0),\n",
       "             ('LOCATION_Greenbay Forest', 3.0),\n",
       "             ('LOCATION_Kernodle Landing', 3.0),\n",
       "             ('LOCATION_Oakley', 3.0),\n",
       "             ('LOCATION_Olmsted', 3.0),\n",
       "             ('LOCATION_Preston Woods', 3.0),\n",
       "             ('LOCATION_Sierra Heights', 3.0),\n",
       "             ('LOCATION_Spicewood', 3.0),\n",
       "             ('LOCATION_Summerwood', 3.0),\n",
       "             ('LOCATION_The Kress Condominium', 3.0),\n",
       "             ('LOCATION_The Timbers', 3.0),\n",
       "             ('LOCATION_The Village at Grants Creek', 3.0),\n",
       "             ('LOCATION_145 Biltmore Avenue Condominiums', 2.0),\n",
       "             ('LOCATION_21 Battery Park', 2.0),\n",
       "             ('LOCATION_Adams Point', 2.0),\n",
       "             ('LOCATION_Beatty Woods', 2.0),\n",
       "             ('LOCATION_Briarcliff', 2.0),\n",
       "             ('LOCATION_Carmel Woods', 2.0),\n",
       "             ('LOCATION_Crowfields Condos', 2.0),\n",
       "             ('LOCATION_Danby', 2.0),\n",
       "             ('LOCATION_Fairfield', 2.0),\n",
       "             ('LOCATION_Forest Lake', 2.0),\n",
       "             ('LOCATION_Fox Meadow', 2.0),\n",
       "             ('LOCATION_Graham Heights', 2.0),\n",
       "             ('LOCATION_Greenbridge Condominium', 2.0),\n",
       "             ('LOCATION_Hallmark Estates', 2.0),\n",
       "             ('LOCATION_Hamburg Crossing', 2.0),\n",
       "             ('LOCATION_Heritage Glen', 2.0),\n",
       "             ('LOCATION_Heydon Hall', 2.0),\n",
       "             ('LOCATION_Highland Creek', 2.0),\n",
       "             ('LOCATION_Lake Forest', 2.0),\n",
       "             ('LOCATION_Larkin', 2.0),\n",
       "             ('LOCATION_Lincoln Park Extension', 2.0),\n",
       "             ('LOCATION_McCauley Historic District', 2.0),\n",
       "             ('LOCATION_Mccullough', 2.0),\n",
       "             ('LOCATION_Meadow Oaks', 2.0),\n",
       "             ('LOCATION_Meadowbrook', 2.0),\n",
       "             ('LOCATION_Montibello', 2.0),\n",
       "             ('LOCATION_Mt Ulla', 2.0),\n",
       "             ('LOCATION_North Shore', 2.0),\n",
       "             ('LOCATION_Northlake', 2.0),\n",
       "             ('LOCATION_Oak Grove', 2.0),\n",
       "             ('LOCATION_Prospect Park', 2.0),\n",
       "             ('LOCATION_Random Meadow', 2.0),\n",
       "             ('LOCATION_Rose Manor', 2.0),\n",
       "             ('LOCATION_Rowan Terrace', 2.0),\n",
       "             ('LOCATION_Shady Haven', 2.0),\n",
       "             ('LOCATION_Shelton Hills', 2.0),\n",
       "             ('LOCATION_Skybrook', 2.0),\n",
       "             ('LOCATION_Sondley Estates', 2.0),\n",
       "             ('LOCATION_Springcrest', 2.0),\n",
       "             ('LOCATION_Starmount Forest', 2.0),\n",
       "             ('LOCATION_Starview Heights', 2.0),\n",
       "             ('LOCATION_Stonebridge', 2.0),\n",
       "             ('LOCATION_Sutton Hall', 2.0),\n",
       "             ('LOCATION_The Farms', 2.0),\n",
       "             ('LOCATION_The Fourth Ward Square', 2.0),\n",
       "             ('LOCATION_The Heathers', 2.0),\n",
       "             ('LOCATION_Village Green', 2.0),\n",
       "             ('LOCATION_Watermark', 2.0),\n",
       "             ('LOCATION_Wiltshire Village', 2.0),\n",
       "             ('LOCATION_Woodlawn', 2.0),\n",
       "             ('LOCATION_60 North Market', 1.0),\n",
       "             ('LOCATION_Aberdeen Downs', 1.0),\n",
       "             ('LOCATION_Alexis', 1.0),\n",
       "             ('LOCATION_Amberley', 1.0),\n",
       "             ('LOCATION_Antiquity', 1.0),\n",
       "             ('LOCATION_Ashbrook', 1.0),\n",
       "             ('LOCATION_Ashley Forest', 1.0),\n",
       "             ('LOCATION_Bahia Bay', 1.0),\n",
       "             ('LOCATION_Ballantyne Country Club', 1.0),\n",
       "             ('LOCATION_Beacon Pointe', 1.0),\n",
       "             ('LOCATION_Bellechene East', 1.0),\n",
       "             ('LOCATION_Bellevue', 1.0),\n",
       "             ('LOCATION_Biltmore Park Town Square', 1.0),\n",
       "             ('LOCATION_Brassfield Meadows', 1.0),\n",
       "             ('LOCATION_Brightwood Farm', 1.0),\n",
       "             ('LOCATION_Cambridge Park', 1.0),\n",
       "             ('LOCATION_Carlyle Condominiums', 1.0),\n",
       "             ('LOCATION_Castleford', 1.0),\n",
       "             ('LOCATION_Cedar Walk', 1.0),\n",
       "             ('LOCATION_Cedarwood Acres', 1.0),\n",
       "             ('LOCATION_Central Point', 1.0),\n",
       "             ('LOCATION_Cleveland Heights', 1.0),\n",
       "             ('LOCATION_Courtyards At Ashley Woods', 1.0),\n",
       "             ('LOCATION_Craggy Park', 1.0),\n",
       "             ('LOCATION_Crouse', 1.0),\n",
       "             ('LOCATION_Crowders View', 1.0),\n",
       "             ('LOCATION_Crystal Pines', 1.0),\n",
       "             ('LOCATION_Davidson Pointe', 1.0),\n",
       "             ('LOCATION_Deer Haven', 1.0),\n",
       "             ('LOCATION_Eagle Park', 1.0),\n",
       "             ('LOCATION_Eastway Park', 1.0),\n",
       "             ('LOCATION_Elm Grove', 1.0),\n",
       "             ('LOCATION_Five Oaks', 1.0),\n",
       "             ('LOCATION_Forest Creek', 1.0),\n",
       "             ('LOCATION_Forest Park', 1.0),\n",
       "             ('LOCATION_Fox Lair Crossings', 1.0),\n",
       "             ('LOCATION_Foxmoor', 1.0),\n",
       "             ('LOCATION_Ganyard Farm', 1.0),\n",
       "             ('LOCATION_Glenmere', 1.0),\n",
       "             ('LOCATION_Granary Oaks', 1.0),\n",
       "             ('LOCATION_Granville Forest', 1.0),\n",
       "             ('LOCATION_Gresham Crossing', 1.0),\n",
       "             ('LOCATION_Greyson', 1.0),\n",
       "             ('LOCATION_Harbor Point Village', 1.0),\n",
       "             ('LOCATION_Harmony Hills', 1.0),\n",
       "             ('LOCATION_Harmony at Matthews', 1.0),\n",
       "             ('LOCATION_Hope Valley Farms', 1.0),\n",
       "             ('LOCATION_Horneyhurst', 1.0),\n",
       "             ('LOCATION_Huntington Ridge', 1.0),\n",
       "             ('LOCATION_Hyde Park', 1.0),\n",
       "             ('LOCATION_Imagery On Mtn Island', 1.0),\n",
       "             ('LOCATION_Irish Creek', 1.0),\n",
       "             ('LOCATION_Iron Station', 1.0),\n",
       "             ('LOCATION_Kingsley', 1.0),\n",
       "             ('LOCATION_Lake Julian Trails', 1.0),\n",
       "             ('LOCATION_Lake Norman Air Park', 1.0),\n",
       "             ('LOCATION_LakeWalk', 1.0),\n",
       "             ('LOCATION_Lansdowne', 1.0),\n",
       "             ('LOCATION_Mackintosh On The Lake', 1.0),\n",
       "             ('LOCATION_Maple Trace', 1.0),\n",
       "             ('LOCATION_Mason Farm', 1.0),\n",
       "             ('LOCATION_McLean Overlake', 1.0),\n",
       "             ('LOCATION_Meadow Creek', 1.0),\n",
       "             ('LOCATION_Millers Grove', 1.0),\n",
       "             ('LOCATION_Moss Creek Village', 1.0),\n",
       "             ('LOCATION_Northside', 1.0),\n",
       "             ('LOCATION_Pebble Creek', 1.0),\n",
       "             ('LOCATION_Piedmont Row', 1.0),\n",
       "             ('LOCATION_Pineville', 1.0),\n",
       "             ('LOCATION_Powell Place', 1.0),\n",
       "             ('LOCATION_Presque Isle Villas', 1.0),\n",
       "             ('LOCATION_Providence Glen', 1.0),\n",
       "             ('LOCATION_Quail Hollow Estates', 1.0),\n",
       "             ('LOCATION_Quail Village', 1.0),\n",
       "             ('LOCATION_Queens Cove', 1.0),\n",
       "             ('LOCATION_Raeburn', 1.0),\n",
       "             ('LOCATION_Rama Woods', 1.0),\n",
       "             ('LOCATION_Riverwood Plantation', 1.0),\n",
       "             ('LOCATION_Royal Troon', 1.0),\n",
       "             ('LOCATION_Saddlewood', 1.0),\n",
       "             ('LOCATION_Sandy Ridge', 1.0),\n",
       "             ('LOCATION_Saxapahaw', 1.0),\n",
       "             ('LOCATION_Selwyn Commons', 1.0),\n",
       "             ('LOCATION_Seven Springs', 1.0),\n",
       "             ('LOCATION_Shepherd Lane Condos', 1.0),\n",
       "             ('LOCATION_Southpoint', 1.0),\n",
       "             ('LOCATION_Southwick Farm', 1.0),\n",
       "             ('LOCATION_Sparger Springs', 1.0),\n",
       "             ('LOCATION_Springs Village', 1.0),\n",
       "             ('LOCATION_Stephens Ridge', 1.0),\n",
       "             ('LOCATION_Stratford Oaks', 1.0),\n",
       "             ('LOCATION_The Conservancy at McLean', 1.0),\n",
       "             ('LOCATION_The Cottages at Averys Creek', 1.0),\n",
       "             ('LOCATION_The Gables', 1.0),\n",
       "             ('LOCATION_The Village At Parkside', 1.0),\n",
       "             ('LOCATION_The Village at Lake Michael', 1.0),\n",
       "             ('LOCATION_Tree Farm', 1.0),\n",
       "             ('LOCATION_Tucker Chase', 1.0),\n",
       "             ('LOCATION_Twelve Oaks', 1.0),\n",
       "             ('LOCATION_Vermillion', 1.0),\n",
       "             ('LOCATION_Walkers Trace', 1.0),\n",
       "             ('LOCATION_Walters Ridge', 1.0),\n",
       "             ('LOCATION_Waterfront at Langtree', 1.0),\n",
       "             ('LOCATION_Waters Edge', 1.0),\n",
       "             ('LOCATION_Waterside Landing', 1.0),\n",
       "             ('LOCATION_Webbwood', 1.0),\n",
       "             ('LOCATION_West Square Historical', 1.0),\n",
       "             ('LOCATION_Whitegate', 1.0),\n",
       "             ('LOCATION_Wildewood', 1.0),\n",
       "             ('LOCATION_Wildflower', 1.0),\n",
       "             ('LOCATION_Wildwood', 1.0),\n",
       "             ('LOCATION_Willow Springs', 1.0),\n",
       "             ('LOCATION_Woodfield Condos', 1.0),\n",
       "             ('LOCATION_Woodfin', 1.0)])"
      ]
     },
     "execution_count": 53,
     "metadata": {},
     "output_type": "execute_result"
    }
   ],
   "source": [
    "# every_column_except_y= [col for col in X_train.columns if col not in ['PRICE','ID']]\n",
    "if not showcase:\n",
    "    model.fit(train_X, train_Y)\n",
    "OrderedDict(sorted(model.get_booster().get_fscore().items(), key=lambda t: t[1], reverse=True))"
   ]
  },
  {
   "cell_type": "code",
   "execution_count": 54,
   "metadata": {},
   "outputs": [],
   "source": [
    "if not showcase:\n",
    "    model.save_model(\"CurrentModel.json\")"
   ]
  },
  {
   "cell_type": "code",
   "execution_count": 55,
   "metadata": {
    "scrolled": true
   },
   "outputs": [],
   "source": [
    "most_relevant_features= list( dict((k, v) for k, v in model.get_booster().get_fscore().items() if v >= 10).keys())"
   ]
  },
  {
   "cell_type": "code",
   "execution_count": 56,
   "metadata": {},
   "outputs": [
    {
     "data": {
      "text/plain": [
       "[363023, 536465, 208402, 434188, 533809]"
      ]
     },
     "execution_count": 56,
     "metadata": {},
     "output_type": "execute_result"
    }
   ],
   "source": [
    "#y_pred = model.predict(test_X)\n",
    "y_pred = np.expm1(model.predict(test_X))\n",
    "predictions = [round(value) for value in y_pred]\n",
    "predictions[:5]"
   ]
  },
  {
   "cell_type": "code",
   "execution_count": 57,
   "metadata": {},
   "outputs": [],
   "source": [
    "test_Y = np.expm1(test_Y)"
   ]
  },
  {
   "cell_type": "code",
   "execution_count": 58,
   "metadata": {},
   "outputs": [
    {
     "data": {
      "text/plain": [
       "26311    380000.0\n",
       "26206    661000.0\n",
       "4532     120000.0\n",
       "42918    565000.0\n",
       "16712    365000.0\n",
       "Name: PRICE, dtype: float64"
      ]
     },
     "execution_count": 58,
     "metadata": {},
     "output_type": "execute_result"
    }
   ],
   "source": [
    "test_Y.iloc[:5]"
   ]
  },
  {
   "cell_type": "code",
   "execution_count": 59,
   "metadata": {},
   "outputs": [],
   "source": [
    "errlist = []\n",
    "ty = list(test_Y)\n",
    "for i, v in enumerate(predictions):\n",
    "    errlist.append(abs(ty[i]-predictions[i]))"
   ]
  },
  {
   "cell_type": "markdown",
   "metadata": {},
   "source": [
    "## Mean Prediction Error in USD"
   ]
  },
  {
   "cell_type": "code",
   "execution_count": 60,
   "metadata": {},
   "outputs": [
    {
     "data": {
      "text/plain": [
       "'$51868.28'"
      ]
     },
     "execution_count": 60,
     "metadata": {},
     "output_type": "execute_result"
    }
   ],
   "source": [
    "f\"${sum(errlist)/len(errlist):.2f}\""
   ]
  },
  {
   "cell_type": "code",
   "execution_count": null,
   "metadata": {},
   "outputs": [],
   "source": []
  }
 ],
 "metadata": {
  "colab": {
   "collapsed_sections": [],
   "provenance": []
  },
  "kernelspec": {
   "display_name": "Python 3 (ipykernel)",
   "language": "python",
   "name": "python3"
  },
  "language_info": {
   "codemirror_mode": {
    "name": "ipython",
    "version": 3
   },
   "file_extension": ".py",
   "mimetype": "text/x-python",
   "name": "python",
   "nbconvert_exporter": "python",
   "pygments_lexer": "ipython3",
   "version": "3.9.2"
  }
 },
 "nbformat": 4,
 "nbformat_minor": 1
}
