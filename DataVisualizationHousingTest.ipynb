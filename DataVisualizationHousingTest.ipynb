{
 "cells": [
  {
   "cell_type": "markdown",
   "id": "6fb8ab68",
   "metadata": {},
   "source": [
    "# Housing Dataset Visualization Demonstration"
   ]
  },
  {
   "cell_type": "code",
   "execution_count": 61,
   "id": "5586a17d",
   "metadata": {},
   "outputs": [],
   "source": [
    "import numpy as np\n",
    "import pandas as pd\n",
    "import glob\n",
    "import os\n",
    "import xgboost\n",
    "import csv as csv\n",
    "import ipychart as ipc\n",
    "from ipychart import Chart\n",
    "from xgboost import plot_importance\n",
    "from matplotlib import pyplot\n",
    "from sklearn.model_selection import cross_val_score,KFold\n",
    "from sklearn.model_selection import train_test_split\n",
    "from sklearn.metrics import mean_absolute_error\n",
    "from sklearn.metrics import accuracy_score\n",
    "import matplotlib.pyplot as plt\n",
    "# from sklearn.grid_search import GridSearchCV   #Perforing grid search\n",
    "from scipy.stats import skew\n",
    "from collections import OrderedDict"
   ]
  },
  {
   "cell_type": "markdown",
   "id": "fd20d131",
   "metadata": {},
   "source": [
    "### Initialize data and variables"
   ]
  },
  {
   "cell_type": "code",
   "execution_count": 62,
   "id": "d21a4f80",
   "metadata": {},
   "outputs": [
    {
     "name": "stdout",
     "output_type": "stream",
     "text": [
      "         SOLD DATE              PROPERTY TYPE              ADDRESS  \\\n",
      "0   August-29-2022  Single Family Residential        239 Raper Cir   \n",
      "1   August-15-2022  Single Family Residential  1259 Kent Downs Ave   \n",
      "2   August-19-2022  Single Family Residential     1119 Blueview Dr   \n",
      "3  November-3-2021  Single Family Residential      5205 Seward Cir   \n",
      "4    April-27-2022  Single Family Residential          5316 Cox Ln   \n",
      "\n",
      "             CITY STATE OR PROVINCE ZIP OR POSTAL CODE   PRICE  BEDS  BATHS  \\\n",
      "0       Lexington                NC              27295  315500   3.0    2.0   \n",
      "1         Concord                NC              28027  373000   4.0    2.5   \n",
      "2  Black Mountain                NC              28704  440000   3.0    2.0   \n",
      "3       Pfafftown                NC              27106  212000   3.0    2.0   \n",
      "4         Liberty                NC              27205  430000   3.0    2.0   \n",
      "\n",
      "           LOCATION  SQUARE FEET  LOT SIZE  YEAR BUILT  $/SQUARE FEET  \\\n",
      "0  Cardinal Terrace          NaN   27878.0      1989.0          151.0   \n",
      "1     Roberta Ridge       2207.0    6534.0      2020.0          169.0   \n",
      "2     Padgett Place       1567.0    5227.0      2020.0          281.0   \n",
      "3               NaN          NaN   20473.0      1976.0          111.0   \n",
      "4               NaN          NaN  362419.0      1977.0          138.0   \n",
      "\n",
      "   HOA/MONTH  \\\n",
      "0        NaN   \n",
      "1        NaN   \n",
      "2       50.0   \n",
      "3        NaN   \n",
      "4        NaN   \n",
      "\n",
      "  URL (SEE https://www.redfin.com/buy-a-home/comparative-market-analysis FOR INFO ON PRICING)  \\\n",
      "0  https://www.redfin.com/NC/Lexington/239-Raper-...                                            \n",
      "1  https://www.redfin.com/NC/Concord/1259-Kent-Do...                                            \n",
      "2  https://www.redfin.com/NC/Black-Mountain/1119-...                                            \n",
      "3  https://www.redfin.com/NC/Pfafftown/5205-Sewar...                                            \n",
      "4  https://www.redfin.com/NC/Liberty/5316-Cox-Ln-...                                            \n",
      "\n",
      "    LATITUDE  LONGITUDE  \n",
      "0  35.967062 -80.284418  \n",
      "1  35.368932 -80.615888  \n",
      "2  35.627785 -82.307912  \n",
      "3  36.186924 -80.371802  \n",
      "4  35.885770 -79.544055  \n"
     ]
    }
   ],
   "source": [
    "dataFrame = pd.read_csv(\"./CombinedData.csv\", header = 0, low_memory=False)\n",
    "# dataFrame.insert(0, 'ID', range(0,len(dataFrame)))\n",
    "dataFrame = dataFrame.sample(frac=1).reset_index(drop=True)\n",
    "print(dataFrame.head(5))"
   ]
  },
  {
   "cell_type": "code",
   "execution_count": 63,
   "id": "7b195b8e",
   "metadata": {
    "scrolled": true
   },
   "outputs": [],
   "source": [
    "dataFrame = dataFrame.drop(columns=['URL (SEE https://www.redfin.com/buy-a-home/comparative-market-analysis FOR INFO ON PRICING)'], axis = 1)"
   ]
  },
  {
   "cell_type": "markdown",
   "id": "4465d107",
   "metadata": {},
   "source": [
    "### General ZIP code distribution chart"
   ]
  },
  {
   "cell_type": "code",
   "execution_count": 65,
   "id": "7fa7cf1c",
   "metadata": {},
   "outputs": [
    {
     "data": {
      "application/vnd.jupyter.widget-view+json": {
       "model_id": "b3badc3f16bf4cedbc6baa7ac40aeb82",
       "version_major": 2,
       "version_minor": 0
      },
      "text/plain": [
       "Chart(layout=Layout(align_self='stretch', height='auto'))"
      ]
     },
     "metadata": {},
     "output_type": "display_data"
    }
   ],
   "source": [
    "ipc.countplot(data=dataFrame, x='ZIP OR POSTAL CODE')"
   ]
  },
  {
   "cell_type": "markdown",
   "id": "a02404f6",
   "metadata": {},
   "source": [
    "### Targeted information on line plot"
   ]
  },
  {
   "cell_type": "markdown",
   "id": "3a55de30",
   "metadata": {},
   "source": [
    "For this example, let's assume we're interested in information regarding price based on sales date. In this regard, although it might be useful for a user to know in general the rough trends of housing such as the example given below, we see that a refinement to either be able to specify a State, Zip, or City would be far more beneficial to the end user."
   ]
  },
  {
   "cell_type": "code",
   "execution_count": 66,
   "id": "53ce5406",
   "metadata": {},
   "outputs": [
    {
     "data": {
      "application/vnd.jupyter.widget-view+json": {
       "model_id": "8bda96515a8e4f448d1bfddc1dbc6740",
       "version_major": 2,
       "version_minor": 0
      },
      "text/plain": [
       "Chart(layout=Layout(align_self='stretch', height='auto'))"
      ]
     },
     "metadata": {},
     "output_type": "display_data"
    }
   ],
   "source": [
    "datalabels_arguments = {'display': False, 'borderWidth': 1, 'anchor': 'end', \n",
    "                        'align': 'end', 'borderRadius': 5, 'color': '#fff'}\n",
    "\n",
    "ipc.lineplot(data=dataFrame,\n",
    "             x='SOLD DATE',\n",
    "             y='PRICE',\n",
    "             hue='STATE OR PROVINCE', \n",
    "             dataset_options={'fill': False, 'datalabels': datalabels_arguments}, \n",
    "             colorscheme='office.Parallax6')"
   ]
  },
  {
   "cell_type": "markdown",
   "id": "80e2e734",
   "metadata": {},
   "source": [
    "We can fix this problem by shaping the data before sending to a chart such as the below process, demonstrating finding only houses sold in North Carolina in our dataset using boolean masks."
   ]
  },
  {
   "cell_type": "code",
   "execution_count": 67,
   "id": "fa83aa2e",
   "metadata": {
    "scrolled": true
   },
   "outputs": [
    {
     "name": "stdout",
     "output_type": "stream",
     "text": [
      "                         SOLD DATE              PROPERTY TYPE  \\\n",
      "STATE OR PROVINCE                                               \n",
      "NC                  August-29-2022  Single Family Residential   \n",
      "NC                  August-15-2022  Single Family Residential   \n",
      "NC                  August-19-2022  Single Family Residential   \n",
      "NC                 November-3-2021  Single Family Residential   \n",
      "NC                   April-27-2022  Single Family Residential   \n",
      "...                            ...                        ...   \n",
      "NC                    July-28-2022  Single Family Residential   \n",
      "NC                  August-12-2022  Single Family Residential   \n",
      "NC                             NaN                Condo/Co-op   \n",
      "NC                 January-31-2022  Single Family Residential   \n",
      "NC                    March-8-2022  Single Family Residential   \n",
      "\n",
      "                                ADDRESS            CITY ZIP OR POSTAL CODE  \\\n",
      "STATE OR PROVINCE                                                            \n",
      "NC                        239 Raper Cir       Lexington              27295   \n",
      "NC                  1259 Kent Downs Ave         Concord              28027   \n",
      "NC                     1119 Blueview Dr  Black Mountain              28704   \n",
      "NC                      5205 Seward Cir       Pfafftown              27106   \n",
      "NC                          5316 Cox Ln         Liberty              27205   \n",
      "...                                 ...             ...                ...   \n",
      "NC                   1800 Cunningham Rd     Thomasville              27360   \n",
      "NC                 140 Syracuse Dr #459         Clayton              27527   \n",
      "NC                   801 W McGee St #11      Greensboro              27401   \n",
      "NC                      305 S Rowan Ave         Spencer              28144   \n",
      "NC                        331 Sunset Dr       Asheville              28806   \n",
      "\n",
      "                    PRICE  BEDS  BATHS          LOCATION  SQUARE FEET  \\\n",
      "STATE OR PROVINCE                                                       \n",
      "NC                 315500   3.0    2.0  Cardinal Terrace          NaN   \n",
      "NC                 373000   4.0    2.5     Roberta Ridge       2207.0   \n",
      "NC                 440000   3.0    2.0     Padgett Place       1567.0   \n",
      "NC                 212000   3.0    2.0               NaN          NaN   \n",
      "NC                 430000   3.0    2.0               NaN          NaN   \n",
      "...                   ...   ...    ...               ...          ...   \n",
      "NC                 320000   3.0    2.0       Thomasville       1530.0   \n",
      "NC                 661236   4.0    3.0         Portofino       3281.0   \n",
      "NC                 208000   2.0    1.0               NaN        960.0   \n",
      "NC                 167000   2.0    1.0           Spencer       1761.0   \n",
      "NC                 245000   1.0    1.0        Grove Park          NaN   \n",
      "\n",
      "                   LOT SIZE  YEAR BUILT  $/SQUARE FEET  HOA/MONTH   LATITUDE  \\\n",
      "STATE OR PROVINCE                                                              \n",
      "NC                  27878.0      1989.0          151.0        NaN  35.967062   \n",
      "NC                   6534.0      2020.0          169.0        NaN  35.368932   \n",
      "NC                   5227.0      2020.0          281.0       50.0  35.627785   \n",
      "NC                  20473.0      1976.0          111.0        NaN  36.186924   \n",
      "NC                 362419.0      1977.0          138.0        NaN  35.885770   \n",
      "...                     ...         ...            ...        ...        ...   \n",
      "NC                  30927.0      2022.0          209.0        NaN  35.811988   \n",
      "NC                  42253.0      2022.0          202.0      150.0  35.628842   \n",
      "NC                      NaN      1905.0          217.0        NaN  36.069118   \n",
      "NC                   7405.0      1907.0           95.0        NaN  35.691125   \n",
      "NC                  10890.0      1900.0            NaN        NaN  35.610629   \n",
      "\n",
      "                   LONGITUDE  \n",
      "STATE OR PROVINCE             \n",
      "NC                -80.284418  \n",
      "NC                -80.615888  \n",
      "NC                -82.307912  \n",
      "NC                -80.371802  \n",
      "NC                -79.544055  \n",
      "...                      ...  \n",
      "NC                -80.125743  \n",
      "NC                -78.362104  \n",
      "NC                -79.798958  \n",
      "NC                -80.434348  \n",
      "NC                -82.539830  \n",
      "\n",
      "[78977 rows x 16 columns]\n"
     ]
    }
   ],
   "source": [
    "print(dataFrame.set_index('STATE OR PROVINCE').loc['NC'])"
   ]
  },
  {
   "cell_type": "markdown",
   "id": "817a2010",
   "metadata": {},
   "source": [
    "In the following instance we locate all properties in North Carolina by checking the column of values STATE OR PROVINCE. Included in this example is a simple passing of options structured as python dicts to our chart via variable. This is done to as closely mirror what the options of chart.js on the front-end would look like, and was deliberately kept simplistic for demonstration. "
   ]
  },
  {
   "cell_type": "code",
   "execution_count": 90,
   "id": "866dbe10",
   "metadata": {
    "scrolled": false
   },
   "outputs": [
    {
     "data": {
      "application/vnd.jupyter.widget-view+json": {
       "model_id": "bc15d5808fd54ed3a463bd399aed025f",
       "version_major": 2,
       "version_minor": 0
      },
      "text/plain": [
       "Chart(layout=Layout(align_self='stretch', height='auto'))"
      ]
     },
     "metadata": {},
     "output_type": "display_data"
    }
   ],
   "source": [
    "onlyNCHouses = dataFrame.set_index('STATE OR PROVINCE', drop=False).loc['NC']\n",
    "onlyGboroHouses = dataFrame.set_index('CITY', drop=False).loc['Greensboro']\n",
    "onlyZIPHouses = dataFrame.set_index('ZIP OR POSTAL CODE', drop=False).loc['27577']\n",
    "\n",
    "\n",
    "\n",
    "datalabels_arguments = {'display': False, 'borderWidth': 1, 'anchor': 'end', \n",
    "                        'align': 'end', 'borderRadius': 5, 'color': '#fff'}\n",
    "state_options = {\n",
    "    'plugins': {\n",
    "    'title': {\n",
    "            'display': True,\n",
    "            'text': 'Houses in North Carolina',\n",
    "            },\n",
    "    'legend':  {\n",
    "            'display': True,\n",
    "            'labels': {'boxWidth': 30, 'fontSize': 14},       \n",
    "        },\n",
    "    }\n",
    "}\n",
    "city_options = {\n",
    "    'plugins': {\n",
    "    'title': {\n",
    "            'display': True,\n",
    "            'text': 'Houses in Greensboro, NC',\n",
    "            },\n",
    "    'legend':  {\n",
    "            'display': True,\n",
    "            'labels': {'boxWidth': 30, 'fontSize': 14},       \n",
    "        },\n",
    "    }\n",
    "}\n",
    "zip_options = {\n",
    "    'plugins': {\n",
    "    'title': {\n",
    "            'display': True,\n",
    "            'text': 'Houses in Zip Code 27577',\n",
    "            },\n",
    "    'legend':  {\n",
    "            'display': True,\n",
    "            'labels': {'boxWidth': 30, 'fontSize': 14},       \n",
    "        },\n",
    "    }\n",
    "}\n",
    "stateChart =  ipc.lineplot(data=onlyNCHouses,\n",
    "             x='SOLD DATE',\n",
    "             y='PRICE',\n",
    "             hue='STATE OR PROVINCE', \n",
    "             dataset_options={'fill': False, 'datalabels': datalabels_arguments}, \n",
    "             colorscheme='office.Parallax6',\n",
    "                           options = state_options)\n",
    "cityChart =  ipc.lineplot(data=onlyGboroHouses,\n",
    "             x='SOLD DATE',\n",
    "             y='PRICE',\n",
    "             hue='CITY', \n",
    "             dataset_options={'fill': False, 'datalabels': datalabels_arguments}, \n",
    "             colorscheme='office.Parallax6',\n",
    "                           options = city_options)\n",
    "zipChart =  ipc.lineplot(data=onlyZIPHouses,\n",
    "             x='SOLD DATE',\n",
    "             y='PRICE',\n",
    "             hue='ZIP OR POSTAL CODE', \n",
    "             dataset_options={'fill': False, 'datalabels': datalabels_arguments}, \n",
    "             colorscheme='office.Parallax6',\n",
    "                           options = zip_options)\n",
    "stateChart"
   ]
  },
  {
   "cell_type": "markdown",
   "id": "0db8e975",
   "metadata": {},
   "source": [
    "### Repeating process for zip code"
   ]
  },
  {
   "cell_type": "markdown",
   "id": "e27e1e88",
   "metadata": {},
   "source": [
    "As this process has now previously been explained, what follows are the same dataset of houses in zip code 27577."
   ]
  },
  {
   "cell_type": "code",
   "execution_count": 91,
   "id": "63415e62",
   "metadata": {
    "scrolled": false
   },
   "outputs": [
    {
     "data": {
      "application/vnd.jupyter.widget-view+json": {
       "model_id": "91a6e39d99ce4c28aabe1e33b3fb1b83",
       "version_major": 2,
       "version_minor": 0
      },
      "text/plain": [
       "Chart(layout=Layout(align_self='stretch', height='auto'))"
      ]
     },
     "metadata": {},
     "output_type": "display_data"
    }
   ],
   "source": [
    "zipChart"
   ]
  },
  {
   "cell_type": "markdown",
   "id": "73e23dd1",
   "metadata": {},
   "source": [
    "And we do the same for cities."
   ]
  },
  {
   "cell_type": "code",
   "execution_count": 89,
   "id": "55e40036",
   "metadata": {},
   "outputs": [
    {
     "data": {
      "application/vnd.jupyter.widget-view+json": {
       "model_id": "53bdfd148ca945c4b5f40cb632839da2",
       "version_major": 2,
       "version_minor": 0
      },
      "text/plain": [
       "Chart(layout=Layout(align_self='stretch', height='auto'))"
      ]
     },
     "metadata": {},
     "output_type": "display_data"
    }
   ],
   "source": [
    "cityChart"
   ]
  },
  {
   "cell_type": "code",
   "execution_count": null,
   "id": "c61ea5e6",
   "metadata": {},
   "outputs": [],
   "source": []
  }
 ],
 "metadata": {
  "kernelspec": {
   "display_name": "Python 3 (ipykernel)",
   "language": "python",
   "name": "python3"
  },
  "language_info": {
   "codemirror_mode": {
    "name": "ipython",
    "version": 3
   },
   "file_extension": ".py",
   "mimetype": "text/x-python",
   "name": "python",
   "nbconvert_exporter": "python",
   "pygments_lexer": "ipython3",
   "version": "3.9.12"
  }
 },
 "nbformat": 4,
 "nbformat_minor": 5
}
